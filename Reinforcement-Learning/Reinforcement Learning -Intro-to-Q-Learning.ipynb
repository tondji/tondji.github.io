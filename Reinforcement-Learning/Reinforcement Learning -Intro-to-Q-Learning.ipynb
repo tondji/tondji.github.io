{
 "cells": [
  {
   "cell_type": "markdown",
   "metadata": {},
   "source": [
    "Machine learning is assumed to be either supervised or unsupervised but a recent new-comer broke the status-quo - reinforcement learning. Supervised and unsupervised approaches require data to model, not reinforcement learning! That’s right, it can explore space with a handful of instructions, analyze its surroundings one step at a time, and build data as it goes along for modeling.\n",
    "In this walk-through, we’ll use Q-learning to find the shortest path between two areas. It has the ability to embark on a journey with no knowledge of what to do next. This approach requires constant trial and error as it collects data about its surroundings and figures out how to accomplish its goal. This opens up interesting possibilities, what about recording additional information, like environmental details along the way that it may not fully understand until after it reaches its goal? And once reached, could it review that additional data to determine if any of it would have helped it reach its goal faster? \n",
    "\n",
    "In this Tutorial, we try to find the shortest path starting from point zero (0) to point seven (7). To achieve that goal, we train a agent using Reinforcement Learning, using Q-learning algorithm and at the end of the training it will be able to tell us the shortest path starting from 0 to 7."
   ]
  },
  {
   "cell_type": "markdown",
   "metadata": {},
   "source": [
    "![alt text](./grph.png \"image title\")"
   ]
  },
  {
   "cell_type": "code",
   "execution_count": 1,
   "metadata": {
    "collapsed": true
   },
   "outputs": [],
   "source": [
    "import numpy as np\n",
    "import pylab as plt\n",
    "import networkx as nx"
   ]
  },
  {
   "cell_type": "markdown",
   "metadata": {},
   "source": [
    "# map cell to cell, add circular cell to goal point"
   ]
  },
  {
   "cell_type": "code",
   "execution_count": 2,
   "metadata": {
    "collapsed": true
   },
   "outputs": [],
   "source": [
    "points_list = [(0,1), (1,5), (5,6), (5,4), (1,2), (2,3), (2,7)]"
   ]
  },
  {
   "cell_type": "code",
   "execution_count": 24,
   "metadata": {
    "collapsed": false
   },
   "outputs": [
    {
     "data": {
      "image/png": "[encoded data removed]",
      "text/plain": [
       "<matplotlib.figure.Figure at 0x7f27f3b66eb8>"
      ]
     },
     "metadata": {},
     "output_type": "display_data"
    }
   ],
   "source": [
    "# We create a points-list map that represents each direction our bot can take. \n",
    "# Using this format allows us to easily create complex graphs but also easily \n",
    "# visualize everything with networkx graphs.\n",
    "\n",
    "#Our starting point is 0, our goal point is 7.\n",
    "\n",
    "goal = 7\n",
    "plt.figure(figsize=(8,4))\n",
    "G=nx.Graph()\n",
    "G.add_edges_from(points_list)\n",
    "pos = nx.spring_layout(G)\n",
    "nx.draw_networkx_nodes(G,pos)\n",
    "nx.draw_networkx_edges(G,pos)\n",
    "nx.draw_networkx_labels(G,pos)\n",
    "plt.savefig('grph.png')\n",
    "plt.show()"
   ]
  },
  {
   "cell_type": "code",
   "execution_count": 4,
   "metadata": {
    "collapsed": true
   },
   "outputs": [],
   "source": [
    "# how many points in graph? x points\n",
    "MATRIX_SIZE = 8\n",
    "\n",
    "# create matrix x*y\n",
    "R = np.matrix(np.ones(shape=(MATRIX_SIZE, MATRIX_SIZE)))\n",
    "R *= -1"
   ]
  },
  {
   "cell_type": "code",
   "execution_count": 5,
   "metadata": {
    "collapsed": false
   },
   "outputs": [
    {
     "data": {
      "text/plain": [
       "matrix([[-1., -1., -1., -1., -1., -1., -1., -1.],\n",
       "        [-1., -1., -1., -1., -1., -1., -1., -1.],\n",
       "        [-1., -1., -1., -1., -1., -1., -1., -1.],\n",
       "        [-1., -1., -1., -1., -1., -1., -1., -1.],\n",
       "        [-1., -1., -1., -1., -1., -1., -1., -1.],\n",
       "        [-1., -1., -1., -1., -1., -1., -1., -1.],\n",
       "        [-1., -1., -1., -1., -1., -1., -1., -1.],\n",
       "        [-1., -1., -1., -1., -1., -1., -1., -1.]])"
      ]
     },
     "execution_count": 5,
     "metadata": {},
     "output_type": "execute_result"
    }
   ],
   "source": [
    "R"
   ]
  },
  {
   "cell_type": "code",
   "execution_count": 6,
   "metadata": {
    "collapsed": false
   },
   "outputs": [
    {
     "name": "stdout",
     "output_type": "stream",
     "text": [
      "(0, 1)\n",
      "(1, 5)\n",
      "(5, 6)\n",
      "(5, 4)\n",
      "(1, 2)\n",
      "(2, 3)\n",
      "(2, 7)\n"
     ]
    }
   ],
   "source": [
    "# assign zeros to paths and 100 to goal-reaching point\n",
    "for point in points_list:\n",
    "    print(point)\n",
    "    if point[1] == goal:\n",
    "        R[point] = 100\n",
    "    else:\n",
    "        R[point] = 0\n",
    "\n",
    "    if point[0] == goal:\n",
    "        R[point[::-1]] = 100\n",
    "    else:\n",
    "        # reverse of point\n",
    "        R[point[::-1]]= 0\n",
    "# add goal point round trip\n",
    "R[goal,goal]= 100"
   ]
  },
  {
   "cell_type": "code",
   "execution_count": 7,
   "metadata": {
    "collapsed": false
   },
   "outputs": [
    {
     "data": {
      "text/plain": [
       "matrix([[ -1.,   0.,  -1.,  -1.,  -1.,  -1.,  -1.,  -1.],\n",
       "        [  0.,  -1.,   0.,  -1.,  -1.,   0.,  -1.,  -1.],\n",
       "        [ -1.,   0.,  -1.,   0.,  -1.,  -1.,  -1., 100.],\n",
       "        [ -1.,  -1.,   0.,  -1.,  -1.,  -1.,  -1.,  -1.],\n",
       "        [ -1.,  -1.,  -1.,  -1.,  -1.,   0.,  -1.,  -1.],\n",
       "        [ -1.,   0.,  -1.,  -1.,   0.,  -1.,   0.,  -1.],\n",
       "        [ -1.,  -1.,  -1.,  -1.,  -1.,   0.,  -1.,  -1.],\n",
       "        [ -1.,  -1.,   0.,  -1.,  -1.,  -1.,  -1., 100.]])"
      ]
     },
     "execution_count": 7,
     "metadata": {},
     "output_type": "execute_result"
    }
   ],
   "source": [
    "R"
   ]
  },
  {
   "cell_type": "code",
   "execution_count": 8,
   "metadata": {
    "collapsed": false
   },
   "outputs": [
    {
     "data": {
      "text/plain": [
       "0"
      ]
     },
     "execution_count": 8,
     "metadata": {},
     "output_type": "execute_result"
    }
   ],
   "source": [
    "# Here we initialize our Q-learning Matrix\n",
    "Q = np.matrix(np.zeros([MATRIX_SIZE,MATRIX_SIZE]))\n",
    "\n",
    "# learning parameter\n",
    "gamma = 0.8\n",
    "\n",
    "initial_state = 1\n",
    "\n",
    "#---------------------------------------------------------------\n",
    "# Given a particular state we want to know what the available actions that we can do\n",
    "def available_actions(state):\n",
    "    current_state_row = R[state,]\n",
    "    av_act = np.where(current_state_row >= 0)[1]\n",
    "    return av_act\n",
    "\n",
    "available_act = available_actions(initial_state) \n",
    "\n",
    "#---------------------------------------------------------------\n",
    "# Given a range of available action we want to sample the next action that we can do\n",
    "def sample_next_action(available_actions_range):\n",
    "    next_action = int(np.random.choice(available_act,1))\n",
    "    return next_action\n",
    "\n",
    "action = sample_next_action(available_act)\n",
    "\n",
    "#---------------------------------------------------------------\n",
    "\n",
    "def update(current_state, action, gamma):\n",
    "    \n",
    "  max_index = np.where(Q[action,] == np.max(Q[action,]))[1]\n",
    "  \n",
    "  if max_index.shape[0] > 1:\n",
    "      max_index = int(np.random.choice(max_index, size = 1))\n",
    "  else:\n",
    "      max_index = int(max_index)\n",
    "  max_value = Q[action, max_index]\n",
    "  \n",
    "  Q[current_state, action] = R[current_state, action] + gamma * max_value\n",
    "  #print('max_value', R[current_state, action] + gamma * max_value)\n",
    "  \n",
    "  if (np.max(Q) > 0):\n",
    "    return(np.sum(Q/np.max(Q)*100))\n",
    "  else:\n",
    "    return (0)\n",
    "    \n",
    "update(initial_state, action, gamma)"
   ]
  },
  {
   "cell_type": "code",
   "execution_count": 9,
   "metadata": {
    "collapsed": false
   },
   "outputs": [
    {
     "name": "stdout",
     "output_type": "stream",
     "text": [
      "Trained Q matrix:\n",
      "[[  0.          63.98882822   0.           0.           0.\n",
      "    0.           0.           0.        ]\n",
      " [ 51.15364565   0.          79.98603527   0.           0.\n",
      "   51.19106257   0.           0.        ]\n",
      " [  0.          63.98882822   0.          63.98882822   0.\n",
      "    0.           0.          99.98254409]\n",
      " [  0.           0.          79.98603527   0.           0.\n",
      "    0.           0.           0.        ]\n",
      " [  0.           0.           0.           0.           0.\n",
      "   51.19106257   0.           0.        ]\n",
      " [  0.          63.98882822   0.           0.          40.92291652\n",
      "    0.          40.92291652   0.        ]\n",
      " [  0.           0.           0.           0.           0.\n",
      "   51.19106257   0.           0.        ]\n",
      " [  0.           0.          79.92757132   0.           0.\n",
      "    0.           0.         100.        ]]\n",
      "Most efficient path:\n",
      "[0, 1, 2, 7]\n"
     ]
    }
   ],
   "source": [
    "# We keep following Mic’s blog and run the training and testing functions \n",
    "# that will run the update function 700 times allowing the Q-learning\n",
    "# model to figure out the most efficient path:\n",
    "\n",
    "# Training\n",
    "scores = []\n",
    "for i in range(700):\n",
    "    current_state = np.random.randint(0, int(Q.shape[0]))\n",
    "    available_act = available_actions(current_state)\n",
    "    action = sample_next_action(available_act)\n",
    "    score = update(current_state,action,gamma)\n",
    "    scores.append(score)\n",
    "    #print ('Score:', str(score))\n",
    "    \n",
    "print(\"Trained Q matrix:\")\n",
    "print(Q/np.max(Q)*100)\n",
    "\n",
    "# Testing\n",
    "current_state = 0\n",
    "steps = [current_state]\n",
    "\n",
    "while current_state != 7:\n",
    "\n",
    "    next_step_index = np.where(Q[current_state,] == np.max(Q[current_state,]))[1]\n",
    "    \n",
    "    if next_step_index.shape[0] > 1:\n",
    "        next_step_index = int(np.random.choice(next_step_index, size = 1))\n",
    "    else:\n",
    "        next_step_index = int(next_step_index)\n",
    "    \n",
    "    steps.append(next_step_index)\n",
    "    current_state = next_step_index\n",
    "\n",
    "print(\"Most efficient path:\")\n",
    "print(steps)"
   ]
  },
  {
   "cell_type": "code",
   "execution_count": 10,
   "metadata": {
    "collapsed": false
   },
   "outputs": [
    {
     "data": {
      "image/png": "[encoded data removed]",
      "text/plain": [
       "<matplotlib.figure.Figure at 0x7f27f3e54b38>"
      ]
     },
     "metadata": {},
     "output_type": "display_data"
    }
   ],
   "source": [
    "plt.figure(figsize=(8,6))\n",
    "plt.xlabel('# of Iterations')\n",
    "plt.ylabel('score') \n",
    "plt.plot(scores, label = 'score value')\n",
    "plt.legend(loc='best')\n",
    "plt.show()"
   ]
  },
  {
   "cell_type": "markdown",
   "metadata": {},
   "source": [
    "# Version 2.0, with Environmental Details"
   ]
  },
  {
   "cell_type": "code",
   "execution_count": 11,
   "metadata": {
    "collapsed": false
   },
   "outputs": [
    {
     "data": {
      "image/png": "[encoded data removed]",
      "text/plain": [
       "<matplotlib.figure.Figure at 0x7f27f3f82358>"
      ]
     },
     "metadata": {},
     "output_type": "display_data"
    }
   ],
   "source": [
    "bees = [2]\n",
    "smoke = [4,5,6]\n",
    "\n",
    "plt.figure(figsize=(10,8))\n",
    "G=nx.Graph()\n",
    "G.add_edges_from(points_list)\n",
    "mapping={0:'0 - Start', 1:'1', 2:'2 - Bees', 3:'3', 4:'4 - Smoke', 5:'5 - Smoke', 6:'6 - Smoke', 7:'7 - Beehive'} \n",
    "H=nx.relabel_nodes(G,mapping) \n",
    "pos = nx.spring_layout(H)\n",
    "nx.draw_networkx_nodes(H,pos, node_size=[200,200,200,200,200,200,200,200])\n",
    "nx.draw_networkx_edges(H,pos)\n",
    "nx.draw_networkx_labels(H,pos)\n",
    "plt.show()"
   ]
  },
  {
   "cell_type": "code",
   "execution_count": 12,
   "metadata": {
    "collapsed": false
   },
   "outputs": [
    {
     "name": "stdout",
     "output_type": "stream",
     "text": [
      "Bees Found\n",
      "[[ 0.  0.  0.  0.  0.  0.  0.  0.]\n",
      " [ 0.  0. 29.  0.  0.  0.  0.  0.]\n",
      " [ 0.  0.  0.  0.  0.  0.  0.  0.]\n",
      " [ 0.  0. 78.  0.  0.  0.  0.  0.]\n",
      " [ 0.  0.  0.  0.  0.  0.  0.  0.]\n",
      " [ 0.  0.  0.  0.  0.  0.  0.  0.]\n",
      " [ 0.  0.  0.  0.  0.  0.  0.  0.]\n",
      " [ 0.  0. 40.  0.  0.  0.  0.  0.]]\n",
      "Smoke Found\n",
      "[[ 0.  0.  0.  0.  0.  0.  0.  0.]\n",
      " [ 0.  0.  0.  0.  0. 25.  0.  0.]\n",
      " [ 0.  0.  0.  0.  0.  0.  0.  0.]\n",
      " [ 0.  0.  0.  0.  0.  0.  0.  0.]\n",
      " [ 0.  0.  0.  0.  0. 84.  0.  0.]\n",
      " [ 0.  0.  0.  0. 31.  0. 40.  0.]\n",
      " [ 0.  0.  0.  0.  0. 88.  0.  0.]\n",
      " [ 0.  0.  0.  0.  0.  0.  0.  0.]]\n"
     ]
    }
   ],
   "source": [
    "# re-initialize the matrices for new run\n",
    "Q = np.matrix(np.zeros([MATRIX_SIZE,MATRIX_SIZE]))\n",
    "\n",
    "enviro_bees = np.matrix(np.zeros([MATRIX_SIZE,MATRIX_SIZE]))\n",
    "enviro_smoke = np.matrix(np.zeros([MATRIX_SIZE,MATRIX_SIZE]))\n",
    " \n",
    "initial_state = 1\n",
    "\n",
    "def available_actions(state):\n",
    "    current_state_row = R[state,]\n",
    "    av_act = np.where(current_state_row >= 0)[1]\n",
    "    return av_act\n",
    " \n",
    "def sample_next_action(available_actions_range):\n",
    "    next_action = int(np.random.choice(available_act,1))\n",
    "    return next_action\n",
    "\n",
    "def collect_environmental_data(action):\n",
    "    found = []\n",
    "    if action in bees:\n",
    "        found.append('b')\n",
    "\n",
    "    if action in smoke:\n",
    "        found.append('s')\n",
    "    return (found)\n",
    " \n",
    "available_act = available_actions(initial_state) \n",
    " \n",
    "action = sample_next_action(available_act)\n",
    "\n",
    "def update(current_state, action, gamma):\n",
    "  max_index = np.where(Q[action,] == np.max(Q[action,]))[1]\n",
    "  \n",
    "  if max_index.shape[0] > 1:\n",
    "      max_index = int(np.random.choice(max_index, size = 1))\n",
    "  else:\n",
    "      max_index = int(max_index)\n",
    "  max_value = Q[action, max_index]\n",
    "  \n",
    "  Q[current_state, action] = R[current_state, action] + gamma * max_value\n",
    "  #print('max_value', R[current_state, action] + gamma * max_value)\n",
    "  \n",
    "  environment = collect_environmental_data(action)\n",
    "  if 'b' in environment: \n",
    "    enviro_bees[current_state, action] += 1\n",
    "  \n",
    "  if 's' in environment: \n",
    "    enviro_smoke[current_state, action] += 1\n",
    "  \n",
    "  if (np.max(Q) > 0):\n",
    "    return(np.sum(Q/np.max(Q)*100))\n",
    "  else:\n",
    "    return (0)\n",
    "\n",
    "update(initial_state,action,gamma)\n",
    "\n",
    "scores = []\n",
    "for i in range(700):\n",
    "    current_state = np.random.randint(0, int(Q.shape[0]))\n",
    "    available_act = available_actions(current_state)\n",
    "    action = sample_next_action(available_act)\n",
    "    score = update(current_state,action,gamma)\n",
    "\n",
    "# print environmental matrices\n",
    "print('Bees Found')\n",
    "print(enviro_bees)\n",
    "print('Smoke Found')\n",
    "print(enviro_smoke)"
   ]
  },
  {
   "cell_type": "code",
   "execution_count": 13,
   "metadata": {
    "collapsed": false,
    "scrolled": true
   },
   "outputs": [
    {
     "name": "stdout",
     "output_type": "stream",
     "text": [
      "going from: [0 2 5]\n",
      "to: [0 2]\n",
      "going from: [1 4 6]\n",
      "to: [1]\n",
      "going from: [0 2 5]\n",
      "to: [0 2]\n",
      "going from: [1 4 6]\n",
      "to: [1]\n",
      "going from: [0 2 5]\n",
      "to: [0 2]\n",
      "going from: [1 4 6]\n",
      "to: [1]\n",
      "going from: [1 4 6]\n",
      "to: [1]\n",
      "going from: [1 4 6]\n",
      "to: [1]\n",
      "going from: [0 2 5]\n",
      "to: [0 2]\n",
      "going from: [0 2 5]\n",
      "to: [0 2]\n",
      "going from: [1 4 6]\n",
      "to: [1]\n",
      "going from: [0 2 5]\n",
      "to: [0 2]\n",
      "going from: [1 4 6]\n",
      "to: [1]\n",
      "going from: [1 4 6]\n",
      "to: [1]\n",
      "going from: [1 4 6]\n",
      "to: [1]\n",
      "going from: [0 2 5]\n",
      "to: [0 2]\n",
      "going from: [1 4 6]\n",
      "to: [1]\n",
      "going from: [0 2 5]\n",
      "to: [0 2]\n",
      "going from: [0 2 5]\n",
      "to: [0 2]\n",
      "going from: [0 2 5]\n",
      "to: [0 2]\n",
      "going from: [0 2 5]\n",
      "to: [0 2]\n",
      "going from: [1 4 6]\n",
      "to: [1]\n",
      "going from: [0 2 5]\n",
      "to: [0 2]\n",
      "going from: [0 2 5]\n",
      "to: [0 2]\n",
      "going from: [0 2 5]\n",
      "to: [0 2]\n",
      "going from: [0 2 5]\n",
      "to: [0 2]\n",
      "going from: [0 2 5]\n",
      "to: [0 2]\n",
      "going from: [1 4 6]\n",
      "to: [1]\n",
      "going from: [0 2 5]\n",
      "to: [0 2]\n",
      "going from: [1 4 6]\n",
      "to: [1]\n",
      "going from: [1 4 6]\n",
      "to: [1]\n",
      "going from: [1 4 6]\n",
      "to: [1]\n",
      "going from: [0 2 5]\n",
      "to: [0 2]\n",
      "going from: [0 2 5]\n",
      "to: [0 2]\n",
      "going from: [0 2 5]\n",
      "to: [0 2]\n",
      "going from: [0 2 5]\n",
      "to: [0 2]\n",
      "going from: [0 2 5]\n",
      "to: [0 2]\n",
      "going from: [1 4 6]\n",
      "to: [1]\n",
      "going from: [0 2 5]\n",
      "to: [0 2]\n",
      "going from: [1 4 6]\n",
      "to: [1]\n",
      "going from: [1 4 6]\n",
      "to: [1]\n",
      "going from: [0 2 5]\n",
      "to: [0 2]\n",
      "going from: [1 4 6]\n",
      "to: [1]\n",
      "going from: [0 2 5]\n",
      "to: [0 2]\n",
      "going from: [0 2 5]\n",
      "to: [0 2]\n",
      "going from: [1 4 6]\n",
      "to: [1]\n",
      "going from: [0 2 5]\n",
      "to: [0 2]\n",
      "going from: [0 2 5]\n",
      "to: [0 2]\n",
      "going from: [0 2 5]\n",
      "to: [0 2]\n",
      "going from: [1 4 6]\n",
      "to: [1]\n",
      "going from: [1 4 6]\n",
      "to: [1]\n",
      "going from: [1 4 6]\n",
      "to: [1]\n",
      "going from: [0 2 5]\n",
      "to: [0 2]\n",
      "going from: [1 4 6]\n",
      "to: [1]\n",
      "going from: [1 4 6]\n",
      "to: [1]\n",
      "going from: [0 2 5]\n",
      "to: [0 2]\n",
      "going from: [0 2 5]\n",
      "to: [0 2]\n",
      "going from: [0 2 5]\n",
      "to: [0 2]\n",
      "going from: [1 4 6]\n",
      "to: [1]\n",
      "going from: [1 4 6]\n",
      "to: [1]\n",
      "going from: [1 4 6]\n",
      "to: [1]\n",
      "going from: [0 2 5]\n",
      "to: [0 2]\n",
      "going from: [1 4 6]\n",
      "to: [1]\n",
      "going from: [1 4 6]\n",
      "to: [1]\n",
      "going from: [1 4 6]\n",
      "to: [1]\n",
      "going from: [0 2 5]\n",
      "to: [0 2]\n",
      "going from: [0 2 5]\n",
      "to: [0 2]\n",
      "going from: [1 4 6]\n",
      "to: [1]\n",
      "going from: [0 2 5]\n",
      "to: [0 2]\n",
      "going from: [1 4 6]\n",
      "to: [1]\n",
      "going from: [1 4 6]\n",
      "to: [1]\n",
      "going from: [0 2 5]\n",
      "to: [0 2]\n",
      "going from: [1 4 6]\n",
      "to: [1]\n",
      "going from: [0 2 5]\n",
      "to: [0 2]\n",
      "going from: [1 4 6]\n",
      "to: [1]\n",
      "going from: [0 2 5]\n",
      "to: [0 2]\n",
      "going from: [0 2 5]\n",
      "to: [0 2]\n",
      "going from: [0 2 5]\n",
      "to: [0 2]\n",
      "going from: [0 2 5]\n",
      "to: [0 2]\n",
      "going from: [0 2 5]\n",
      "to: [0 2]\n",
      "going from: [0 2 5]\n",
      "to: [0 2]\n",
      "going from: [0 2 5]\n",
      "to: [0 2]\n",
      "going from: [0 2 5]\n",
      "to: [0 2]\n",
      "going from: [1 4 6]\n",
      "to: [1]\n",
      "going from: [1 4 6]\n",
      "to: [1]\n",
      "going from: [0 2 5]\n",
      "to: [0 2]\n",
      "going from: [1 4 6]\n",
      "to: [1]\n",
      "going from: [1 4 6]\n",
      "to: [1]\n",
      "going from: [1 4 6]\n",
      "to: [1]\n",
      "going from: [1 4 6]\n",
      "to: [1]\n",
      "going from: [0 2 5]\n",
      "to: [0 2]\n",
      "going from: [0 2 5]\n",
      "to: [0 2]\n",
      "going from: [0 2 5]\n",
      "to: [0 2]\n",
      "going from: [1 4 6]\n",
      "to: [1]\n",
      "going from: [1 4 6]\n",
      "to: [1]\n",
      "going from: [1 4 6]\n",
      "to: [1]\n",
      "going from: [1 4 6]\n",
      "to: [1]\n",
      "going from: [0 2 5]\n",
      "to: [0 2]\n",
      "going from: [0 2 5]\n",
      "to: [0 2]\n",
      "going from: [0 2 5]\n",
      "to: [0 2]\n",
      "going from: [1 4 6]\n",
      "to: [1]\n",
      "going from: [0 2 5]\n",
      "to: [0 2]\n",
      "going from: [0 2 5]\n",
      "to: [0 2]\n",
      "going from: [0 2 5]\n",
      "to: [0 2]\n",
      "going from: [0 2 5]\n",
      "to: [0 2]\n",
      "going from: [1 4 6]\n",
      "to: [1]\n",
      "going from: [1 4 6]\n",
      "to: [1]\n",
      "going from: [0 2 5]\n",
      "to: [0 2]\n",
      "going from: [0 2 5]\n",
      "to: [0 2]\n",
      "going from: [0 2 5]\n",
      "to: [0 2]\n",
      "going from: [0 2 5]\n",
      "to: [0 2]\n",
      "going from: [0 2 5]\n",
      "to: [0 2]\n",
      "going from: [1 4 6]\n",
      "to: [1]\n",
      "going from: [0 2 5]\n",
      "to: [0 2]\n",
      "going from: [1 4 6]\n",
      "to: [1]\n",
      "going from: [0 2 5]\n",
      "to: [0 2]\n",
      "going from: [0 2 5]\n",
      "to: [0 2]\n",
      "going from: [0 2 5]\n",
      "to: [0 2]\n",
      "going from: [1 4 6]\n",
      "to: [1]\n",
      "going from: [1 4 6]\n",
      "to: [1]\n",
      "going from: [0 2 5]\n",
      "to: [0 2]\n",
      "going from: [0 2 5]\n",
      "to: [0 2]\n",
      "going from: [1 4 6]\n",
      "to: [1]\n",
      "going from: [0 2 5]\n",
      "to: [0 2]\n",
      "going from: [0 2 5]\n",
      "to: [0 2]\n",
      "going from: [1 4 6]\n",
      "to: [1]\n",
      "going from: [1 4 6]\n",
      "to: [1]\n",
      "going from: [0 2 5]\n",
      "to: [0 2]\n",
      "going from: [0 2 5]\n",
      "to: [0 2]\n",
      "going from: [1 4 6]\n",
      "to: [1]\n",
      "going from: [0 2 5]\n",
      "to: [0 2]\n",
      "going from: [1 4 6]\n",
      "to: [1]\n",
      "going from: [0 2 5]\n",
      "to: [0 2]\n",
      "going from: [0 2 5]\n",
      "to: [0 2]\n",
      "going from: [1 4 6]\n",
      "to: [1]\n",
      "going from: [1 4 6]\n",
      "to: [1]\n",
      "going from: [1 4 6]\n",
      "to: [1]\n",
      "going from: [0 2 5]\n",
      "to: [0 2]\n",
      "going from: [0 2 5]\n",
      "to: [0 2]\n",
      "going from: [0 2 5]\n",
      "to: [0 2]\n",
      "going from: [0 2 5]\n",
      "to: [0 2]\n",
      "going from: [0 2 5]\n",
      "to: [0 2]\n",
      "going from: [0 2 5]\n",
      "to: [0 2]\n",
      "going from: [0 2 5]\n",
      "to: [0 2]\n",
      "going from: [0 2 5]\n",
      "to: [0 2]\n",
      "going from: [1 4 6]\n",
      "to: [1]\n",
      "going from: [0 2 5]\n",
      "to: [0 2]\n",
      "going from: [0 2 5]\n",
      "to: [0 2]\n",
      "going from: [1 4 6]\n",
      "to: [1]\n",
      "going from: [1 4 6]\n",
      "to: [1]\n",
      "going from: [1 4 6]\n",
      "to: [1]\n",
      "going from: [0 2 5]\n",
      "to: [0 2]\n",
      "going from: [0 2 5]\n",
      "to: [0 2]\n",
      "going from: [1 4 6]\n",
      "to: [1]\n",
      "going from: [0 2 5]\n",
      "to: [0 2]\n",
      "going from: [0 2 5]\n",
      "to: [0 2]\n",
      "going from: [0 2 5]\n",
      "to: [0 2]\n",
      "going from: [0 2 5]\n",
      "to: [0 2]\n",
      "going from: [1 4 6]\n",
      "to: [1]\n",
      "going from: [1 4 6]\n",
      "to: [1]\n",
      "going from: [0 2 5]\n",
      "to: [0 2]\n",
      "going from: [0 2 5]\n",
      "to: [0 2]\n",
      "going from: [0 2 5]\n",
      "to: [0 2]\n",
      "going from: [1 4 6]\n",
      "to: [1]\n",
      "going from: [0 2 5]\n",
      "to: [0 2]\n",
      "going from: [0 2 5]\n",
      "to: [0 2]\n",
      "going from: [0 2 5]\n",
      "to: [0 2]\n",
      "going from: [0 2 5]\n",
      "to: [0 2]\n",
      "going from: [0 2 5]\n",
      "to: [0 2]\n",
      "going from: [0 2 5]\n",
      "to: [0 2]\n",
      "going from: [1 4 6]\n",
      "to: [1]\n"
     ]
    },
    {
     "name": "stderr",
     "output_type": "stream",
     "text": [
      "/usr/lib/python3/dist-packages/ipykernel/__main__.py:33: RuntimeWarning: invalid value encountered in true_divide\n"
     ]
    }
   ],
   "source": [
    "Q = np.matrix(np.zeros([MATRIX_SIZE,MATRIX_SIZE]))\n",
    "\n",
    "# subtract bees with smoke, this gives smoke a negative effect\n",
    "enviro_matrix = enviro_bees - enviro_smoke\n",
    "\n",
    "# Get available actions in the current state\n",
    "available_act = available_actions(initial_state) \n",
    "\n",
    "# Sample next action to be performed\n",
    "action = sample_next_action(available_act)\n",
    "\n",
    "# This function updates the Q matrix according to the path selected and the Q \n",
    "# learning algorithm\n",
    "def update(current_state, action, gamma):\n",
    "    \n",
    "    max_index = np.where(Q[action,] == np.max(Q[action,]))[1]\n",
    "\n",
    "    if max_index.shape[0] > 1:\n",
    "        max_index = int(np.random.choice(max_index, size = 1))\n",
    "    else:\n",
    "        max_index = int(max_index)\n",
    "    max_value = Q[action, max_index]\n",
    "\n",
    "    Q[current_state, action] = R[current_state, action] + gamma * max_value\n",
    "    #print('max_value', R[current_state, action] + gamma * max_value)\n",
    "\n",
    "    environment = collect_environmental_data(action)\n",
    "    if 'b' in environment: \n",
    "        enviro_matrix[current_state, action] += 1\n",
    "    if 's' in environment: \n",
    "        enviro_matrix[current_state, action] -= 1\n",
    "\n",
    "    return(np.sum(Q/np.max(Q)*100))\n",
    "\n",
    "update(initial_state,action,gamma)\n",
    "\n",
    "enviro_matrix_snap = enviro_matrix.copy()\n",
    "\n",
    "def available_actions_with_enviro_help(state):\n",
    "    current_state_row = R[state,]\n",
    "    av_act = np.where(current_state_row >= 0)[1]\n",
    "    # if there are multiple routes, dis-favor anything negative\n",
    "    env_pos_row = enviro_matrix_snap[state,av_act]\n",
    "    if (np.sum(env_pos_row < 0)):\n",
    "        # can we remove the negative directions from av_act?\n",
    "        temp_av_act = av_act[np.array(env_pos_row)[0]>=0]\n",
    "        if len(temp_av_act) > 0:\n",
    "            print('going from:',av_act)\n",
    "            print('to:',temp_av_act)\n",
    "            av_act = temp_av_act\n",
    "    return av_act\n",
    "\n",
    "# Training\n",
    "scores = []\n",
    "for i in range(700):\n",
    "    current_state = np.random.randint(0, int(Q.shape[0]))\n",
    "    available_act = available_actions_with_enviro_help(current_state)\n",
    "    action = sample_next_action(available_act)\n",
    "    score = update(current_state,action,gamma)\n",
    "    scores.append(score)\n",
    "    #print ('Score:', str(score))"
   ]
  },
  {
   "cell_type": "code",
   "execution_count": 14,
   "metadata": {
    "collapsed": false
   },
   "outputs": [
    {
     "data": {
      "image/png": "[encoded data removed]",
      "text/plain": [
       "<matplotlib.figure.Figure at 0x7f27f3f378d0>"
      ]
     },
     "metadata": {},
     "output_type": "display_data"
    }
   ],
   "source": [
    "plt.figure(figsize=(8,6))\n",
    "plt.xlabel('# of Iterations')\n",
    "plt.ylabel('score') \n",
    "plt.plot(scores, label = 'score value')\n",
    "plt.legend(loc='best')\n",
    "plt.show()"
   ]
  },
  {
   "cell_type": "code",
   "execution_count": null,
   "metadata": {
    "collapsed": true
   },
   "outputs": [],
   "source": []
  }
 ],
 "metadata": {
  "kernelspec": {
   "display_name": "Python 3",
   "language": "python",
   "name": "python3"
  },
  "language_info": {
   "codemirror_mode": {
    "name": "ipython",
    "version": 3
   },
   "file_extension": ".py",
   "mimetype": "text/x-python",
   "name": "python",
   "nbconvert_exporter": "python",
   "pygments_lexer": "ipython3",
   "version": "3.5.3"
  }
 },
 "nbformat": 4,
 "nbformat_minor": 2
}
