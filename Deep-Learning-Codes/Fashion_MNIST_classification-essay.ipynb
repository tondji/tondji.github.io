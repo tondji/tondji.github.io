{
 "cells": [
  {
   "cell_type": "markdown",
   "metadata": {},
   "source": [
    "# Fashion MNIST classification using PyTorch\n",
    "\n",
    "In this notebook we will try to classify the Fashion MNIST dataset\n",
    "(https://github.com/zalandoresearch/fashion-mnist) using VGG-like architectures (https://arxiv.org/abs/1409.1556). This notebook is inspired from the MNIST example from PyTorch (https://github.com/pytorch/examples/tree/master/mnist), and introduce tricks to automatically tune and schedule the learning rate for SGD (see this paper, https://arxiv.org/abs/1506.01186, and FastAI course for example http://fastai.org).\n",
    "\n",
    "## Fashion MNIST\n",
    "\n",
    "This 10 class dataset is a drop-in replacement for MNIST with clothes instead of digits. MNI is arguably overused in the ML community nowadays. It is subtancially harder to classify.\n",
    "\n",
    "![fashion_mnist](fashion-mnist-sprite.png)"
   ]
  },
  {
   "cell_type": "markdown",
   "metadata": {},
   "source": [
    "Let's import a few functions first"
   ]
  },
  {
   "cell_type": "code",
   "execution_count": 3,
   "metadata": {},
   "outputs": [],
   "source": [
    "import matplotlib.pyplot as plt\n",
    "import torch\n",
    "import torch.nn as nn\n",
    "import torch.nn.functional as F\n",
    "from matplotlib.cm import get_cmap\n",
    "from torch.utils.data import TensorDataset, DataLoader\n",
    "from torchvision import datasets\n",
    "from torchvision.transforms import transforms\n",
    "from torchsummary import summary"
   ]
  },
  {
   "cell_type": "code",
   "execution_count": 4,
   "metadata": {},
   "outputs": [],
   "source": [
    "#!pip3 install torchsummary"
   ]
  },
  {
   "cell_type": "markdown",
   "metadata": {},
   "source": [
    "Some system/model hyper parameters"
   ]
  },
  {
   "cell_type": "code",
   "execution_count": 5,
   "metadata": {},
   "outputs": [],
   "source": [
    "cuda = False\n",
    "batch_size = 128\n",
    "\n",
    "kwargs = {'num_workers': 1, 'pin_memory': True} if cuda else {}"
   ]
  },
  {
   "cell_type": "code",
   "execution_count": 6,
   "metadata": {
    "scrolled": true
   },
   "outputs": [],
   "source": [
    "english_labels = [\"T-shirt/top\",\n",
    "                  \"Trouser\",\n",
    "                  \"Pullover\",\n",
    "                  \"Dress\",\n",
    "                  \"Coat\",\n",
    "                  \"Sandal\",\n",
    "                  \"Shirt\",\n",
    "                  \"Sneaker\",\n",
    "                  \"Bag\",\n",
    "                  \"Ankle boot\"]\n",
    "\n",
    "train_data = datasets.FashionMNIST('data', train=True, download=True,\n",
    "                                   transform=transforms.Compose([\n",
    "                                       transforms.ToTensor(),\n",
    "                                   ]))\n",
    "train_loader = DataLoader(train_data, batch_size=128, shuffle=False, **kwargs)"
   ]
  },
  {
   "cell_type": "markdown",
   "metadata": {},
   "source": [
    "Lets's compute the average mean and std of the train images. We will\n",
    "use them for normalizing data later on."
   ]
  },
  {
   "cell_type": "code",
   "execution_count": 7,
   "metadata": {},
   "outputs": [],
   "source": [
    "n_samples_seen = 0.\n",
    "mean = 0\n",
    "std = 0\n",
    "for train_batch, train_target in train_loader:\n",
    "    batch_size = train_batch.shape[0]\n",
    "    train_batch = train_batch.view(batch_size, -1)\n",
    "    this_mean = torch.mean(train_batch, dim=1)\n",
    "    this_std = torch.sqrt(\n",
    "        torch.mean((train_batch - this_mean[:, None]) ** 2, dim=1))\n",
    "    mean += torch.sum(this_mean, dim=0)\n",
    "    std += torch.sum(this_std, dim=0)\n",
    "    n_samples_seen += batch_size\n",
    "\n",
    "mean /= n_samples_seen\n",
    "std /= n_samples_seen"
   ]
  },
  {
   "cell_type": "code",
   "execution_count": 8,
   "metadata": {},
   "outputs": [
    {
     "name": "stdout",
     "output_type": "stream",
     "text": [
      "tensor(0.2860) tensor(0.3202)\n"
     ]
    }
   ],
   "source": [
    "print(mean, std)"
   ]
  },
  {
   "cell_type": "markdown",
   "metadata": {},
   "source": [
    "We now reload the data with a further `Normalize` transform"
   ]
  },
  {
   "cell_type": "code",
   "execution_count": 9,
   "metadata": {},
   "outputs": [],
   "source": [
    "train_data = datasets.FashionMNIST('data', train=True, download=False,\n",
    "                                   transform=transforms.Compose([\n",
    "                                       transforms.ToTensor(),\n",
    "                                       transforms.Normalize(mean=mean.view(1, -1),\n",
    "                                                            std=std.view(1, -1))]))\n",
    "\n",
    "test_data = datasets.FashionMNIST('data', train=False, download=True,\n",
    "                                  transform=transforms.Compose([\n",
    "                                      transforms.ToTensor(),\n",
    "                                      transforms.Normalize(mean=mean.view(1, -1),\n",
    "                                                           std=std.view(1, -1))]))\n",
    "\n",
    "train_loader = DataLoader(train_data, batch_size=32, shuffle=True)\n",
    "\n",
    "test_loader = torch.utils.data.DataLoader(test_data, batch_size=32,\n",
    "                                          shuffle=False, **kwargs)\n"
   ]
  },
  {
   "cell_type": "markdown",
   "metadata": {},
   "source": [
    "We define a very simple model, suitable for CPU training"
   ]
  },
  {
   "cell_type": "code",
   "execution_count": 12,
   "metadata": {},
   "outputs": [
    {
     "name": "stdout",
     "output_type": "stream",
     "text": [
      "Training on cpu\n"
     ]
    }
   ],
   "source": [
    "# Set up the device\n",
    "device = torch.device(\"cuda:0\" if torch.cuda.is_available() else \"cpu\")\n",
    "print('Training on {}'.format(device))"
   ]
  },
  {
   "cell_type": "code",
   "execution_count": 10,
   "metadata": {
    "scrolled": true
   },
   "outputs": [],
   "source": [
    "class Model(nn.Module):\n",
    "    def __init__(self):\n",
    "        super(Model, self).__init__()\n",
    "        self.conv1 = nn.Conv2d(1, 10, kernel_size=(3, 3), padding=1)\n",
    "        self.conv2 = nn.Conv2d(10, 20, kernel_size=(3, 3), padding=1)\n",
    "        self.dropout_2d = nn.Dropout2d(p=0.25)\n",
    "        self.fc1 = nn.Linear(7 * 7 * 20, 128)\n",
    "        self.dropout = nn.Dropout(p=0.5)\n",
    "        self.fc2 = nn.Linear(128, 10)\n",
    "\n",
    "    def forward(self, x):\n",
    "        x = self.dropout_2d(F.max_pool2d(self.conv1(x), kernel_size=2))\n",
    "        x = self.dropout_2d(F.max_pool2d(self.conv2(x), kernel_size=2))\n",
    "        x = x.view(-1, 7 * 7 * 20)  # flatten / reshape\n",
    "        x = F.relu(self.fc1(x))\n",
    "        x = self.dropout(x)\n",
    "        x = self.fc2(x)\n",
    "        return F.log_softmax(x, dim=1)\n",
    "\n",
    "    def reset_parameters(self):\n",
    "        self.conv1.reset_parameters()\n",
    "        self.conv2.reset_parameters()\n",
    "        self.fc1.reset_parameters()\n",
    "        self.fc2.reset_parameters()"
   ]
  },
  {
   "cell_type": "code",
   "execution_count": 13,
   "metadata": {},
   "outputs": [
    {
     "name": "stdout",
     "output_type": "stream",
     "text": [
      "----------------------------------------------------------------\n",
      "        Layer (type)               Output Shape         Param #\n",
      "================================================================\n",
      "            Conv2d-1           [-1, 10, 28, 28]             100\n",
      "         Dropout2d-2           [-1, 10, 14, 14]               0\n",
      "            Conv2d-3           [-1, 20, 14, 14]           1,820\n",
      "         Dropout2d-4             [-1, 20, 7, 7]               0\n",
      "            Linear-5                  [-1, 128]         125,568\n",
      "           Dropout-6                  [-1, 128]               0\n",
      "            Linear-7                   [-1, 10]           1,290\n",
      "================================================================\n",
      "Total params: 128,778\n",
      "Trainable params: 128,778\n",
      "Non-trainable params: 0\n",
      "----------------------------------------------------------------\n",
      "Input size (MB): 0.00\n",
      "Forward/backward pass size (MB): 0.11\n",
      "Params size (MB): 0.49\n",
      "Estimated Total Size (MB): 0.61\n",
      "----------------------------------------------------------------\n"
     ]
    }
   ],
   "source": [
    "model = Model().to(device)\n",
    "summary(model, (1, 28, 28))"
   ]
  },
  {
   "cell_type": "markdown",
   "metadata": {},
   "source": [
    "## Exercices\n",
    "\n",
    "- Define a VGG-like model: add more convolutional and max pooling layers to increase the number of channels progressively while decreasing the dimensions of the feature maps with max pooling.\n",
    "- Try to use Adam instead of SGD in conjunction with the `find_lr` heuristic and the cosine learning rate schedule below;\n",
    "- (optional) Try data augmentation (horizontal flips, random crops, cutout...);\n",
    "- (optional) Implement the [mixup stochastic label interpolation](https://arxiv.org/abs/1710.09412);\n",
    "- (optional) Try to use batch-normalization;\n",
    "- (optional) Implement skip-connections.\n",
    "\n",
    "See how you compare to other approaches:\n",
    "- https://github.com/zalandoresearch/fashion-mnist\n",
    "- https://www.kaggle.com/zalando-research/fashionmnist"
   ]
  },
  {
   "cell_type": "code",
   "execution_count": null,
   "metadata": {
    "collapsed": true
   },
   "outputs": [],
   "source": [
    "# %load solutions/vgg.py"
   ]
  },
  {
   "cell_type": "markdown",
   "metadata": {},
   "source": [
    "Let's test our model on CPU"
   ]
  },
  {
   "cell_type": "code",
   "execution_count": 14,
   "metadata": {},
   "outputs": [
    {
     "data": {
      "text/plain": [
       "Dataset FashionMNIST\n",
       "    Number of datapoints: 60000\n",
       "    Split: train\n",
       "    Root Location: data\n",
       "    Transforms (if any): Compose(\n",
       "                             ToTensor()\n",
       "                             Normalize(mean=tensor([[0.2860]]), std=tensor([[0.3202]]))\n",
       "                         )\n",
       "    Target Transforms (if any): None"
      ]
     },
     "execution_count": 14,
     "metadata": {},
     "output_type": "execute_result"
    }
   ],
   "source": [
    "train_data"
   ]
  },
  {
   "cell_type": "code",
   "execution_count": 15,
   "metadata": {},
   "outputs": [
    {
     "name": "stdout",
     "output_type": "stream",
     "text": [
      "torch.Size([1, 28, 28])\n"
     ]
    }
   ],
   "source": [
    "model = Model()\n",
    "img, target = train_data[0]\n",
    "# n_channel, width, height\n",
    "print(img.shape)\n",
    "\n",
    "# First dimension should contain batch_size\n"
   ]
  },
  {
   "cell_type": "markdown",
   "metadata": {},
   "source": [
    "We can plot a training image"
   ]
  },
  {
   "cell_type": "code",
   "execution_count": 16,
   "metadata": {},
   "outputs": [
    {
     "data": {
      "image/png": "[encoded data removed]",
      "text/plain": [
       "<Figure size 432x288 with 1 Axes>"
      ]
     },
     "metadata": {
      "needs_background": "light"
     },
     "output_type": "display_data"
    }
   ],
   "source": [
    "fig, ax = plt.subplots(1, 1)\n",
    "ax.imshow(img[0].numpy(), cmap=get_cmap('gray'))\n",
    "plt.show()"
   ]
  },
  {
   "cell_type": "markdown",
   "metadata": {},
   "source": [
    "The first dimension of the input data should contain the batch size (due to `torch.nn` API)"
   ]
  },
  {
   "cell_type": "code",
   "execution_count": 17,
   "metadata": {},
   "outputs": [
    {
     "data": {
      "text/plain": [
       "torch.Size([1, 28, 28])"
      ]
     },
     "execution_count": 17,
     "metadata": {},
     "output_type": "execute_result"
    }
   ],
   "source": [
    "img.shape"
   ]
  },
  {
   "cell_type": "code",
   "execution_count": 18,
   "metadata": {},
   "outputs": [
    {
     "name": "stdout",
     "output_type": "stream",
     "text": [
      "tensor(9) Ankle boot\n",
      "tensor([[-2.2545, -2.3153, -2.2598, -2.2710, -2.1887, -2.3496, -2.6492, -2.3440,\n",
      "         -2.2405, -2.2235]], grad_fn=<LogSoftmaxBackward>)\n"
     ]
    }
   ],
   "source": [
    "pred = model(img[None, :])\n",
    "print(target, english_labels[target])\n",
    "print(pred)"
   ]
  },
  {
   "cell_type": "markdown",
   "metadata": {},
   "source": [
    "We define a train loop"
   ]
  },
  {
   "cell_type": "code",
   "execution_count": 27,
   "metadata": {},
   "outputs": [
    {
     "name": "stdout",
     "output_type": "stream",
     "text": [
      "torch.Size([1, 28, 28])\n"
     ]
    }
   ],
   "source": [
    "model = Model()\n",
    "img, target = train_data[1]\n",
    "# n_channel, width, height\n",
    "print(img.shape)\n",
    "\n",
    "# First dimension should contain batch_size"
   ]
  },
  {
   "cell_type": "code",
   "execution_count": 28,
   "metadata": {},
   "outputs": [
    {
     "data": {
      "image/png": "[encoded data removed]",
      "text/plain": [
       "<Figure size 432x288 with 1 Axes>"
      ]
     },
     "metadata": {
      "needs_background": "light"
     },
     "output_type": "display_data"
    }
   ],
   "source": [
    "fig, ax = plt.subplots(1, 1)\n",
    "ax.imshow(img[0].numpy(), cmap=get_cmap('gray'))\n",
    "plt.show()"
   ]
  },
  {
   "cell_type": "code",
   "execution_count": 93,
   "metadata": {},
   "outputs": [
    {
     "name": "stdout",
     "output_type": "stream",
     "text": [
      "tensor(0) T-shirt/top\n",
      "tensor([[-2.4647, -2.6004, -1.9033, -2.1354, -2.3498, -2.1697, -2.5578, -2.3502,\n",
      "         -2.3116, -2.3870]], grad_fn=<LogSoftmaxBackward>)\n"
     ]
    }
   ],
   "source": [
    "pred = model(img[None, :])\n",
    "print(target, english_labels[target])\n",
    "print(pred)"
   ]
  },
  {
   "cell_type": "code",
   "execution_count": 66,
   "metadata": {},
   "outputs": [
    {
     "data": {
      "text/plain": [
       "torch.Size([1, 28, 28])"
      ]
     },
     "execution_count": 66,
     "metadata": {},
     "output_type": "execute_result"
    }
   ],
   "source": [
    "image.shape"
   ]
  },
  {
   "cell_type": "code",
   "execution_count": 88,
   "metadata": {},
   "outputs": [
    {
     "data": {
      "text/plain": [
       "'T-shirt/top'"
      ]
     },
     "execution_count": 88,
     "metadata": {},
     "output_type": "execute_result"
    }
   ],
   "source": [
    "english_labels[target]"
   ]
  },
  {
   "cell_type": "code",
   "execution_count": 89,
   "metadata": {},
   "outputs": [
    {
     "data": {
      "text/plain": [
       "tensor(0)"
      ]
     },
     "execution_count": 89,
     "metadata": {},
     "output_type": "execute_result"
    }
   ],
   "source": [
    "target"
   ]
  },
  {
   "cell_type": "code",
   "execution_count": 94,
   "metadata": {},
   "outputs": [
    {
     "data": {
      "text/plain": [
       "'Pullover'"
      ]
     },
     "execution_count": 94,
     "metadata": {},
     "output_type": "execute_result"
    }
   ],
   "source": [
    "english_labels[pred.data.max(dim=1)[1]]"
   ]
  },
  {
   "cell_type": "code",
   "execution_count": 82,
   "metadata": {},
   "outputs": [
    {
     "data": {
      "text/plain": [
       "tensor([[-2.3599, -2.6062, -2.1216, -2.1912, -2.0018, -2.3040, -2.6661, -2.3348,\n",
       "         -2.3804, -2.2414]], grad_fn=<LogSoftmaxBackward>)"
      ]
     },
     "execution_count": 82,
     "metadata": {},
     "output_type": "execute_result"
    }
   ],
   "source": [
    "pred"
   ]
  },
  {
   "cell_type": "code",
   "execution_count": 92,
   "metadata": {},
   "outputs": [
    {
     "ename": "RuntimeError",
     "evalue": "Dimension out of range (expected to be in range of [-1, 0], but got 1)",
     "output_type": "error",
     "traceback": [
      "\u001b[0;31m---------------------------------------------------------------------------\u001b[0m",
      "\u001b[0;31mRuntimeError\u001b[0m                              Traceback (most recent call last)",
      "\u001b[0;32m<ipython-input-92-9d26cd27f0e2>\u001b[0m in \u001b[0;36m<module>\u001b[0;34m\u001b[0m\n\u001b[0;32m----> 1\u001b[0;31m \u001b[0mpred\u001b[0m\u001b[0;34m.\u001b[0m\u001b[0mdata\u001b[0m\u001b[0;34m.\u001b[0m\u001b[0mmax\u001b[0m\u001b[0;34m(\u001b[0m\u001b[0mdim\u001b[0m\u001b[0;34m=\u001b[0m\u001b[0;36m1\u001b[0m\u001b[0;34m)\u001b[0m\u001b[0;34m[\u001b[0m\u001b[0;36m1\u001b[0m\u001b[0;34m]\u001b[0m\u001b[0;34m.\u001b[0m\u001b[0mitem\u001b[0m\u001b[0;34m(\u001b[0m\u001b[0;34m)\u001b[0m\u001b[0;34m\u001b[0m\u001b[0m\n\u001b[0m",
      "\u001b[0;31mRuntimeError\u001b[0m: Dimension out of range (expected to be in range of [-1, 0], but got 1)"
     ]
    }
   ],
   "source": [
    "pred.data.max(dim=1)[1].item()"
   ]
  },
  {
   "cell_type": "code",
   "execution_count": 108,
   "metadata": {},
   "outputs": [
    {
     "ename": "TypeError",
     "evalue": "Invalid dimensions for image data",
     "output_type": "error",
     "traceback": [
      "\u001b[0;31m---------------------------------------------------------------------------\u001b[0m",
      "\u001b[0;31mTypeError\u001b[0m                                 Traceback (most recent call last)",
      "\u001b[0;32m<ipython-input-108-9c41e077d124>\u001b[0m in \u001b[0;36m<module>\u001b[0;34m\u001b[0m\n\u001b[1;32m      1\u001b[0m \u001b[0;32mfor\u001b[0m \u001b[0mimage\u001b[0m\u001b[0;34m,\u001b[0m \u001b[0mlabel\u001b[0m \u001b[0;32min\u001b[0m \u001b[0mtest_loader\u001b[0m\u001b[0;34m:\u001b[0m\u001b[0;34m\u001b[0m\u001b[0m\n\u001b[1;32m      2\u001b[0m     \u001b[0mfig\u001b[0m\u001b[0;34m,\u001b[0m \u001b[0max\u001b[0m \u001b[0;34m=\u001b[0m \u001b[0mplt\u001b[0m\u001b[0;34m.\u001b[0m\u001b[0msubplots\u001b[0m\u001b[0;34m(\u001b[0m\u001b[0;36m1\u001b[0m\u001b[0;34m,\u001b[0m \u001b[0;36m1\u001b[0m\u001b[0;34m)\u001b[0m\u001b[0;34m\u001b[0m\u001b[0m\n\u001b[0;32m----> 3\u001b[0;31m     \u001b[0max\u001b[0m\u001b[0;34m.\u001b[0m\u001b[0mimshow\u001b[0m\u001b[0;34m(\u001b[0m\u001b[0mimage\u001b[0m\u001b[0;34m[\u001b[0m\u001b[0;36m0\u001b[0m\u001b[0;34m]\u001b[0m\u001b[0;34m.\u001b[0m\u001b[0mnumpy\u001b[0m\u001b[0;34m(\u001b[0m\u001b[0;34m)\u001b[0m\u001b[0;34m,\u001b[0m \u001b[0mcmap\u001b[0m\u001b[0;34m=\u001b[0m\u001b[0mget_cmap\u001b[0m\u001b[0;34m(\u001b[0m\u001b[0;34m'gray'\u001b[0m\u001b[0;34m)\u001b[0m\u001b[0;34m)\u001b[0m\u001b[0;34m\u001b[0m\u001b[0m\n\u001b[0m\u001b[1;32m      4\u001b[0m     \u001b[0mplt\u001b[0m\u001b[0;34m.\u001b[0m\u001b[0mshow\u001b[0m\u001b[0;34m(\u001b[0m\u001b[0;34m)\u001b[0m\u001b[0;34m\u001b[0m\u001b[0m\n",
      "\u001b[0;32m~/miniconda3/lib/python3.7/site-packages/matplotlib/__init__.py\u001b[0m in \u001b[0;36minner\u001b[0;34m(ax, data, *args, **kwargs)\u001b[0m\n\u001b[1;32m   1803\u001b[0m                         \u001b[0;34m\"the Matplotlib list!)\"\u001b[0m \u001b[0;34m%\u001b[0m \u001b[0;34m(\u001b[0m\u001b[0mlabel_namer\u001b[0m\u001b[0;34m,\u001b[0m \u001b[0mfunc\u001b[0m\u001b[0;34m.\u001b[0m\u001b[0m__name__\u001b[0m\u001b[0;34m)\u001b[0m\u001b[0;34m,\u001b[0m\u001b[0;34m\u001b[0m\u001b[0m\n\u001b[1;32m   1804\u001b[0m                         RuntimeWarning, stacklevel=2)\n\u001b[0;32m-> 1805\u001b[0;31m             \u001b[0;32mreturn\u001b[0m \u001b[0mfunc\u001b[0m\u001b[0;34m(\u001b[0m\u001b[0max\u001b[0m\u001b[0;34m,\u001b[0m \u001b[0;34m*\u001b[0m\u001b[0margs\u001b[0m\u001b[0;34m,\u001b[0m \u001b[0;34m**\u001b[0m\u001b[0mkwargs\u001b[0m\u001b[0;34m)\u001b[0m\u001b[0;34m\u001b[0m\u001b[0m\n\u001b[0m\u001b[1;32m   1806\u001b[0m \u001b[0;34m\u001b[0m\u001b[0m\n\u001b[1;32m   1807\u001b[0m         inner.__doc__ = _add_data_doc(inner.__doc__,\n",
      "\u001b[0;32m~/miniconda3/lib/python3.7/site-packages/matplotlib/axes/_axes.py\u001b[0m in \u001b[0;36mimshow\u001b[0;34m(self, X, cmap, norm, aspect, interpolation, alpha, vmin, vmax, origin, extent, shape, filternorm, filterrad, imlim, resample, url, **kwargs)\u001b[0m\n\u001b[1;32m   5481\u001b[0m                               resample=resample, **kwargs)\n\u001b[1;32m   5482\u001b[0m \u001b[0;34m\u001b[0m\u001b[0m\n\u001b[0;32m-> 5483\u001b[0;31m         \u001b[0mim\u001b[0m\u001b[0;34m.\u001b[0m\u001b[0mset_data\u001b[0m\u001b[0;34m(\u001b[0m\u001b[0mX\u001b[0m\u001b[0;34m)\u001b[0m\u001b[0;34m\u001b[0m\u001b[0m\n\u001b[0m\u001b[1;32m   5484\u001b[0m         \u001b[0mim\u001b[0m\u001b[0;34m.\u001b[0m\u001b[0mset_alpha\u001b[0m\u001b[0;34m(\u001b[0m\u001b[0malpha\u001b[0m\u001b[0;34m)\u001b[0m\u001b[0;34m\u001b[0m\u001b[0m\n\u001b[1;32m   5485\u001b[0m         \u001b[0;32mif\u001b[0m \u001b[0mim\u001b[0m\u001b[0;34m.\u001b[0m\u001b[0mget_clip_path\u001b[0m\u001b[0;34m(\u001b[0m\u001b[0;34m)\u001b[0m \u001b[0;32mis\u001b[0m \u001b[0;32mNone\u001b[0m\u001b[0;34m:\u001b[0m\u001b[0;34m\u001b[0m\u001b[0m\n",
      "\u001b[0;32m~/miniconda3/lib/python3.7/site-packages/matplotlib/image.py\u001b[0m in \u001b[0;36mset_data\u001b[0;34m(self, A)\u001b[0m\n\u001b[1;32m    644\u001b[0m         if not (self._A.ndim == 2\n\u001b[1;32m    645\u001b[0m                 or self._A.ndim == 3 and self._A.shape[-1] in [3, 4]):\n\u001b[0;32m--> 646\u001b[0;31m             \u001b[0;32mraise\u001b[0m \u001b[0mTypeError\u001b[0m\u001b[0;34m(\u001b[0m\u001b[0;34m\"Invalid dimensions for image data\"\u001b[0m\u001b[0;34m)\u001b[0m\u001b[0;34m\u001b[0m\u001b[0m\n\u001b[0m\u001b[1;32m    647\u001b[0m \u001b[0;34m\u001b[0m\u001b[0m\n\u001b[1;32m    648\u001b[0m         \u001b[0;32mif\u001b[0m \u001b[0mself\u001b[0m\u001b[0;34m.\u001b[0m\u001b[0m_A\u001b[0m\u001b[0;34m.\u001b[0m\u001b[0mndim\u001b[0m \u001b[0;34m==\u001b[0m \u001b[0;36m3\u001b[0m\u001b[0;34m:\u001b[0m\u001b[0;34m\u001b[0m\u001b[0m\n",
      "\u001b[0;31mTypeError\u001b[0m: Invalid dimensions for image data"
     ]
    },
    {
     "data": {
      "image/png": "[encoded data removed]",
      "text/plain": [
       "<Figure size 432x288 with 1 Axes>"
      ]
     },
     "metadata": {
      "needs_background": "light"
     },
     "output_type": "display_data"
    }
   ],
   "source": [
    "for image, label in test_loader:\n",
    "    fig, ax = plt.subplots(1, 1)\n",
    "    ax.imshow(image[0].numpy(), cmap=get_cmap('gray'))\n",
    "    plt.show()"
   ]
  },
  {
   "cell_type": "code",
   "execution_count": 110,
   "metadata": {},
   "outputs": [
    {
     "name": "stdout",
     "output_type": "stream",
     "text": [
      "tensor([9, 2, 1, 1, 6, 1, 4, 6, 5, 7, 4, 5, 7, 3, 4, 1, 2, 4, 8, 0, 2, 5, 7, 9,\n",
      "        1, 4, 6, 0, 9, 3, 8, 8])\n"
     ]
    },
    {
     "ename": "ValueError",
     "evalue": "only one element tensors can be converted to Python scalars",
     "output_type": "error",
     "traceback": [
      "\u001b[0;31m---------------------------------------------------------------------------\u001b[0m",
      "\u001b[0;31mValueError\u001b[0m                                Traceback (most recent call last)",
      "\u001b[0;32m<ipython-input-110-2ddc47059756>\u001b[0m in \u001b[0;36m<module>\u001b[0;34m\u001b[0m\n\u001b[1;32m      8\u001b[0m         \u001b[0mplt\u001b[0m\u001b[0;34m.\u001b[0m\u001b[0mimshow\u001b[0m\u001b[0;34m(\u001b[0m\u001b[0mimage\u001b[0m\u001b[0;34m[\u001b[0m\u001b[0;36m0\u001b[0m\u001b[0;34m]\u001b[0m\u001b[0;34m.\u001b[0m\u001b[0msqueeze\u001b[0m\u001b[0;34m(\u001b[0m\u001b[0;34m)\u001b[0m\u001b[0;34m.\u001b[0m\u001b[0mnumpy\u001b[0m\u001b[0;34m(\u001b[0m\u001b[0;34m)\u001b[0m\u001b[0;34m)\u001b[0m\u001b[0;34m\u001b[0m\u001b[0m\n\u001b[1;32m      9\u001b[0m         \u001b[0mprint\u001b[0m\u001b[0;34m(\u001b[0m\u001b[0mlabel\u001b[0m\u001b[0;34m)\u001b[0m\u001b[0;34m\u001b[0m\u001b[0m\n\u001b[0;32m---> 10\u001b[0;31m         \u001b[0mprint\u001b[0m\u001b[0;34m(\u001b[0m\u001b[0menglish_labels\u001b[0m\u001b[0;34m[\u001b[0m\u001b[0mlabel\u001b[0m\u001b[0;34m.\u001b[0m\u001b[0mitem\u001b[0m\u001b[0;34m(\u001b[0m\u001b[0;34m)\u001b[0m\u001b[0;34m]\u001b[0m\u001b[0;34m)\u001b[0m\u001b[0;34m\u001b[0m\u001b[0m\n\u001b[0m\u001b[1;32m     11\u001b[0m         \u001b[0mprint\u001b[0m\u001b[0;34m(\u001b[0m\u001b[0menglish_labels\u001b[0m\u001b[0;34m[\u001b[0m\u001b[0mpred\u001b[0m\u001b[0;34m.\u001b[0m\u001b[0mdata\u001b[0m\u001b[0;34m.\u001b[0m\u001b[0mmax\u001b[0m\u001b[0;34m(\u001b[0m\u001b[0mdim\u001b[0m\u001b[0;34m=\u001b[0m\u001b[0;36m1\u001b[0m\u001b[0;34m)\u001b[0m\u001b[0;34m[\u001b[0m\u001b[0;36m1\u001b[0m\u001b[0;34m]\u001b[0m\u001b[0;34m]\u001b[0m\u001b[0;34m)\u001b[0m\u001b[0;34m\u001b[0m\u001b[0m\n\u001b[1;32m     12\u001b[0m         \u001b[0;31m#ax.imshow(image[0].numpy(), cmap=get_cmap('gray'))\u001b[0m\u001b[0;34m\u001b[0m\u001b[0;34m\u001b[0m\u001b[0m\n",
      "\u001b[0;31mValueError\u001b[0m: only one element tensors can be converted to Python scalars"
     ]
    },
    {
     "data": {
      "image/png": "[encoded data removed]",
      "text/plain": [
       "<Figure size 432x288 with 1 Axes>"
      ]
     },
     "metadata": {
      "needs_background": "light"
     },
     "output_type": "display_data"
    }
   ],
   "source": [
    "for image, label in test_loader:\n",
    "    i = 0\n",
    "    while i < 1 :\n",
    "#         plt.subplot(2, 7, i + 1)\n",
    "        fig, ax = plt.subplots(1, 1)\n",
    "        output = model(image)\n",
    "        _, pred = output.data.max(dim=1)\n",
    "        plt.imshow(image[0].squeeze().numpy())\n",
    "        print(label)\n",
    "        print(english_labels[label.item()])\n",
    "        print(english_labels[pred.data.max(dim=1)[1]])\n",
    "        #ax.imshow(image[0].numpy(), cmap=get_cmap('gray'))\n",
    "        #plt.imshow(image.squeeze().numpy())\n",
    "        plt.title('real label : {} vs predicted label: {}' .format(english_labels[label.item()],english_labels[label.item()]))\n",
    "plt.show()"
   ]
  },
  {
   "cell_type": "code",
   "execution_count": 45,
   "metadata": {},
   "outputs": [
    {
     "ename": "RuntimeError",
     "evalue": "Expected 4-dimensional input for 4-dimensional weight [10, 1, 3, 3], but got 3-dimensional input of size [1, 28, 28] instead",
     "output_type": "error",
     "traceback": [
      "\u001b[0;31m---------------------------------------------------------------------------\u001b[0m",
      "\u001b[0;31mRuntimeError\u001b[0m                              Traceback (most recent call last)",
      "\u001b[0;32m<ipython-input-45-bc4713a8c7c5>\u001b[0m in \u001b[0;36m<module>\u001b[0;34m\u001b[0m\n\u001b[1;32m      3\u001b[0m     \u001b[0mimage\u001b[0m\u001b[0;34m,\u001b[0m \u001b[0mlabel\u001b[0m \u001b[0;34m=\u001b[0m \u001b[0mtrain_data\u001b[0m\u001b[0;34m[\u001b[0m\u001b[0mi\u001b[0m\u001b[0;34m]\u001b[0m\u001b[0;34m\u001b[0m\u001b[0m\n\u001b[1;32m      4\u001b[0m     \u001b[0mplt\u001b[0m\u001b[0;34m.\u001b[0m\u001b[0mimshow\u001b[0m\u001b[0;34m(\u001b[0m\u001b[0mimage\u001b[0m\u001b[0;34m.\u001b[0m\u001b[0msqueeze\u001b[0m\u001b[0;34m(\u001b[0m\u001b[0;34m)\u001b[0m\u001b[0;34m.\u001b[0m\u001b[0mnumpy\u001b[0m\u001b[0;34m(\u001b[0m\u001b[0;34m)\u001b[0m\u001b[0;34m)\u001b[0m\u001b[0;34m\u001b[0m\u001b[0m\n\u001b[0;32m----> 5\u001b[0;31m     \u001b[0moutput\u001b[0m \u001b[0;34m=\u001b[0m \u001b[0mmodel\u001b[0m\u001b[0;34m(\u001b[0m\u001b[0mimage\u001b[0m\u001b[0;34m)\u001b[0m\u001b[0;34m\u001b[0m\u001b[0m\n\u001b[0m\u001b[1;32m      6\u001b[0m     \u001b[0m_\u001b[0m\u001b[0;34m,\u001b[0m \u001b[0mpred\u001b[0m \u001b[0;34m=\u001b[0m \u001b[0moutput\u001b[0m\u001b[0;34m.\u001b[0m\u001b[0mdata\u001b[0m\u001b[0;34m.\u001b[0m\u001b[0mmax\u001b[0m\u001b[0;34m(\u001b[0m\u001b[0mdim\u001b[0m\u001b[0;34m=\u001b[0m\u001b[0;36m1\u001b[0m\u001b[0;34m)\u001b[0m\u001b[0;34m\u001b[0m\u001b[0m\n\u001b[1;32m      7\u001b[0m     \u001b[0mplt\u001b[0m\u001b[0;34m.\u001b[0m\u001b[0mtitle\u001b[0m\u001b[0;34m(\u001b[0m\u001b[0;34m'real label : {} vs predicted label: {}'\u001b[0m \u001b[0;34m.\u001b[0m\u001b[0mformat\u001b[0m\u001b[0;34m(\u001b[0m\u001b[0menglish_labels\u001b[0m\u001b[0;34m[\u001b[0m\u001b[0mlabel\u001b[0m\u001b[0;34m]\u001b[0m\u001b[0;34m,\u001b[0m\u001b[0menglish_labels\u001b[0m\u001b[0;34m[\u001b[0m\u001b[0mpred\u001b[0m\u001b[0;34m]\u001b[0m\u001b[0;34m)\u001b[0m\u001b[0;34m)\u001b[0m\u001b[0;34m\u001b[0m\u001b[0m\n",
      "\u001b[0;32m~/miniconda3/lib/python3.7/site-packages/torch/nn/modules/module.py\u001b[0m in \u001b[0;36m__call__\u001b[0;34m(self, *input, **kwargs)\u001b[0m\n\u001b[1;32m    487\u001b[0m             \u001b[0mresult\u001b[0m \u001b[0;34m=\u001b[0m \u001b[0mself\u001b[0m\u001b[0;34m.\u001b[0m\u001b[0m_slow_forward\u001b[0m\u001b[0;34m(\u001b[0m\u001b[0;34m*\u001b[0m\u001b[0minput\u001b[0m\u001b[0;34m,\u001b[0m \u001b[0;34m**\u001b[0m\u001b[0mkwargs\u001b[0m\u001b[0;34m)\u001b[0m\u001b[0;34m\u001b[0m\u001b[0m\n\u001b[1;32m    488\u001b[0m         \u001b[0;32melse\u001b[0m\u001b[0;34m:\u001b[0m\u001b[0;34m\u001b[0m\u001b[0m\n\u001b[0;32m--> 489\u001b[0;31m             \u001b[0mresult\u001b[0m \u001b[0;34m=\u001b[0m \u001b[0mself\u001b[0m\u001b[0;34m.\u001b[0m\u001b[0mforward\u001b[0m\u001b[0;34m(\u001b[0m\u001b[0;34m*\u001b[0m\u001b[0minput\u001b[0m\u001b[0;34m,\u001b[0m \u001b[0;34m**\u001b[0m\u001b[0mkwargs\u001b[0m\u001b[0;34m)\u001b[0m\u001b[0;34m\u001b[0m\u001b[0m\n\u001b[0m\u001b[1;32m    490\u001b[0m         \u001b[0;32mfor\u001b[0m \u001b[0mhook\u001b[0m \u001b[0;32min\u001b[0m \u001b[0mself\u001b[0m\u001b[0;34m.\u001b[0m\u001b[0m_forward_hooks\u001b[0m\u001b[0;34m.\u001b[0m\u001b[0mvalues\u001b[0m\u001b[0;34m(\u001b[0m\u001b[0;34m)\u001b[0m\u001b[0;34m:\u001b[0m\u001b[0;34m\u001b[0m\u001b[0m\n\u001b[1;32m    491\u001b[0m             \u001b[0mhook_result\u001b[0m \u001b[0;34m=\u001b[0m \u001b[0mhook\u001b[0m\u001b[0;34m(\u001b[0m\u001b[0mself\u001b[0m\u001b[0;34m,\u001b[0m \u001b[0minput\u001b[0m\u001b[0;34m,\u001b[0m \u001b[0mresult\u001b[0m\u001b[0;34m)\u001b[0m\u001b[0;34m\u001b[0m\u001b[0m\n",
      "\u001b[0;32m<ipython-input-10-58beb8e3e4c8>\u001b[0m in \u001b[0;36mforward\u001b[0;34m(self, x)\u001b[0m\n\u001b[1;32m     10\u001b[0m \u001b[0;34m\u001b[0m\u001b[0m\n\u001b[1;32m     11\u001b[0m     \u001b[0;32mdef\u001b[0m \u001b[0mforward\u001b[0m\u001b[0;34m(\u001b[0m\u001b[0mself\u001b[0m\u001b[0;34m,\u001b[0m \u001b[0mx\u001b[0m\u001b[0;34m)\u001b[0m\u001b[0;34m:\u001b[0m\u001b[0;34m\u001b[0m\u001b[0m\n\u001b[0;32m---> 12\u001b[0;31m         \u001b[0mx\u001b[0m \u001b[0;34m=\u001b[0m \u001b[0mself\u001b[0m\u001b[0;34m.\u001b[0m\u001b[0mdropout_2d\u001b[0m\u001b[0;34m(\u001b[0m\u001b[0mF\u001b[0m\u001b[0;34m.\u001b[0m\u001b[0mmax_pool2d\u001b[0m\u001b[0;34m(\u001b[0m\u001b[0mself\u001b[0m\u001b[0;34m.\u001b[0m\u001b[0mconv1\u001b[0m\u001b[0;34m(\u001b[0m\u001b[0mx\u001b[0m\u001b[0;34m)\u001b[0m\u001b[0;34m,\u001b[0m \u001b[0mkernel_size\u001b[0m\u001b[0;34m=\u001b[0m\u001b[0;36m2\u001b[0m\u001b[0;34m)\u001b[0m\u001b[0;34m)\u001b[0m\u001b[0;34m\u001b[0m\u001b[0m\n\u001b[0m\u001b[1;32m     13\u001b[0m         \u001b[0mx\u001b[0m \u001b[0;34m=\u001b[0m \u001b[0mself\u001b[0m\u001b[0;34m.\u001b[0m\u001b[0mdropout_2d\u001b[0m\u001b[0;34m(\u001b[0m\u001b[0mF\u001b[0m\u001b[0;34m.\u001b[0m\u001b[0mmax_pool2d\u001b[0m\u001b[0;34m(\u001b[0m\u001b[0mself\u001b[0m\u001b[0;34m.\u001b[0m\u001b[0mconv2\u001b[0m\u001b[0;34m(\u001b[0m\u001b[0mx\u001b[0m\u001b[0;34m)\u001b[0m\u001b[0;34m,\u001b[0m \u001b[0mkernel_size\u001b[0m\u001b[0;34m=\u001b[0m\u001b[0;36m2\u001b[0m\u001b[0;34m)\u001b[0m\u001b[0;34m)\u001b[0m\u001b[0;34m\u001b[0m\u001b[0m\n\u001b[1;32m     14\u001b[0m         \u001b[0mx\u001b[0m \u001b[0;34m=\u001b[0m \u001b[0mx\u001b[0m\u001b[0;34m.\u001b[0m\u001b[0mview\u001b[0m\u001b[0;34m(\u001b[0m\u001b[0;34m-\u001b[0m\u001b[0;36m1\u001b[0m\u001b[0;34m,\u001b[0m \u001b[0;36m7\u001b[0m \u001b[0;34m*\u001b[0m \u001b[0;36m7\u001b[0m \u001b[0;34m*\u001b[0m \u001b[0;36m20\u001b[0m\u001b[0;34m)\u001b[0m  \u001b[0;31m# flatten / reshape\u001b[0m\u001b[0;34m\u001b[0m\u001b[0m\n",
      "\u001b[0;32m~/miniconda3/lib/python3.7/site-packages/torch/nn/modules/module.py\u001b[0m in \u001b[0;36m__call__\u001b[0;34m(self, *input, **kwargs)\u001b[0m\n\u001b[1;32m    487\u001b[0m             \u001b[0mresult\u001b[0m \u001b[0;34m=\u001b[0m \u001b[0mself\u001b[0m\u001b[0;34m.\u001b[0m\u001b[0m_slow_forward\u001b[0m\u001b[0;34m(\u001b[0m\u001b[0;34m*\u001b[0m\u001b[0minput\u001b[0m\u001b[0;34m,\u001b[0m \u001b[0;34m**\u001b[0m\u001b[0mkwargs\u001b[0m\u001b[0;34m)\u001b[0m\u001b[0;34m\u001b[0m\u001b[0m\n\u001b[1;32m    488\u001b[0m         \u001b[0;32melse\u001b[0m\u001b[0;34m:\u001b[0m\u001b[0;34m\u001b[0m\u001b[0m\n\u001b[0;32m--> 489\u001b[0;31m             \u001b[0mresult\u001b[0m \u001b[0;34m=\u001b[0m \u001b[0mself\u001b[0m\u001b[0;34m.\u001b[0m\u001b[0mforward\u001b[0m\u001b[0;34m(\u001b[0m\u001b[0;34m*\u001b[0m\u001b[0minput\u001b[0m\u001b[0;34m,\u001b[0m \u001b[0;34m**\u001b[0m\u001b[0mkwargs\u001b[0m\u001b[0;34m)\u001b[0m\u001b[0;34m\u001b[0m\u001b[0m\n\u001b[0m\u001b[1;32m    490\u001b[0m         \u001b[0;32mfor\u001b[0m \u001b[0mhook\u001b[0m \u001b[0;32min\u001b[0m \u001b[0mself\u001b[0m\u001b[0;34m.\u001b[0m\u001b[0m_forward_hooks\u001b[0m\u001b[0;34m.\u001b[0m\u001b[0mvalues\u001b[0m\u001b[0;34m(\u001b[0m\u001b[0;34m)\u001b[0m\u001b[0;34m:\u001b[0m\u001b[0;34m\u001b[0m\u001b[0m\n\u001b[1;32m    491\u001b[0m             \u001b[0mhook_result\u001b[0m \u001b[0;34m=\u001b[0m \u001b[0mhook\u001b[0m\u001b[0;34m(\u001b[0m\u001b[0mself\u001b[0m\u001b[0;34m,\u001b[0m \u001b[0minput\u001b[0m\u001b[0;34m,\u001b[0m \u001b[0mresult\u001b[0m\u001b[0;34m)\u001b[0m\u001b[0;34m\u001b[0m\u001b[0m\n",
      "\u001b[0;32m~/miniconda3/lib/python3.7/site-packages/torch/nn/modules/conv.py\u001b[0m in \u001b[0;36mforward\u001b[0;34m(self, input)\u001b[0m\n\u001b[1;32m    318\u001b[0m     \u001b[0;32mdef\u001b[0m \u001b[0mforward\u001b[0m\u001b[0;34m(\u001b[0m\u001b[0mself\u001b[0m\u001b[0;34m,\u001b[0m \u001b[0minput\u001b[0m\u001b[0;34m)\u001b[0m\u001b[0;34m:\u001b[0m\u001b[0;34m\u001b[0m\u001b[0m\n\u001b[1;32m    319\u001b[0m         return F.conv2d(input, self.weight, self.bias, self.stride,\n\u001b[0;32m--> 320\u001b[0;31m                         self.padding, self.dilation, self.groups)\n\u001b[0m\u001b[1;32m    321\u001b[0m \u001b[0;34m\u001b[0m\u001b[0m\n\u001b[1;32m    322\u001b[0m \u001b[0;34m\u001b[0m\u001b[0m\n",
      "\u001b[0;31mRuntimeError\u001b[0m: Expected 4-dimensional input for 4-dimensional weight [10, 1, 3, 3], but got 3-dimensional input of size [1, 28, 28] instead"
     ]
    },
    {
     "data": {
      "image/png": "[encoded data removed]",
      "text/plain": [
       "<Figure size 432x288 with 1 Axes>"
      ]
     },
     "metadata": {
      "needs_background": "light"
     },
     "output_type": "display_data"
    }
   ],
   "source": [
    "for i in range(14):\n",
    "    plt.subplot(2, 7, i + 1)\n",
    "    image, label = train_data[i]\n",
    "    plt.imshow(image.squeeze().numpy())\n",
    "    output = model(image)\n",
    "    _, pred = output.data.max(dim=1)\n",
    "    plt.title('real label : {} vs predicted label: {}' .format(english_labels[label],english_labels[pred]))\n",
    "plt.show()"
   ]
  },
  {
   "cell_type": "code",
   "execution_count": 19,
   "metadata": {},
   "outputs": [],
   "source": [
    "def train(model, optimizer, train_loader, epoch):\n",
    "    model.train()\n",
    "    train_loss = 0\n",
    "    for batch_idx, (data, target) in enumerate(train_loader):\n",
    "        if cuda:\n",
    "            data, target = data.cuda(), target.cuda()\n",
    "        batch_size = data.shape[0]\n",
    "        optimizer.zero_grad()\n",
    "        output = model(data)\n",
    "        loss = F.nll_loss(output, target)\n",
    "        loss.backward()\n",
    "        optimizer.step()\n",
    "\n",
    "        train_loss += loss.item() * batch_size\n",
    "\n",
    "        if batch_idx % log_interval == 0:\n",
    "            print('Train Epoch: {} [{}/{} ({:.0f}%)]\\tLoss: {:.6f}'.format(\n",
    "                epoch + 1, batch_idx * len(data), len(train_loader.dataset),\n",
    "                100. * batch_idx / len(train_loader), loss.item()))\n",
    "    train_loss /= len(test_loader.dataset)\n",
    "    return train_loss"
   ]
  },
  {
   "cell_type": "markdown",
   "metadata": {},
   "source": [
    "And a test function:"
   ]
  },
  {
   "cell_type": "code",
   "execution_count": 20,
   "metadata": {},
   "outputs": [],
   "source": [
    "def test(model, test_loader):\n",
    "    model.eval()\n",
    "    test_loss = 0\n",
    "    correct = 0\n",
    "    with torch.no_grad():\n",
    "        for data, target in test_loader:\n",
    "            if cuda:\n",
    "                data, target = data.cuda(), target.cuda()\n",
    "            output = model(data)\n",
    "            test_loss += F.nll_loss(output, target, size_average=False).item()\n",
    "            # sum up batch loss\n",
    "            _, pred = output.data.max(dim=1)\n",
    "            # get the index of the max log-probability\n",
    "            correct += torch.sum(pred == target.data.long()).item()\n",
    "\n",
    "        test_loss /= len(test_loader.dataset)\n",
    "        test_accuracy = float(correct) / len(test_loader.dataset)\n",
    "        print('\\nTest set: Average loss: {:.4f},'\n",
    "              ' Accuracy: {}/{} ({:.0f}%)\\n'.format(\n",
    "            test_loss, correct, len(test_loader.dataset),\n",
    "            100. * test_accuracy))\n",
    "    return test_loss, test_accuracy"
   ]
  },
  {
   "cell_type": "markdown",
   "metadata": {},
   "source": [
    "The `find_lr` function provides a learning rate for SGD or Adam, following heuristics from https://arxiv.org/abs/1506.01186:"
   ]
  },
  {
   "cell_type": "code",
   "execution_count": 21,
   "metadata": {},
   "outputs": [],
   "source": [
    "import numpy as np\n",
    "\n",
    "def loop_loader(data_loader):\n",
    "    while True:\n",
    "        for elem in data_loader:\n",
    "            yield elem\n",
    "\n",
    "def find_lr(model, train_loader, init_lr, max_lr, steps, n_batch_per_step=30):\n",
    "    optimizer = torch.optim.SGD(model.parameters(), lr=init_lr)\n",
    "    current_lr = init_lr\n",
    "    best_lr = current_lr\n",
    "    best_loss = float('inf')\n",
    "    lr_step = (max_lr - init_lr) / steps\n",
    "\n",
    "    loader = loop_loader(train_loader)\n",
    "    for i in range(steps):\n",
    "        mean_loss = 0\n",
    "        n_seen_samples = 0\n",
    "        for j, (data, target) in enumerate(loader):\n",
    "            if j > n_batch_per_step:\n",
    "                break\n",
    "            optimizer.zero_grad()\n",
    "            if cuda:\n",
    "                data = data.cuda()\n",
    "                target = target.cuda()\n",
    "            output = model(data)\n",
    "            loss = F.nll_loss(output, target)\n",
    "            loss.backward()\n",
    "            mean_loss += loss.item() * data.shape[0]\n",
    "            n_seen_samples += data.shape[0]\n",
    "            optimizer.step()\n",
    "\n",
    "        mean_loss /= n_seen_samples\n",
    "        print('Step %i, current LR: %f, loss %f' % (i, current_lr, mean_loss))\n",
    "            \n",
    "        if np.isnan(mean_loss) or mean_loss > best_loss * 4:\n",
    "            return best_lr / 4\n",
    "        \n",
    "        if mean_loss < best_loss:\n",
    "            best_loss = mean_loss\n",
    "            best_lr = current_lr\n",
    "\n",
    "        current_lr += lr_step\n",
    "        optimizer.param_groups[0]['lr'] = current_lr\n",
    "\n",
    "    return best_lr / 4"
   ]
  },
  {
   "cell_type": "markdown",
   "metadata": {},
   "source": [
    "Let's load our model on the GPU if required. We then define an optimizer and a learning rate scheduler"
   ]
  },
  {
   "cell_type": "code",
   "execution_count": 22,
   "metadata": {},
   "outputs": [],
   "source": [
    "log_interval = 100\n",
    "epochs = 12"
   ]
  },
  {
   "cell_type": "code",
   "execution_count": 23,
   "metadata": {
    "scrolled": true
   },
   "outputs": [
    {
     "name": "stdout",
     "output_type": "stream",
     "text": [
      "Step 0, current LR: 0.000100, loss 2.310490\n",
      "Step 1, current LR: 0.010099, loss 2.256100\n",
      "Step 2, current LR: 0.020098, loss 1.951430\n",
      "Step 3, current LR: 0.030097, loss 1.363623\n",
      "Step 4, current LR: 0.040096, loss 1.091958\n",
      "Step 5, current LR: 0.050095, loss 0.998775\n",
      "Step 6, current LR: 0.060094, loss 0.952295\n",
      "Step 7, current LR: 0.070093, loss 0.959676\n",
      "Step 8, current LR: 0.080092, loss 0.865822\n",
      "Step 9, current LR: 0.090091, loss 0.805868\n",
      "Step 10, current LR: 0.100090, loss 0.783902\n",
      "Step 11, current LR: 0.110089, loss 0.746506\n",
      "Step 12, current LR: 0.120088, loss 0.728083\n",
      "Step 13, current LR: 0.130087, loss 0.706955\n",
      "Step 14, current LR: 0.140086, loss 0.660437\n",
      "Step 15, current LR: 0.150085, loss 0.694503\n",
      "Step 16, current LR: 0.160084, loss 0.738720\n",
      "Step 17, current LR: 0.170083, loss 0.654181\n",
      "Step 18, current LR: 0.180082, loss 0.732505\n",
      "Step 19, current LR: 0.190081, loss 0.591987\n",
      "Step 20, current LR: 0.200080, loss 0.660843\n",
      "Step 21, current LR: 0.210079, loss 0.662156\n",
      "Step 22, current LR: 0.220078, loss 0.615749\n",
      "Step 23, current LR: 0.230077, loss 0.628480\n",
      "Step 24, current LR: 0.240076, loss 0.651674\n",
      "Step 25, current LR: 0.250075, loss 0.647539\n",
      "Step 26, current LR: 0.260074, loss 0.709796\n",
      "Step 27, current LR: 0.270073, loss 0.761885\n",
      "Step 28, current LR: 0.280072, loss nan\n",
      "Best LR 0.04752025000000003\n"
     ]
    }
   ],
   "source": [
    "if cuda:\n",
    "    model.cuda()\n",
    "\n",
    "model.reset_parameters()\n",
    "lr = find_lr(model, train_loader, 1e-4, 1, 100, 30)\n",
    "model.reset_parameters()\n",
    "\n",
    "print('Best LR', lr)"
   ]
  },
  {
   "cell_type": "markdown",
   "metadata": {},
   "source": [
    "Let's train our model:"
   ]
  },
  {
   "cell_type": "code",
   "execution_count": 24,
   "metadata": {},
   "outputs": [],
   "source": [
    "#find the learning rate\n",
    "#find_lr()\n",
    "#find_lr(model, train_loader, init_lr, max_lr, steps, n_batch_per_step=30)"
   ]
  },
  {
   "cell_type": "code",
   "execution_count": 25,
   "metadata": {},
   "outputs": [],
   "source": [
    "optimizer = torch.optim.SGD(model.parameters(), lr=lr)\n",
    "scheduler = torch.optim.lr_scheduler.CosineAnnealingLR(optimizer,\n",
    "                                                       T_max=3,\n",
    "                                                       last_epoch=-1)\n",
    "\n",
    "logs = {'epoch': [], 'train_loss': [], 'test_loss': [],\n",
    "        'test_accuracy': [], 'lr': []}"
   ]
  },
  {
   "cell_type": "code",
   "execution_count": 26,
   "metadata": {
    "scrolled": true
   },
   "outputs": [
    {
     "name": "stdout",
     "output_type": "stream",
     "text": [
      "Train Epoch: 1 [0/60000 (0%)]\tLoss: 2.315573\n",
      "Train Epoch: 1 [3200/60000 (5%)]\tLoss: 0.960153\n",
      "Train Epoch: 1 [6400/60000 (11%)]\tLoss: 1.000861\n",
      "Train Epoch: 1 [9600/60000 (16%)]\tLoss: 0.665569\n",
      "Train Epoch: 1 [12800/60000 (21%)]\tLoss: 0.551405\n",
      "Train Epoch: 1 [16000/60000 (27%)]\tLoss: 0.864002\n",
      "Train Epoch: 1 [19200/60000 (32%)]\tLoss: 0.587267\n",
      "Train Epoch: 1 [22400/60000 (37%)]\tLoss: 0.663400\n",
      "Train Epoch: 1 [25600/60000 (43%)]\tLoss: 0.386711\n",
      "Train Epoch: 1 [28800/60000 (48%)]\tLoss: 0.589336\n",
      "Train Epoch: 1 [32000/60000 (53%)]\tLoss: 0.558548\n",
      "Train Epoch: 1 [35200/60000 (59%)]\tLoss: 0.733056\n",
      "Train Epoch: 1 [38400/60000 (64%)]\tLoss: 0.669724\n",
      "Train Epoch: 1 [41600/60000 (69%)]\tLoss: 0.756137\n",
      "Train Epoch: 1 [44800/60000 (75%)]\tLoss: 0.405621\n",
      "Train Epoch: 1 [48000/60000 (80%)]\tLoss: 0.702884\n",
      "Train Epoch: 1 [51200/60000 (85%)]\tLoss: 0.498881\n",
      "Train Epoch: 1 [54400/60000 (91%)]\tLoss: 0.465019\n",
      "Train Epoch: 1 [57600/60000 (96%)]\tLoss: 0.417093\n"
     ]
    },
    {
     "name": "stderr",
     "output_type": "stream",
     "text": [
      "/home/lionel/miniconda3/lib/python3.7/site-packages/torch/nn/_reduction.py:49: UserWarning: size_average and reduce args will be deprecated, please use reduction='sum' instead.\n",
      "  warnings.warn(warning.format(ret))\n"
     ]
    },
    {
     "name": "stdout",
     "output_type": "stream",
     "text": [
      "\n",
      "Test set: Average loss: 0.4093, Accuracy: 8492/10000 (85%)\n",
      "\n",
      "Train Epoch: 2 [0/60000 (0%)]\tLoss: 0.986231\n",
      "Train Epoch: 2 [3200/60000 (5%)]\tLoss: 0.482738\n",
      "Train Epoch: 2 [6400/60000 (11%)]\tLoss: 0.333017\n",
      "Train Epoch: 2 [9600/60000 (16%)]\tLoss: 0.496554\n",
      "Train Epoch: 2 [12800/60000 (21%)]\tLoss: 0.527661\n",
      "Train Epoch: 2 [16000/60000 (27%)]\tLoss: 0.697987\n",
      "Train Epoch: 2 [19200/60000 (32%)]\tLoss: 0.326214\n",
      "Train Epoch: 2 [22400/60000 (37%)]\tLoss: 0.400836\n",
      "Train Epoch: 2 [25600/60000 (43%)]\tLoss: 0.635921\n",
      "Train Epoch: 2 [28800/60000 (48%)]\tLoss: 0.212432\n",
      "Train Epoch: 2 [32000/60000 (53%)]\tLoss: 0.698776\n",
      "Train Epoch: 2 [35200/60000 (59%)]\tLoss: 0.741996\n",
      "Train Epoch: 2 [38400/60000 (64%)]\tLoss: 0.656644\n",
      "Train Epoch: 2 [41600/60000 (69%)]\tLoss: 0.272325\n",
      "Train Epoch: 2 [44800/60000 (75%)]\tLoss: 0.344327\n",
      "Train Epoch: 2 [48000/60000 (80%)]\tLoss: 0.409594\n",
      "Train Epoch: 2 [51200/60000 (85%)]\tLoss: 0.388584\n",
      "Train Epoch: 2 [54400/60000 (91%)]\tLoss: 0.514413\n",
      "Train Epoch: 2 [57600/60000 (96%)]\tLoss: 0.387663\n",
      "\n",
      "Test set: Average loss: 0.3601, Accuracy: 8663/10000 (87%)\n",
      "\n",
      "Train Epoch: 3 [0/60000 (0%)]\tLoss: 0.353928\n",
      "Train Epoch: 3 [3200/60000 (5%)]\tLoss: 0.241889\n",
      "Train Epoch: 3 [6400/60000 (11%)]\tLoss: 0.681594\n",
      "Train Epoch: 3 [9600/60000 (16%)]\tLoss: 0.275990\n",
      "Train Epoch: 3 [12800/60000 (21%)]\tLoss: 0.321454\n",
      "Train Epoch: 3 [16000/60000 (27%)]\tLoss: 0.293371\n",
      "Train Epoch: 3 [19200/60000 (32%)]\tLoss: 0.485728\n",
      "Train Epoch: 3 [22400/60000 (37%)]\tLoss: 0.352735\n",
      "Train Epoch: 3 [25600/60000 (43%)]\tLoss: 0.484733\n",
      "Train Epoch: 3 [28800/60000 (48%)]\tLoss: 0.590718\n",
      "Train Epoch: 3 [32000/60000 (53%)]\tLoss: 0.410031\n",
      "Train Epoch: 3 [35200/60000 (59%)]\tLoss: 0.291673\n",
      "Train Epoch: 3 [38400/60000 (64%)]\tLoss: 0.394760\n",
      "Train Epoch: 3 [41600/60000 (69%)]\tLoss: 0.242572\n",
      "Train Epoch: 3 [44800/60000 (75%)]\tLoss: 0.527193\n",
      "Train Epoch: 3 [48000/60000 (80%)]\tLoss: 0.393523\n",
      "Train Epoch: 3 [51200/60000 (85%)]\tLoss: 0.237838\n",
      "Train Epoch: 3 [54400/60000 (91%)]\tLoss: 0.676855\n",
      "Train Epoch: 3 [57600/60000 (96%)]\tLoss: 0.398259\n",
      "\n",
      "Test set: Average loss: 0.3293, Accuracy: 8804/10000 (88%)\n",
      "\n",
      "Train Epoch: 4 [0/60000 (0%)]\tLoss: 0.440576\n",
      "Train Epoch: 4 [3200/60000 (5%)]\tLoss: 0.357397\n",
      "Train Epoch: 4 [6400/60000 (11%)]\tLoss: 0.211258\n",
      "Train Epoch: 4 [9600/60000 (16%)]\tLoss: 0.443177\n",
      "Train Epoch: 4 [12800/60000 (21%)]\tLoss: 0.280381\n",
      "Train Epoch: 4 [16000/60000 (27%)]\tLoss: 0.318173\n",
      "Train Epoch: 4 [19200/60000 (32%)]\tLoss: 0.301564\n",
      "Train Epoch: 4 [22400/60000 (37%)]\tLoss: 0.322774\n",
      "Train Epoch: 4 [25600/60000 (43%)]\tLoss: 0.245165\n",
      "Train Epoch: 4 [28800/60000 (48%)]\tLoss: 0.723636\n",
      "Train Epoch: 4 [32000/60000 (53%)]\tLoss: 0.477380\n",
      "Train Epoch: 4 [35200/60000 (59%)]\tLoss: 0.562599\n",
      "Train Epoch: 4 [38400/60000 (64%)]\tLoss: 0.106184\n",
      "Train Epoch: 4 [41600/60000 (69%)]\tLoss: 0.352187\n",
      "Train Epoch: 4 [44800/60000 (75%)]\tLoss: 0.451133\n",
      "Train Epoch: 4 [48000/60000 (80%)]\tLoss: 0.414517\n",
      "Train Epoch: 4 [51200/60000 (85%)]\tLoss: 0.218214\n",
      "Train Epoch: 4 [54400/60000 (91%)]\tLoss: 0.475746\n",
      "Train Epoch: 4 [57600/60000 (96%)]\tLoss: 0.296501\n",
      "\n",
      "Test set: Average loss: 0.3146, Accuracy: 8855/10000 (89%)\n",
      "\n",
      "Train Epoch: 5 [0/60000 (0%)]\tLoss: 0.311248\n",
      "Train Epoch: 5 [3200/60000 (5%)]\tLoss: 0.360393\n",
      "Train Epoch: 5 [6400/60000 (11%)]\tLoss: 0.158338\n",
      "Train Epoch: 5 [9600/60000 (16%)]\tLoss: 0.257355\n",
      "Train Epoch: 5 [12800/60000 (21%)]\tLoss: 0.250447\n",
      "Train Epoch: 5 [16000/60000 (27%)]\tLoss: 0.326438\n",
      "Train Epoch: 5 [19200/60000 (32%)]\tLoss: 0.366299\n",
      "Train Epoch: 5 [22400/60000 (37%)]\tLoss: 0.359834\n",
      "Train Epoch: 5 [25600/60000 (43%)]\tLoss: 0.171007\n",
      "Train Epoch: 5 [28800/60000 (48%)]\tLoss: 0.723618\n",
      "Train Epoch: 5 [32000/60000 (53%)]\tLoss: 0.816506\n",
      "Train Epoch: 5 [35200/60000 (59%)]\tLoss: 0.313687\n",
      "Train Epoch: 5 [38400/60000 (64%)]\tLoss: 0.270192\n",
      "Train Epoch: 5 [41600/60000 (69%)]\tLoss: 0.500984\n",
      "Train Epoch: 5 [44800/60000 (75%)]\tLoss: 0.203641\n",
      "Train Epoch: 5 [48000/60000 (80%)]\tLoss: 0.258606\n",
      "Train Epoch: 5 [51200/60000 (85%)]\tLoss: 0.537531\n",
      "Train Epoch: 5 [54400/60000 (91%)]\tLoss: 0.281337\n",
      "Train Epoch: 5 [57600/60000 (96%)]\tLoss: 0.412985\n",
      "\n",
      "Test set: Average loss: 0.3146, Accuracy: 8855/10000 (89%)\n",
      "\n",
      "Train Epoch: 6 [0/60000 (0%)]\tLoss: 0.582749\n",
      "Train Epoch: 6 [3200/60000 (5%)]\tLoss: 0.134730\n",
      "Train Epoch: 6 [6400/60000 (11%)]\tLoss: 0.478481\n",
      "Train Epoch: 6 [9600/60000 (16%)]\tLoss: 0.276440\n",
      "Train Epoch: 6 [12800/60000 (21%)]\tLoss: 0.536699\n",
      "Train Epoch: 6 [16000/60000 (27%)]\tLoss: 0.437377\n",
      "Train Epoch: 6 [19200/60000 (32%)]\tLoss: 0.196442\n",
      "Train Epoch: 6 [22400/60000 (37%)]\tLoss: 0.456291\n",
      "Train Epoch: 6 [25600/60000 (43%)]\tLoss: 0.503274\n",
      "Train Epoch: 6 [28800/60000 (48%)]\tLoss: 0.180784\n",
      "Train Epoch: 6 [32000/60000 (53%)]\tLoss: 0.340353\n",
      "Train Epoch: 6 [35200/60000 (59%)]\tLoss: 0.445552\n",
      "Train Epoch: 6 [38400/60000 (64%)]\tLoss: 0.227478\n",
      "Train Epoch: 6 [41600/60000 (69%)]\tLoss: 0.388076\n",
      "Train Epoch: 6 [44800/60000 (75%)]\tLoss: 0.519434\n",
      "Train Epoch: 6 [48000/60000 (80%)]\tLoss: 0.414180\n",
      "Train Epoch: 6 [51200/60000 (85%)]\tLoss: 0.316500\n",
      "Train Epoch: 6 [54400/60000 (91%)]\tLoss: 0.196048\n",
      "Train Epoch: 6 [57600/60000 (96%)]\tLoss: 0.235290\n",
      "\n",
      "Test set: Average loss: 0.3098, Accuracy: 8860/10000 (89%)\n",
      "\n",
      "Train Epoch: 7 [0/60000 (0%)]\tLoss: 0.318735\n",
      "Train Epoch: 7 [3200/60000 (5%)]\tLoss: 0.418027\n",
      "Train Epoch: 7 [6400/60000 (11%)]\tLoss: 0.257976\n",
      "Train Epoch: 7 [9600/60000 (16%)]\tLoss: 0.588307\n",
      "Train Epoch: 7 [12800/60000 (21%)]\tLoss: 0.340082\n",
      "Train Epoch: 7 [16000/60000 (27%)]\tLoss: 0.317866\n",
      "Train Epoch: 7 [19200/60000 (32%)]\tLoss: 0.375976\n",
      "Train Epoch: 7 [22400/60000 (37%)]\tLoss: 0.314742\n",
      "Train Epoch: 7 [25600/60000 (43%)]\tLoss: 0.447186\n",
      "Train Epoch: 7 [28800/60000 (48%)]\tLoss: 0.357519\n",
      "Train Epoch: 7 [32000/60000 (53%)]\tLoss: 0.232200\n",
      "Train Epoch: 7 [35200/60000 (59%)]\tLoss: 0.458429\n",
      "Train Epoch: 7 [38400/60000 (64%)]\tLoss: 0.144491\n",
      "Train Epoch: 7 [41600/60000 (69%)]\tLoss: 0.373734\n",
      "Train Epoch: 7 [44800/60000 (75%)]\tLoss: 0.400677\n",
      "Train Epoch: 7 [48000/60000 (80%)]\tLoss: 0.325345\n",
      "Train Epoch: 7 [51200/60000 (85%)]\tLoss: 0.236235\n",
      "Train Epoch: 7 [54400/60000 (91%)]\tLoss: 0.382045\n",
      "Train Epoch: 7 [57600/60000 (96%)]\tLoss: 0.591945\n",
      "\n",
      "Test set: Average loss: 0.3068, Accuracy: 8854/10000 (89%)\n",
      "\n",
      "Train Epoch: 8 [0/60000 (0%)]\tLoss: 0.459258\n",
      "Train Epoch: 8 [3200/60000 (5%)]\tLoss: 0.305794\n",
      "Train Epoch: 8 [6400/60000 (11%)]\tLoss: 0.372865\n",
      "Train Epoch: 8 [9600/60000 (16%)]\tLoss: 0.224164\n",
      "Train Epoch: 8 [12800/60000 (21%)]\tLoss: 0.647646\n",
      "Train Epoch: 8 [16000/60000 (27%)]\tLoss: 0.273147\n",
      "Train Epoch: 8 [19200/60000 (32%)]\tLoss: 0.291294\n",
      "Train Epoch: 8 [22400/60000 (37%)]\tLoss: 0.382500\n",
      "Train Epoch: 8 [25600/60000 (43%)]\tLoss: 0.338249\n",
      "Train Epoch: 8 [28800/60000 (48%)]\tLoss: 0.809614\n",
      "Train Epoch: 8 [32000/60000 (53%)]\tLoss: 0.560570\n",
      "Train Epoch: 8 [35200/60000 (59%)]\tLoss: 0.219915\n",
      "Train Epoch: 8 [38400/60000 (64%)]\tLoss: 0.459723\n",
      "Train Epoch: 8 [41600/60000 (69%)]\tLoss: 0.727924\n",
      "Train Epoch: 8 [44800/60000 (75%)]\tLoss: 0.183934\n",
      "Train Epoch: 8 [48000/60000 (80%)]\tLoss: 0.357460\n",
      "Train Epoch: 8 [51200/60000 (85%)]\tLoss: 0.380819\n",
      "Train Epoch: 8 [54400/60000 (91%)]\tLoss: 0.359989\n",
      "Train Epoch: 8 [57600/60000 (96%)]\tLoss: 0.500510\n",
      "\n",
      "Test set: Average loss: 0.3129, Accuracy: 8843/10000 (88%)\n",
      "\n",
      "Train Epoch: 9 [0/60000 (0%)]\tLoss: 0.365143\n",
      "Train Epoch: 9 [3200/60000 (5%)]\tLoss: 0.246642\n",
      "Train Epoch: 9 [6400/60000 (11%)]\tLoss: 0.283494\n",
      "Train Epoch: 9 [9600/60000 (16%)]\tLoss: 0.314151\n",
      "Train Epoch: 9 [12800/60000 (21%)]\tLoss: 0.434918\n",
      "Train Epoch: 9 [16000/60000 (27%)]\tLoss: 0.252678\n",
      "Train Epoch: 9 [19200/60000 (32%)]\tLoss: 0.539363\n",
      "Train Epoch: 9 [22400/60000 (37%)]\tLoss: 0.246325\n",
      "Train Epoch: 9 [25600/60000 (43%)]\tLoss: 0.277238\n",
      "Train Epoch: 9 [28800/60000 (48%)]\tLoss: 0.197245\n",
      "Train Epoch: 9 [32000/60000 (53%)]\tLoss: 0.329664\n",
      "Train Epoch: 9 [35200/60000 (59%)]\tLoss: 0.432654\n",
      "Train Epoch: 9 [38400/60000 (64%)]\tLoss: 0.383318\n",
      "Train Epoch: 9 [41600/60000 (69%)]\tLoss: 0.262325\n",
      "Train Epoch: 9 [44800/60000 (75%)]\tLoss: 0.269241\n",
      "Train Epoch: 9 [48000/60000 (80%)]\tLoss: 0.401549\n",
      "Train Epoch: 9 [51200/60000 (85%)]\tLoss: 0.218261\n",
      "Train Epoch: 9 [54400/60000 (91%)]\tLoss: 0.159763\n",
      "Train Epoch: 9 [57600/60000 (96%)]\tLoss: 0.290783\n",
      "\n",
      "Test set: Average loss: 0.2879, Accuracy: 8944/10000 (89%)\n",
      "\n",
      "Train Epoch: 10 [0/60000 (0%)]\tLoss: 0.345348\n",
      "Train Epoch: 10 [3200/60000 (5%)]\tLoss: 0.220848\n",
      "Train Epoch: 10 [6400/60000 (11%)]\tLoss: 0.163343\n"
     ]
    },
    {
     "name": "stdout",
     "output_type": "stream",
     "text": [
      "Train Epoch: 10 [9600/60000 (16%)]\tLoss: 0.321392\n",
      "Train Epoch: 10 [12800/60000 (21%)]\tLoss: 0.291418\n",
      "Train Epoch: 10 [16000/60000 (27%)]\tLoss: 0.202398\n",
      "Train Epoch: 10 [19200/60000 (32%)]\tLoss: 0.120967\n",
      "Train Epoch: 10 [22400/60000 (37%)]\tLoss: 0.355374\n",
      "Train Epoch: 10 [25600/60000 (43%)]\tLoss: 0.438099\n",
      "Train Epoch: 10 [28800/60000 (48%)]\tLoss: 0.440300\n",
      "Train Epoch: 10 [32000/60000 (53%)]\tLoss: 0.256307\n",
      "Train Epoch: 10 [35200/60000 (59%)]\tLoss: 0.369465\n",
      "Train Epoch: 10 [38400/60000 (64%)]\tLoss: 0.238500\n",
      "Train Epoch: 10 [41600/60000 (69%)]\tLoss: 0.097775\n",
      "Train Epoch: 10 [44800/60000 (75%)]\tLoss: 0.297381\n",
      "Train Epoch: 10 [48000/60000 (80%)]\tLoss: 0.380018\n",
      "Train Epoch: 10 [51200/60000 (85%)]\tLoss: 0.585948\n",
      "Train Epoch: 10 [54400/60000 (91%)]\tLoss: 0.307175\n",
      "Train Epoch: 10 [57600/60000 (96%)]\tLoss: 0.387571\n",
      "\n",
      "Test set: Average loss: 0.2824, Accuracy: 8990/10000 (90%)\n",
      "\n",
      "Train Epoch: 11 [0/60000 (0%)]\tLoss: 0.293117\n",
      "Train Epoch: 11 [3200/60000 (5%)]\tLoss: 0.376464\n",
      "Train Epoch: 11 [6400/60000 (11%)]\tLoss: 0.425643\n",
      "Train Epoch: 11 [9600/60000 (16%)]\tLoss: 0.171209\n",
      "Train Epoch: 11 [12800/60000 (21%)]\tLoss: 0.641150\n",
      "Train Epoch: 11 [16000/60000 (27%)]\tLoss: 0.183283\n",
      "Train Epoch: 11 [19200/60000 (32%)]\tLoss: 0.160359\n",
      "Train Epoch: 11 [22400/60000 (37%)]\tLoss: 0.442034\n",
      "Train Epoch: 11 [25600/60000 (43%)]\tLoss: 0.258327\n",
      "Train Epoch: 11 [28800/60000 (48%)]\tLoss: 0.288773\n",
      "Train Epoch: 11 [32000/60000 (53%)]\tLoss: 0.243555\n",
      "Train Epoch: 11 [35200/60000 (59%)]\tLoss: 0.359747\n",
      "Train Epoch: 11 [38400/60000 (64%)]\tLoss: 0.232939\n",
      "Train Epoch: 11 [41600/60000 (69%)]\tLoss: 0.278768\n",
      "Train Epoch: 11 [44800/60000 (75%)]\tLoss: 0.302257\n",
      "Train Epoch: 11 [48000/60000 (80%)]\tLoss: 0.252634\n",
      "Train Epoch: 11 [51200/60000 (85%)]\tLoss: 0.037855\n",
      "Train Epoch: 11 [54400/60000 (91%)]\tLoss: 0.203699\n",
      "Train Epoch: 11 [57600/60000 (96%)]\tLoss: 0.209732\n",
      "\n",
      "Test set: Average loss: 0.2824, Accuracy: 8990/10000 (90%)\n",
      "\n",
      "Train Epoch: 12 [0/60000 (0%)]\tLoss: 0.348284\n",
      "Train Epoch: 12 [3200/60000 (5%)]\tLoss: 0.310291\n",
      "Train Epoch: 12 [6400/60000 (11%)]\tLoss: 0.244798\n",
      "Train Epoch: 12 [9600/60000 (16%)]\tLoss: 0.287443\n",
      "Train Epoch: 12 [12800/60000 (21%)]\tLoss: 0.288927\n",
      "Train Epoch: 12 [16000/60000 (27%)]\tLoss: 0.405929\n",
      "Train Epoch: 12 [19200/60000 (32%)]\tLoss: 0.231644\n",
      "Train Epoch: 12 [22400/60000 (37%)]\tLoss: 0.310937\n",
      "Train Epoch: 12 [25600/60000 (43%)]\tLoss: 0.300312\n",
      "Train Epoch: 12 [28800/60000 (48%)]\tLoss: 0.206325\n",
      "Train Epoch: 12 [32000/60000 (53%)]\tLoss: 0.118978\n",
      "Train Epoch: 12 [35200/60000 (59%)]\tLoss: 0.462747\n",
      "Train Epoch: 12 [38400/60000 (64%)]\tLoss: 0.167814\n",
      "Train Epoch: 12 [41600/60000 (69%)]\tLoss: 0.212006\n",
      "Train Epoch: 12 [44800/60000 (75%)]\tLoss: 0.239506\n",
      "Train Epoch: 12 [48000/60000 (80%)]\tLoss: 0.190860\n",
      "Train Epoch: 12 [51200/60000 (85%)]\tLoss: 0.263676\n",
      "Train Epoch: 12 [54400/60000 (91%)]\tLoss: 1.072333\n",
      "Train Epoch: 12 [57600/60000 (96%)]\tLoss: 0.304628\n",
      "\n",
      "Test set: Average loss: 0.2765, Accuracy: 8987/10000 (90%)\n",
      "\n"
     ]
    }
   ],
   "source": [
    "for epoch in range(epochs):\n",
    "    train_loss = train(model, optimizer, train_loader, epoch)\n",
    "    test_loss, test_accuracy = test(model, test_loader)\n",
    "    logs['epoch'].append(epoch)\n",
    "    logs['train_loss'].append(train_loss)\n",
    "    logs['test_loss'].append(test_loss)\n",
    "    logs['test_accuracy'].append(test_accuracy)\n",
    "    logs['lr'].append(optimizer.param_groups[0]['lr'])\n",
    "    scheduler.step(epoch)"
   ]
  },
  {
   "cell_type": "code",
   "execution_count": null,
   "metadata": {
    "collapsed": true
   },
   "outputs": [],
   "source": []
  }
 ],
 "metadata": {
  "kernelspec": {
   "display_name": "Python 3",
   "language": "python",
   "name": "python3"
  },
  "language_info": {
   "codemirror_mode": {
    "name": "ipython",
    "version": 3
   },
   "file_extension": ".py",
   "mimetype": "text/x-python",
   "name": "python",
   "nbconvert_exporter": "python",
   "pygments_lexer": "ipython3",
   "version": "3.7.0"
  }
 },
 "nbformat": 4,
 "nbformat_minor": 2
}
