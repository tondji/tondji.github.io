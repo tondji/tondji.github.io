{
 "cells": [
  {
   "cell_type": "markdown",
   "metadata": {},
   "source": [
    "## 3) Bayesian Linear Regression"
   ]
  },
  {
   "cell_type": "code",
   "execution_count": null,
   "metadata": {
    "collapsed": true
   },
   "outputs": [],
   "source": [
    "import numpy as np"
   ]
  },
  {
   "cell_type": "code",
   "execution_count": null,
   "metadata": {
    "collapsed": true
   },
   "outputs": [],
   "source": [
    "def lml(alpha, beta, Phi, Y):\n",
    "    \n",
    "    N = Y.shape[0]\n",
    "    A = alpha * (Phi @ Phi.T) + beta*np.eye(N)\n",
    "    lml = (-N * np.log(2*np.pi) - np.log(abs(np.linalg.det(A))) - Y.T @ (np.linalg.inv(A+ 1e-08*np.eye(A.shape[0])) @ Y))/2\n",
    "                                           \n",
    "    return lml"
   ]
  },
  {
   "cell_type": "code",
   "execution_count": null,
   "metadata": {
    "collapsed": true
   },
   "outputs": [],
   "source": [
    "def grad_lml(alpha, beta, Phi, Y):\n",
    "    \n",
    "    N = Y.shape[0]\n",
    "    A = alpha * (Phi @ Phi.T) + beta*np.eye(N)\n",
    "    \n",
    "    alpha_grad = (Y.T @ (np.linalg.inv(A) @ Phi @ Phi.T @ np.linalg.inv(A) @ Y) - np.trace(np.linalg.inv(A) @ Phi @ Phi.T))/2\n",
    "    beta_grad = (Y.T @ (np.linalg.inv(A) @ np.linalg.inv(A)) @ Y - np.trace(np.linalg.inv(A)))/2\n",
    "    \n",
    "    return (alpha_grad, beta_grad)"
   ]
  }
 ],
 "metadata": {
  "kernelspec": {
   "display_name": "Python 3",
   "language": "python",
   "name": "python3"
  },
  "language_info": {
   "codemirror_mode": {
    "name": "ipython",
    "version": 3
   },
   "file_extension": ".py",
   "mimetype": "text/x-python",
   "name": "python",
   "nbconvert_exporter": "python",
   "pygments_lexer": "ipython3",
   "version": "3.5.3"
  }
 },
 "nbformat": 4,
 "nbformat_minor": 2
}
