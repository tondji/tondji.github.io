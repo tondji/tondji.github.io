{
 "cells": [
  {
   "cell_type": "code",
   "execution_count": 15,
   "metadata": {
    "collapsed": true
   },
   "outputs": [],
   "source": [
    "import numpy as np\n",
    "from scipy.stats import multivariate_normal as mvn"
   ]
  },
  {
   "cell_type": "code",
   "execution_count": 14,
   "metadata": {
    "collapsed": false
   },
   "outputs": [],
   "source": [
    "class GaussianMixtureModel():\n",
    "    \"\"\"Density estimation with Gaussian Mixture Models (GMM).\n",
    "\n",
    "    You can add new functions if you find it useful, but **do not** change\n",
    "    the names or argument lists of the functions provided.\n",
    "    \"\"\"\n",
    "    def __init__(self, X, K):\n",
    "        \"\"\"Initialise GMM class.\n",
    "\n",
    "        Arguments:\n",
    "          X -- data, N x D array\n",
    "          K -- number of mixture components, int\n",
    "        \"\"\"\n",
    "        self.X = X\n",
    "        self.n = X.shape[0]\n",
    "        self.D = X.shape[1]\n",
    "        self.K = K\n",
    "\n",
    "\n",
    "    def E_step(self, mu, S, pi):\n",
    "        \"\"\"Compute the E step of the EM algorithm.\n",
    "\n",
    "        Arguments:\n",
    "          mu -- component means, K x D array\n",
    "          S -- component covariances, K x D x D array\n",
    "          pi -- component weights, K x 1 array\n",
    "\n",
    "        Returns:\n",
    "          r_new -- updated component responsabilities, N x K array\n",
    "        \"\"\"\n",
    "        # Assert that all arguments have the right shape\n",
    "        assert(mu.shape == (self.K, self.D) and\\\n",
    "               S.shape  == (self.K, self.D, self.D) and\\\n",
    "               pi.shape == (self.K, 1))\n",
    "        r_new = np.zeros((self.n, self.K))\n",
    "\n",
    "        # Task 1: implement the E step and return updated responsabilities\n",
    "        # Write your code from here...\n",
    "\n",
    "        for i in range(self.n): \n",
    "            Nk = 0\n",
    "            for j in range(self.K):\n",
    "                Nk += pi[j] * mvn.pdf((self.X)[i], mu[j], S[j], allow_singular=True)\n",
    "            for k in range(self.K):\n",
    "                r_new[i, k] = pi[k] * mvn.pdf((self.X)[i], mu[k], S[k])/ Nk\n",
    "        \n",
    "        # ... to here.\n",
    "        assert(r_new.shape == (self.n, self.K))\n",
    "        return r_new\n",
    "\n",
    "\n",
    "    def M_step(self, mu, r):\n",
    "        \"\"\"Compute the M step of the EM algorithm.\n",
    "\n",
    "        Arguments:\n",
    "          mu -- previous component means, K x D array\n",
    "          r -- previous component responsabilities,  N x K array\n",
    "\n",
    "        Returns:\n",
    "          mu_new -- updated component means, K x D array\n",
    "          S_new -- updated component covariances, K x D x D array\n",
    "          pi_new -- updated component weights, K x 1 array\n",
    "        \"\"\"\n",
    "        assert(mu.shape == (self.K, self.D) and\\\n",
    "               r.shape  == (self.n, self.K))\n",
    "        mu_new = np.zeros((self.K, self.D))\n",
    "        S_new  = np.zeros((self.K, self.D, self.D))\n",
    "        pi_new = np.zeros((self.K, 1))\n",
    "\n",
    "        # Task 2: implement the M step and return updated mixture parameters\n",
    "        # Write your code from here...\n",
    "\n",
    "        #updating mu and pi\n",
    "        for k in range(self.K):\n",
    "            Nk = 0\n",
    "            for j in range(self.n):\n",
    "                Nk += r[j,k]\n",
    "            for i in range(self.n):\n",
    "                mu_new[k] += (r[i, k] * (self.X)[i])\n",
    "            mu_new[k] /= Nk\n",
    "            pi_new[k] = Nk/ (self.n)\n",
    "        \n",
    "        #updating S\n",
    "        for k in range(self.K):\n",
    "            Nk = 0\n",
    "            for i in range(self.n): \n",
    "                Nk += r[i,k]\n",
    "            for i in range(self.n):\n",
    "                ys = np.reshape((self.X)[i]- mu_new[k], (-1,1))\n",
    "                S_new[k] += (r[i, k] * (ys @ (ys.T)))\n",
    "            S_new[k] /= Nk\n",
    "        \n",
    "        # ... to here.\n",
    "        assert(mu_new.shape == (self.K, self.D) and\\\n",
    "               S_new.shape  == (self.K, self.D, self.D) and\\\n",
    "               pi_new.shape == (self.K, 1))\n",
    "        return mu_new, S_new, pi_new\n",
    "\n",
    "    \n",
    "    def log_likelihood(self, pi, mu, S):\n",
    "        '''Compute the loglikelihood'''\n",
    "        \n",
    "        ll = 0\n",
    "        for i in range(self.n):\n",
    "                s = 0\n",
    "                for k in range(K):\n",
    "                    s += pi[k] * mvn.pdf((self.X)[i], mu[k], S[k], allow_singular=True)\n",
    "                ll += np.log(s)\n",
    "        return ll\n",
    "    \n",
    "    def train(self, initial_params):\n",
    "        \"\"\"Fit a Gaussian Mixture Model (GMM) to the data in matrix X.\n",
    "\n",
    "        Arguments:\n",
    "          initial_params -- dictionary with fields 'mu', 'S', 'pi' and 'K'\n",
    "\n",
    "        Returns:kernel \n",
    "          mu -- component means, K x D array\n",
    "          S -- component covariances, K x D x D array\n",
    "          pi -- component weights, K x 1 array\n",
    "          r -- component responsabilities, N x K array\n",
    "        \"\"\"\n",
    "        # Assert that initial_params has all the necessary fields\n",
    "        assert(all([k in initial_params for k in ['mu', 'S', 'pi']]))\n",
    "\n",
    "        mu = np.zeros((self.K, self.D))\n",
    "        S  = np.zeros((self.K, self.D, self.D))\n",
    "        pi = np.zeros((self.K, 1))\n",
    "        r  = np.zeros((self.n, self.K))\n",
    "\n",
    "        # Task 3: implement the EM loop to train the GMM\n",
    "        # Write your code from here...\n",
    "        \n",
    "        # updating log likelihoood\n",
    "        eps = 1e-6  \n",
    "        K = initial_params['K']\n",
    "        mu = initial_params['mu']\n",
    "        S = initial_params['S']\n",
    "        pi = initial_params['pi']\n",
    "        \n",
    "        ll = 1\n",
    "        previous_ll = 0\n",
    "        \n",
    "        while(np.abs(ll-previous_ll) > eps):       \n",
    "            previous_ll = self.log_likelihood(pi, mu, S)\n",
    "            \n",
    "            r = self.E_step(mu, S, pi)\n",
    "            mu, S, pi =  self.M_step(mu, r)\n",
    "            ll = self.log_likelihood(pi, mu, S)\n",
    "            print('diff', np.abs(ll-previous_ll))\n",
    "\n",
    "        # ... to here.\n",
    "        assert(mu.shape == (self.K, self.D) and\\\n",
    "               S.shape  == (self.K, self.D, self.D) and\\\n",
    "               pi.shape == (self.K, 1) and\\\n",
    "               r.shape  == (self.n, self.K))\n",
    "        return mu, S, pi, r\n",
    "\n",
    "\n",
    "if __name__ == '__main__':\n",
    "    np.random.seed(43)\n",
    "\n",
    "    ##########################\n",
    "    # You can put your tests here - marking\n",
    "    # will be based on importing this code and calling\n",
    "    # specific functions with custom input.\n",
    "    # Do not write code outside the class definition or\n",
    "    # this if-block.\n",
    "    ##########################"
   ]
  },
  {
   "cell_type": "code",
   "execution_count": 3,
   "metadata": {
    "collapsed": false
   },
   "outputs": [],
   "source": [
    "np.random.seed(123)\n",
    "\n",
    "# create data set\n",
    "n = 1000\n",
    "_mu = np.array([[0,4], [-2,0]])\n",
    "_S = np.array([[[3, 0], [0, 0.5]], [[1,0],[0,2]]])\n",
    "_pi = np.array([0.6, 0.4]).reshape(-1,1)\n",
    "X = np.concatenate([np.random.multivariate_normal(mu, S, int(pi*n))\n",
    "                    for pi, mu, S in zip(_pi, _mu, _S)])\n",
    "\n",
    "# initial values for parameters\n",
    "pi = (np.random.random(2)).reshape(-1,1)\n",
    "pi /= pi.sum()\n",
    "mu = np.random.random((2,2)) \n",
    "S = np.array([np.eye(2)] * 2)\n",
    "\n",
    "initial_params = {'mu':mu, 'S':S, 'pi': pi,'K': 2}"
   ]
  },
  {
   "cell_type": "code",
   "execution_count": null,
   "metadata": {
    "collapsed": false
   },
   "outputs": [],
   "source": [
    "X.shape"
   ]
  },
  {
   "cell_type": "code",
   "execution_count": null,
   "metadata": {
    "collapsed": true
   },
   "outputs": [],
   "source": [
    "K = 2\n",
    "GMM = GaussianMixtureModel(X, K)"
   ]
  },
  {
   "cell_type": "code",
   "execution_count": null,
   "metadata": {
    "collapsed": false
   },
   "outputs": [],
   "source": [
    "n = X.shape[0]\n",
    "D = X.shape[1]\n",
    "n,D"
   ]
  },
  {
   "cell_type": "code",
   "execution_count": null,
   "metadata": {
    "collapsed": false
   },
   "outputs": [],
   "source": [
    "mu.shape #K*D"
   ]
  },
  {
   "cell_type": "code",
   "execution_count": null,
   "metadata": {
    "collapsed": false
   },
   "outputs": [],
   "source": [
    "S.shape #K*D*D"
   ]
  },
  {
   "cell_type": "code",
   "execution_count": null,
   "metadata": {
    "collapsed": false
   },
   "outputs": [],
   "source": [
    "pi.shape #K"
   ]
  },
  {
   "cell_type": "code",
   "execution_count": null,
   "metadata": {
    "collapsed": false
   },
   "outputs": [],
   "source": [
    "r = GMM.E_step(mu, S, pi);r.shape"
   ]
  },
  {
   "cell_type": "code",
   "execution_count": null,
   "metadata": {
    "collapsed": false
   },
   "outputs": [],
   "source": [
    "mu_new, S_new, pi_new = GMM.M_step(mu, r)\n",
    "print(mu_new.shape, S_new.shape, pi_new.shape)"
   ]
  },
  {
   "cell_type": "code",
   "execution_count": null,
   "metadata": {
    "collapsed": false,
    "scrolled": true
   },
   "outputs": [],
   "source": [
    "mu, S, pi, r = GMM.train(initial_params)"
   ]
  },
  {
   "cell_type": "code",
   "execution_count": null,
   "metadata": {
    "collapsed": false
   },
   "outputs": [],
   "source": [
    "mu"
   ]
  },
  {
   "cell_type": "code",
   "execution_count": null,
   "metadata": {
    "collapsed": false
   },
   "outputs": [],
   "source": [
    "S"
   ]
  },
  {
   "cell_type": "code",
   "execution_count": null,
   "metadata": {
    "collapsed": false
   },
   "outputs": [],
   "source": [
    "pi"
   ]
  },
  {
   "cell_type": "code",
   "execution_count": 17,
   "metadata": {
    "collapsed": false
   },
   "outputs": [],
   "source": [
    "#import pandas as pd\n",
    "import numpy as np\n",
    "# df = pd.read_csv('geolocations.csv');df\n",
    "df = np.loadtxt('geolocations.csv', delimiter = ',')\n",
    "X = df "
   ]
  },
  {
   "cell_type": "code",
   "execution_count": 18,
   "metadata": {
    "collapsed": true
   },
   "outputs": [],
   "source": [
    "import matplotlib.pyplot as plt"
   ]
  },
  {
   "cell_type": "code",
   "execution_count": 6,
   "metadata": {
    "collapsed": false
   },
   "outputs": [
    {
     "data": {
      "image/png": "[encoded data removed]",
      "text/plain": [
       "<matplotlib.figure.Figure at 0x7ff30de5e0f0>"
      ]
     },
     "metadata": {},
     "output_type": "display_data"
    }
   ],
   "source": [
    "plt.scatter(df[:,0],df[:,1], marker = '.')\n",
    "plt.show()"
   ]
  },
  {
   "cell_type": "code",
   "execution_count": 62,
   "metadata": {
    "collapsed": false
   },
   "outputs": [],
   "source": [
    "# initial values for parameters\n",
    "K = 3\n",
    "pi = (np.random.random(K)).reshape(-1,1)\n",
    "pi /= pi.sum()\n",
    "# mu = np.random.random((2,2)) \n",
    "S = np.array([i * np.eye(2) for i in range(1,4)])\n",
    "i, j, k = 0,0,0\n",
    "while i == j == k :\n",
    "    i, j, k = np.random.randint(30), np.random.randint(30) , np.random.randint(30)\n",
    "mu = np.array((df[i],df[j], df[k]))\n",
    "initial_params = {'mu':mu, 'S':S, 'pi': pi,'K': K}"
   ]
  },
  {
   "cell_type": "code",
   "execution_count": 56,
   "metadata": {
    "collapsed": false
   },
   "outputs": [],
   "source": [
    "df_mean = df.mean(axis=0)"
   ]
  },
  {
   "cell_type": "code",
   "execution_count": 57,
   "metadata": {
    "collapsed": false
   },
   "outputs": [],
   "source": [
    "std_df = df.std(axis=0)"
   ]
  },
  {
   "cell_type": "code",
   "execution_count": 58,
   "metadata": {
    "collapsed": false
   },
   "outputs": [],
   "source": [
    "df_new = (df - df_mean)/std_df"
   ]
  },
  {
   "cell_type": "code",
   "execution_count": 59,
   "metadata": {
    "collapsed": false
   },
   "outputs": [
    {
     "data": {
      "text/plain": [
       "array([[-0.40863952, -0.68777774],\n",
       "       [-0.37199326, -0.57091008],\n",
       "       [-0.46901162, -0.19772012],\n",
       "       [ 0.30037516, -1.65005776],\n",
       "       [ 2.20601045, -0.47349119],\n",
       "       [-0.92919015,  1.04774405],\n",
       "       [-0.46009757, -0.76575341],\n",
       "       [ 0.43512475,  1.04810703],\n",
       "       [ 0.35096429, -1.72779045],\n",
       "       [ 0.35709148, -1.71935828],\n",
       "       [-0.59618763, -0.21593262],\n",
       "       [ 1.23861601,  1.83361819],\n",
       "       [ 0.43528532,  1.04685074],\n",
       "       [ 3.69819994, -0.79908575],\n",
       "       [ 0.23865797, -1.1051358 ],\n",
       "       [-0.5895571 , -0.21495582],\n",
       "       [-0.05472302,  0.06057078],\n",
       "       [-0.46054824, -0.76828709],\n",
       "       [-1.12101115,  0.89765755],\n",
       "       [-0.60436358, -0.215467  ],\n",
       "       [-0.29348966, -0.54003919],\n",
       "       [-0.25475684, -0.60308671],\n",
       "       [ 0.9573232 ,  1.42110529],\n",
       "       [-0.01049876,  1.39804825],\n",
       "       [-1.09721788,  0.91651569],\n",
       "       [-0.93243927,  1.05185087],\n",
       "       [ 0.44722898,  1.05038734],\n",
       "       [-0.37436416, -0.57216303],\n",
       "       [-0.51435368, -0.20465996],\n",
       "       [-1.12243447,  1.25921622]])"
      ]
     },
     "execution_count": 59,
     "metadata": {},
     "output_type": "execute_result"
    }
   ],
   "source": [
    "df_new"
   ]
  },
  {
   "cell_type": "code",
   "execution_count": 60,
   "metadata": {
    "collapsed": false
   },
   "outputs": [
    {
     "data": {
      "image/png": "[encoded data removed]",
      "text/plain": [
       "<matplotlib.figure.Figure at 0x7ff30dd2b780>"
      ]
     },
     "metadata": {},
     "output_type": "display_data"
    }
   ],
   "source": [
    "plt.scatter(df_new[:,0],df_new[:,1], marker = '*')\n",
    "plt.show()"
   ]
  },
  {
   "cell_type": "code",
   "execution_count": 61,
   "metadata": {
    "collapsed": true
   },
   "outputs": [],
   "source": [
    "# initial values for parameters\n",
    "K = 3\n",
    "pi = (np.random.random(K)).reshape(-1,1)\n",
    "pi /= pi.sum()\n",
    "# mu = np.random.random((2,2)) \n",
    "S = np.array([i * np.eye(2) for i in range(1,4)])\n",
    "i, j, k = 0,0,0\n",
    "while i == j == k :\n",
    "    i, j, k = np.random.randint(30), np.random.randint(30) , np.random.randint(30)\n",
    "mu = np.array((df_new[i],df_new[j], df_new[k]))\n",
    "initial_params = {'mu':mu, 'S':S, 'pi': pi,'K': K}"
   ]
  },
  {
   "cell_type": "code",
   "execution_count": null,
   "metadata": {
    "collapsed": true
   },
   "outputs": [],
   "source": [
    "GMM_dff = GaussianMixtureModel(df_new, K)\n",
    "mu_df, S_df, pi_df, r_df = GMM_dff.train(initial_params)"
   ]
  },
  {
   "cell_type": "code",
   "execution_count": 63,
   "metadata": {
    "collapsed": false
   },
   "outputs": [
    {
     "data": {
      "text/plain": [
       "(16, 20, 4)"
      ]
     },
     "execution_count": 63,
     "metadata": {},
     "output_type": "execute_result"
    }
   ],
   "source": [
    "i,j,k"
   ]
  },
  {
   "cell_type": "code",
   "execution_count": 64,
   "metadata": {
    "collapsed": false
   },
   "outputs": [
    {
     "data": {
      "text/plain": [
       "array([[0.24615688],\n",
       "       [0.38652058],\n",
       "       [0.36732255]])"
      ]
     },
     "execution_count": 64,
     "metadata": {},
     "output_type": "execute_result"
    }
   ],
   "source": [
    "pi"
   ]
  },
  {
   "cell_type": "code",
   "execution_count": 65,
   "metadata": {
    "collapsed": false
   },
   "outputs": [
    {
     "data": {
      "text/plain": [
       "array([[-0.05472302,  0.06057078],\n",
       "       [-0.29348966, -0.54003919],\n",
       "       [ 2.20601045, -0.47349119]])"
      ]
     },
     "execution_count": 65,
     "metadata": {},
     "output_type": "execute_result"
    }
   ],
   "source": [
    "mu"
   ]
  },
  {
   "cell_type": "code",
   "execution_count": 66,
   "metadata": {
    "collapsed": false
   },
   "outputs": [
    {
     "data": {
      "text/plain": [
       "array([[[1., 0.],\n",
       "        [0., 1.]],\n",
       "\n",
       "       [[2., 0.],\n",
       "        [0., 2.]],\n",
       "\n",
       "       [[3., 0.],\n",
       "        [0., 3.]]])"
      ]
     },
     "execution_count": 66,
     "metadata": {},
     "output_type": "execute_result"
    }
   ],
   "source": [
    "S"
   ]
  },
  {
   "cell_type": "code",
   "execution_count": 67,
   "metadata": {
    "collapsed": false
   },
   "outputs": [
    {
     "name": "stdout",
     "output_type": "stream",
     "text": [
      "diff [15.60498469]\n",
      "diff [1.92296185]\n",
      "diff [3.18151081]\n",
      "diff [8.43958083]\n",
      "diff [8.65561446]\n",
      "diff [3.05666387]\n",
      "diff [2.29436019]\n",
      "diff [1.53973845]\n",
      "diff [1.43012705]\n",
      "diff [1.5739946]\n",
      "diff [1.29483602]\n",
      "diff [0.01932873]\n",
      "diff [0.00043314]\n",
      "diff [5.90356373e-05]\n",
      "diff [8.46314652e-06]\n",
      "diff [1.20564189e-06]\n",
      "diff [1.71414278e-07]\n"
     ]
    }
   ],
   "source": [
    "GMM_df = GaussianMixtureModel(df, K)\n",
    "mu_df, S_df, pi_df, r_df = GMM_df.train(initial_params)"
   ]
  },
  {
   "cell_type": "code",
   "execution_count": 68,
   "metadata": {
    "collapsed": false
   },
   "outputs": [
    {
     "data": {
      "text/plain": [
       "array([[ 0.5654303 ,  1.05744329],\n",
       "       [-0.44488519, -0.31420158],\n",
       "       [ 1.82838003,  0.13149947]])"
      ]
     },
     "execution_count": 68,
     "metadata": {},
     "output_type": "execute_result"
    }
   ],
   "source": [
    "mu_df"
   ]
  },
  {
   "cell_type": "code",
   "execution_count": 69,
   "metadata": {
    "collapsed": false
   },
   "outputs": [
    {
     "data": {
      "text/plain": [
       "array([[[ 0.19763727,  0.24402576],\n",
       "        [ 0.24402576,  0.32384746]],\n",
       "\n",
       "       [[ 0.20365851, -0.38171468],\n",
       "        [-0.38171468,  0.78583563]],\n",
       "\n",
       "       [[ 2.3073508 , -1.41946796],\n",
       "        [-1.41946796,  0.93671078]]])"
      ]
     },
     "execution_count": 69,
     "metadata": {},
     "output_type": "execute_result"
    }
   ],
   "source": [
    "S_df"
   ]
  },
  {
   "cell_type": "code",
   "execution_count": 70,
   "metadata": {
    "collapsed": false
   },
   "outputs": [
    {
     "data": {
      "text/plain": [
       "array([[0.19340844],\n",
       "       [0.69684561],\n",
       "       [0.10974595]])"
      ]
     },
     "execution_count": 70,
     "metadata": {},
     "output_type": "execute_result"
    }
   ],
   "source": [
    "pi_df"
   ]
  },
  {
   "cell_type": "code",
   "execution_count": 74,
   "metadata": {
    "collapsed": false
   },
   "outputs": [
    {
     "data": {
      "image/png": "[encoded data removed]",
      "text/plain": [
       "<matplotlib.figure.Figure at 0x7ff308da3048>"
      ]
     },
     "metadata": {},
     "output_type": "display_data"
    }
   ],
   "source": [
    "# Plot the data with K Means Labels\n",
    "from sklearn.cluster import KMeans\n",
    "kmeans = KMeans(3, random_state=0)\n",
    "labels = kmeans.fit(df).predict(df)\n",
    "plt.scatter(df[:, 0], df[:, 1], c=labels, s=10, cmap='viridis');\n",
    "\n",
    "plt.show()"
   ]
  },
  {
   "cell_type": "code",
   "execution_count": 78,
   "metadata": {
    "collapsed": false,
    "scrolled": true
   },
   "outputs": [
    {
     "name": "stderr",
     "output_type": "stream",
     "text": [
      "/usr/lib/python3/dist-packages/sklearn/utils/deprecation.py:52: DeprecationWarning: Class GMM is deprecated; The class GMM is deprecated in 0.18 and will be  removed in 0.20. Use class GaussianMixture instead.\n",
      "  warnings.warn(msg, category=DeprecationWarning)\n",
      "/usr/lib/python3/dist-packages/sklearn/utils/deprecation.py:70: DeprecationWarning: Function distribute_covar_matrix_to_match_covariance_type is deprecated; The functon distribute_covar_matrix_to_match_covariance_typeis deprecated in 0.18 and will be removed in 0.20.\n",
      "  warnings.warn(msg, category=DeprecationWarning)\n",
      "/usr/lib/python3/dist-packages/sklearn/utils/deprecation.py:70: DeprecationWarning: Function log_multivariate_normal_density is deprecated; The function log_multivariate_normal_density is deprecated in 0.18 and will be removed in 0.20.\n",
      "  warnings.warn(msg, category=DeprecationWarning)\n",
      "/usr/lib/python3/dist-packages/sklearn/utils/deprecation.py:70: DeprecationWarning: Function log_multivariate_normal_density is deprecated; The function log_multivariate_normal_density is deprecated in 0.18 and will be removed in 0.20.\n",
      "  warnings.warn(msg, category=DeprecationWarning)\n",
      "/usr/lib/python3/dist-packages/sklearn/utils/deprecation.py:70: DeprecationWarning: Function log_multivariate_normal_density is deprecated; The function log_multivariate_normal_density is deprecated in 0.18 and will be removed in 0.20.\n",
      "  warnings.warn(msg, category=DeprecationWarning)\n",
      "/usr/lib/python3/dist-packages/sklearn/utils/deprecation.py:70: DeprecationWarning: Function log_multivariate_normal_density is deprecated; The function log_multivariate_normal_density is deprecated in 0.18 and will be removed in 0.20.\n",
      "  warnings.warn(msg, category=DeprecationWarning)\n",
      "/usr/lib/python3/dist-packages/sklearn/utils/deprecation.py:70: DeprecationWarning: Function log_multivariate_normal_density is deprecated; The function log_multivariate_normal_density is deprecated in 0.18 and will be removed in 0.20.\n",
      "  warnings.warn(msg, category=DeprecationWarning)\n",
      "/usr/lib/python3/dist-packages/sklearn/utils/deprecation.py:70: DeprecationWarning: Function log_multivariate_normal_density is deprecated; The function log_multivariate_normal_density is deprecated in 0.18 and will be removed in 0.20.\n",
      "  warnings.warn(msg, category=DeprecationWarning)\n",
      "/usr/lib/python3/dist-packages/sklearn/utils/deprecation.py:70: DeprecationWarning: Function log_multivariate_normal_density is deprecated; The function log_multivariate_normal_density is deprecated in 0.18 and will be removed in 0.20.\n",
      "  warnings.warn(msg, category=DeprecationWarning)\n",
      "/usr/lib/python3/dist-packages/sklearn/utils/deprecation.py:70: DeprecationWarning: Function log_multivariate_normal_density is deprecated; The function log_multivariate_normal_density is deprecated in 0.18 and will be removed in 0.20.\n",
      "  warnings.warn(msg, category=DeprecationWarning)\n"
     ]
    },
    {
     "data": {
      "image/png": "[encoded data removed]",
      "text/plain": [
       "<matplotlib.figure.Figure at 0x7ff308d05748>"
      ]
     },
     "metadata": {},
     "output_type": "display_data"
    }
   ],
   "source": [
    "from sklearn.mixture import GMM\n",
    "gmm = GMM(n_components=3).fit(df_new)\n",
    "labels = gmm.predict(df)\n",
    "plt.scatter(df_new[:, 0], df_new[:, 1], c=labels, s=40, cmap='viridis')\n",
    "plt.show()"
   ]
  },
  {
   "cell_type": "code",
   "execution_count": 94,
   "metadata": {
    "collapsed": false
   },
   "outputs": [
    {
     "data": {
      "text/plain": [
       "array([[ 0.33099112, -0.47713092],\n",
       "       [-2.07306346,  1.936169  ],\n",
       "       [-0.39492408,  0.86801744]])"
      ]
     },
     "execution_count": 94,
     "metadata": {},
     "output_type": "execute_result"
    }
   ],
   "source": [
    "gmm.means_"
   ]
  },
  {
   "cell_type": "code",
   "execution_count": 79,
   "metadata": {
    "collapsed": true
   },
   "outputs": [],
   "source": [
    "from matplotlib.patches import Ellipse\n",
    "\n",
    "def draw_ellipse(position, covariance, ax=None, **kwargs):\n",
    "    \"\"\"Draw an ellipse with a given position and covariance\"\"\"\n",
    "    ax = ax or plt.gca()\n",
    "    \n",
    "    # Convert covariance to principal axes\n",
    "    if covariance.shape == (2, 2):\n",
    "        U, s, Vt = np.linalg.svd(covariance)\n",
    "        angle = np.degrees(np.arctan2(U[1, 0], U[0, 0]))\n",
    "        width, height = 2 * np.sqrt(s)\n",
    "    else:\n",
    "        angle = 0\n",
    "        width, height = 2 * np.sqrt(covariance)\n",
    "    \n",
    "    # Draw the Ellipse\n",
    "    for nsig in range(1, 4):\n",
    "        ax.add_patch(Ellipse(position, nsig * width, nsig * height,\n",
    "                             angle, **kwargs))\n",
    "        \n",
    "def plot_gmm(gmm, X, label=True, ax=None):\n",
    "    ax = ax or plt.gca()\n",
    "    labels = gmm.fit(X).predict(X)\n",
    "    if label:\n",
    "        ax.scatter(X[:, 0], X[:, 1], c=labels, s=40, cmap='viridis', zorder=2)\n",
    "    else:\n",
    "        ax.scatter(X[:, 0], X[:, 1], s=40, zorder=2)\n",
    "    ax.axis('equal')\n",
    "    \n",
    "    w_factor = 0.2 / gmm.weights_.max()\n",
    "    for pos, covar, w in zip(gmm.means_, gmm.covars_, gmm.weights_):\n",
    "        draw_ellipse(pos, covar, alpha=w * w_factor)"
   ]
  },
  {
   "cell_type": "code",
   "execution_count": 85,
   "metadata": {
    "collapsed": false
   },
   "outputs": [
    {
     "name": "stderr",
     "output_type": "stream",
     "text": [
      "/usr/lib/python3/dist-packages/sklearn/utils/deprecation.py:52: DeprecationWarning: Class GMM is deprecated; The class GMM is deprecated in 0.18 and will be  removed in 0.20. Use class GaussianMixture instead.\n",
      "  warnings.warn(msg, category=DeprecationWarning)\n",
      "/usr/lib/python3/dist-packages/sklearn/utils/deprecation.py:70: DeprecationWarning: Function distribute_covar_matrix_to_match_covariance_type is deprecated; The functon distribute_covar_matrix_to_match_covariance_typeis deprecated in 0.18 and will be removed in 0.20.\n",
      "  warnings.warn(msg, category=DeprecationWarning)\n",
      "/usr/lib/python3/dist-packages/sklearn/utils/deprecation.py:70: DeprecationWarning: Function log_multivariate_normal_density is deprecated; The function log_multivariate_normal_density is deprecated in 0.18 and will be removed in 0.20.\n",
      "  warnings.warn(msg, category=DeprecationWarning)\n",
      "/usr/lib/python3/dist-packages/sklearn/utils/deprecation.py:70: DeprecationWarning: Function log_multivariate_normal_density is deprecated; The function log_multivariate_normal_density is deprecated in 0.18 and will be removed in 0.20.\n",
      "  warnings.warn(msg, category=DeprecationWarning)\n",
      "/usr/lib/python3/dist-packages/sklearn/utils/deprecation.py:70: DeprecationWarning: Function log_multivariate_normal_density is deprecated; The function log_multivariate_normal_density is deprecated in 0.18 and will be removed in 0.20.\n",
      "  warnings.warn(msg, category=DeprecationWarning)\n",
      "/usr/lib/python3/dist-packages/sklearn/utils/deprecation.py:70: DeprecationWarning: Function log_multivariate_normal_density is deprecated; The function log_multivariate_normal_density is deprecated in 0.18 and will be removed in 0.20.\n",
      "  warnings.warn(msg, category=DeprecationWarning)\n",
      "/usr/lib/python3/dist-packages/sklearn/utils/deprecation.py:70: DeprecationWarning: Function log_multivariate_normal_density is deprecated; The function log_multivariate_normal_density is deprecated in 0.18 and will be removed in 0.20.\n",
      "  warnings.warn(msg, category=DeprecationWarning)\n",
      "/usr/lib/python3/dist-packages/sklearn/utils/deprecation.py:70: DeprecationWarning: Function log_multivariate_normal_density is deprecated; The function log_multivariate_normal_density is deprecated in 0.18 and will be removed in 0.20.\n",
      "  warnings.warn(msg, category=DeprecationWarning)\n",
      "/usr/lib/python3/dist-packages/sklearn/utils/deprecation.py:70: DeprecationWarning: Function log_multivariate_normal_density is deprecated; The function log_multivariate_normal_density is deprecated in 0.18 and will be removed in 0.20.\n",
      "  warnings.warn(msg, category=DeprecationWarning)\n",
      "/usr/lib/python3/dist-packages/sklearn/utils/deprecation.py:70: DeprecationWarning: Function log_multivariate_normal_density is deprecated; The function log_multivariate_normal_density is deprecated in 0.18 and will be removed in 0.20.\n",
      "  warnings.warn(msg, category=DeprecationWarning)\n"
     ]
    },
    {
     "data": {
      "image/png": "[encoded data removed]",
      "text/plain": [
       "<matplotlib.figure.Figure at 0x7ff308b5e3c8>"
      ]
     },
     "metadata": {},
     "output_type": "display_data"
    }
   ],
   "source": [
    "gmm = GMM(n_components=3, random_state=42)\n",
    "plt.figure(figsize=(10,8))\n",
    "plot_gmm(gmm, df_new)\n",
    "plt.show()"
   ]
  },
  {
   "cell_type": "code",
   "execution_count": 86,
   "metadata": {
    "collapsed": true
   },
   "outputs": [],
   "source": [
    "rng = np.random.RandomState(13)\n",
    "X_stretched = np.dot(df_new, rng.randn(2, 2))"
   ]
  },
  {
   "cell_type": "code",
   "execution_count": 91,
   "metadata": {
    "collapsed": false
   },
   "outputs": [
    {
     "name": "stderr",
     "output_type": "stream",
     "text": [
      "/usr/lib/python3/dist-packages/sklearn/utils/deprecation.py:52: DeprecationWarning: Class GMM is deprecated; The class GMM is deprecated in 0.18 and will be  removed in 0.20. Use class GaussianMixture instead.\n",
      "  warnings.warn(msg, category=DeprecationWarning)\n",
      "/usr/lib/python3/dist-packages/sklearn/utils/deprecation.py:70: DeprecationWarning: Function distribute_covar_matrix_to_match_covariance_type is deprecated; The functon distribute_covar_matrix_to_match_covariance_typeis deprecated in 0.18 and will be removed in 0.20.\n",
      "  warnings.warn(msg, category=DeprecationWarning)\n",
      "/usr/lib/python3/dist-packages/sklearn/utils/deprecation.py:70: DeprecationWarning: Function log_multivariate_normal_density is deprecated; The function log_multivariate_normal_density is deprecated in 0.18 and will be removed in 0.20.\n",
      "  warnings.warn(msg, category=DeprecationWarning)\n",
      "/usr/lib/python3/dist-packages/sklearn/utils/deprecation.py:70: DeprecationWarning: Function log_multivariate_normal_density is deprecated; The function log_multivariate_normal_density is deprecated in 0.18 and will be removed in 0.20.\n",
      "  warnings.warn(msg, category=DeprecationWarning)\n",
      "/usr/lib/python3/dist-packages/sklearn/utils/deprecation.py:70: DeprecationWarning: Function log_multivariate_normal_density is deprecated; The function log_multivariate_normal_density is deprecated in 0.18 and will be removed in 0.20.\n",
      "  warnings.warn(msg, category=DeprecationWarning)\n",
      "/usr/lib/python3/dist-packages/sklearn/utils/deprecation.py:70: DeprecationWarning: Function log_multivariate_normal_density is deprecated; The function log_multivariate_normal_density is deprecated in 0.18 and will be removed in 0.20.\n",
      "  warnings.warn(msg, category=DeprecationWarning)\n",
      "/usr/lib/python3/dist-packages/sklearn/utils/deprecation.py:70: DeprecationWarning: Function log_multivariate_normal_density is deprecated; The function log_multivariate_normal_density is deprecated in 0.18 and will be removed in 0.20.\n",
      "  warnings.warn(msg, category=DeprecationWarning)\n",
      "/usr/lib/python3/dist-packages/sklearn/utils/deprecation.py:70: DeprecationWarning: Function log_multivariate_normal_density is deprecated; The function log_multivariate_normal_density is deprecated in 0.18 and will be removed in 0.20.\n",
      "  warnings.warn(msg, category=DeprecationWarning)\n",
      "/usr/lib/python3/dist-packages/sklearn/utils/deprecation.py:70: DeprecationWarning: Function log_multivariate_normal_density is deprecated; The function log_multivariate_normal_density is deprecated in 0.18 and will be removed in 0.20.\n",
      "  warnings.warn(msg, category=DeprecationWarning)\n",
      "/usr/lib/python3/dist-packages/sklearn/utils/deprecation.py:70: DeprecationWarning: Function log_multivariate_normal_density is deprecated; The function log_multivariate_normal_density is deprecated in 0.18 and will be removed in 0.20.\n",
      "  warnings.warn(msg, category=DeprecationWarning)\n"
     ]
    },
    {
     "data": {
      "image/png": "[encoded data removed]",
      "text/plain": [
       "<matplotlib.figure.Figure at 0x7ff308b2cc18>"
      ]
     },
     "metadata": {},
     "output_type": "display_data"
    }
   ],
   "source": [
    "gmm = GMM(n_components=3, covariance_type='full', random_state=42)\n",
    "plt.figure(figsize=(10,8))\n",
    "plot_gmm(gmm, X_stretched)\n",
    "plt.show()"
   ]
  },
  {
   "cell_type": "code",
   "execution_count": 108,
   "metadata": {
    "collapsed": true
   },
   "outputs": [],
   "source": [
    "import numpy as np"
   ]
  },
  {
   "cell_type": "code",
   "execution_count": 109,
   "metadata": {
    "collapsed": false
   },
   "outputs": [
    {
     "data": {
      "text/plain": [
       "array([[1, 2, 3],\n",
       "       [2, 4, 3],\n",
       "       [3, 3, 5]])"
      ]
     },
     "execution_count": 109,
     "metadata": {},
     "output_type": "execute_result"
    }
   ],
   "source": [
    "A = np.array(([1,2,3],[2,4,3],[3,3,5]));A"
   ]
  },
  {
   "cell_type": "code",
   "execution_count": 110,
   "metadata": {
    "collapsed": true
   },
   "outputs": [],
   "source": [
    "U, W, V = np.linalg.svd(A)"
   ]
  },
  {
   "cell_type": "code",
   "execution_count": 112,
   "metadata": {
    "collapsed": false
   },
   "outputs": [
    {
     "data": {
      "text/plain": [
       "1.0000000000000004"
      ]
     },
     "execution_count": 112,
     "metadata": {},
     "output_type": "execute_result"
    }
   ],
   "source": [
    "np.linalg.norm(V, ord = 2)"
   ]
  },
  {
   "cell_type": "code",
   "execution_count": 113,
   "metadata": {
    "collapsed": false
   },
   "outputs": [
    {
     "data": {
      "text/plain": [
       "array([9.12476339, 1.52290017, 0.64766356])"
      ]
     },
     "execution_count": 113,
     "metadata": {},
     "output_type": "execute_result"
    }
   ],
   "source": [
    "W"
   ]
  },
  {
   "cell_type": "code",
   "execution_count": 107,
   "metadata": {
    "collapsed": true
   },
   "outputs": [],
   "source": [
    "np.linalg.norm?"
   ]
  },
  {
   "cell_type": "code",
   "execution_count": 1,
   "metadata": {
    "collapsed": true
   },
   "outputs": [],
   "source": [
    "import numpy as np"
   ]
  },
  {
   "cell_type": "code",
   "execution_count": 2,
   "metadata": {
    "collapsed": false
   },
   "outputs": [
    {
     "data": {
      "text/plain": [
       "array([[1., 0.],\n",
       "       [0., 1.]])"
      ]
     },
     "execution_count": 2,
     "metadata": {},
     "output_type": "execute_result"
    }
   ],
   "source": [
    "np.eye(2)"
   ]
  },
  {
   "cell_type": "code",
   "execution_count": 7,
   "metadata": {
    "collapsed": false
   },
   "outputs": [],
   "source": [
    "S =np.array([np.eye(2)]*2)"
   ]
  },
  {
   "cell_type": "code",
   "execution_count": 8,
   "metadata": {
    "collapsed": false
   },
   "outputs": [
    {
     "data": {
      "text/plain": [
       "(2, 2, 2)"
      ]
     },
     "execution_count": 8,
     "metadata": {},
     "output_type": "execute_result"
    }
   ],
   "source": [
    "S.shape"
   ]
  },
  {
   "cell_type": "code",
   "execution_count": 10,
   "metadata": {
    "collapsed": false
   },
   "outputs": [
    {
     "data": {
      "text/plain": [
       "array([[1., 0.],\n",
       "       [0., 1.]])"
      ]
     },
     "execution_count": 10,
     "metadata": {},
     "output_type": "execute_result"
    }
   ],
   "source": [
    "S[0]"
   ]
  },
  {
   "cell_type": "code",
   "execution_count": 63,
   "metadata": {
    "collapsed": true
   },
   "outputs": [],
   "source": [
    "class GaussianMixtureModel():\n",
    "    \"\"\"Density estimation with Gaussian Mixture Models (GMM).\n",
    "\n",
    "    You can add new functions if you find it useful, but **do not** change\n",
    "    the names or argument lists of the functions provided.\n",
    "    \"\"\"\n",
    "    def __init__(self, X, K):\n",
    "        \"\"\"Initialise GMM class.\n",
    "\n",
    "        Arguments:\n",
    "          X -- data, N x D array\n",
    "          K -- number of mixture components, int\n",
    "        \"\"\"\n",
    "        self.X = X\n",
    "        self.n = X.shape[0]\n",
    "        self.D = X.shape[1]\n",
    "        self.K = K\n",
    "\n",
    "\n",
    "    def E_step(self, mu, S, pi):\n",
    "        \"\"\"Compute the E step of the EM algorithm.\n",
    "\n",
    "        Arguments:\n",
    "          mu -- component means, K x D array\n",
    "          S -- component covariances, K x D x D array\n",
    "          pi -- component weights, K x 1 array\n",
    "\n",
    "        Returns:\n",
    "          r_new -- updated component responsabilities, N x K array\n",
    "        \"\"\"\n",
    "        # Assert that all arguments have the right shape\n",
    "        assert(mu.shape == (self.K, self.D) and\\\n",
    "               S.shape  == (self.K, self.D, self.D) and\\\n",
    "               pi.shape == (self.K, 1))\n",
    "        r_new = np.zeros((self.n, self.K))\n",
    "\n",
    "        # Task 1: implement the E step and return updated responsabilities\n",
    "        # Write your code from here...\n",
    "\n",
    "        for i in range(self.n): \n",
    "            Nk = 0\n",
    "            for j in range(self.K):\n",
    "                Nk += pi[j] * mvn.pdf((self.X)[i], mu[j], S[j], allow_singular=True)\n",
    "            for k in range(self.K):\n",
    "                r_new[i, k] = pi[k] * mvn.pdf((self.X)[i], mu[k], S[k], allow_singular=True)/ Nk\n",
    "        \n",
    "        # ... to here.\n",
    "        assert(r_new.shape == (self.n, self.K))\n",
    "        return r_new\n",
    "\n",
    "\n",
    "    def M_step(self, mu, r):\n",
    "        \"\"\"Compute the M step of the EM algorithm.\n",
    "\n",
    "        Arguments:\n",
    "          mu -- previous component means, K x D array\n",
    "          r -- previous component responsabilities,  N x K array\n",
    "\n",
    "        Returns:\n",
    "          mu_new -- updated component means, K x D array\n",
    "          S_new -- updated component covariances, K x D x D array\n",
    "          pi_new -- updated component weights, K x 1 array\n",
    "        \"\"\"\n",
    "        assert(mu.shape == (self.K, self.D) and\\\n",
    "               r.shape  == (self.n, self.K))\n",
    "        mu_new = np.zeros((self.K, self.D))\n",
    "        S_new  = np.zeros((self.K, self.D, self.D))\n",
    "        pi_new = np.zeros((self.K, 1))\n",
    "\n",
    "        # Task 2: implement the M step and return updated mixture parameters\n",
    "        # Write your code from here...\n",
    "\n",
    "        #updating mu and pi\n",
    "        for k in range(self.K):\n",
    "            Nk = 0\n",
    "            for j in range(self.n):\n",
    "                Nk += r[j,k]\n",
    "            for i in range(self.n):\n",
    "                mu_new[k] += (r[i, k] * (self.X)[i])\n",
    "            mu_new[k] /= Nk\n",
    "            pi_new[k] = Nk/ (self.n)\n",
    "        \n",
    "        #updating S\n",
    "        for k in range(self.K):\n",
    "            Nk = 0\n",
    "            for i in range(self.n): \n",
    "                Nk += r[i,k]\n",
    "            for i in range(self.n):\n",
    "                ys = np.reshape((self.X)[i]- mu_new[k], (-1,1))\n",
    "                S_new[k] += (r[i, k] * (ys @ (ys.T)))\n",
    "            S_new[k] /= Nk\n",
    "        \n",
    "        # ... to here.\n",
    "        assert(mu_new.shape == (self.K, self.D) and\\\n",
    "               S_new.shape  == (self.K, self.D, self.D) and\\\n",
    "               pi_new.shape == (self.K, 1))\n",
    "        return mu_new, S_new, pi_new\n",
    "\n",
    "    \n",
    "    def log_likelihood(self, pi, mu, S):\n",
    "        '''Compute the loglikelihood'''\n",
    "        \n",
    "        ll = 0\n",
    "        for i in range(self.n):\n",
    "                s = 0\n",
    "                for k in range(K):\n",
    "                    s += pi[k] * mvn.pdf((self.X)[i], mu[k], S[k], allow_singular=True)\n",
    "                ll += np.log(s)\n",
    "        return -ll\n",
    "    \n",
    "    def train(self, initial_params):\n",
    "        \"\"\"Fit a Gaussian Mixture Model (GMM) to the data in matrix X.\n",
    "\n",
    "        Arguments:\n",
    "          initial_params -- dictionary with fields 'mu', 'S', 'pi' and 'K'\n",
    "\n",
    "        Returns:kernel \n",
    "          mu -- component means, K x D array\n",
    "          S -- component covariances, K x D x D array\n",
    "          pi -- component weights, K x 1 array\n",
    "          r -- component responsabilities, N x K array\n",
    "        \"\"\"\n",
    "        # Assert that initial_params has all the necessary fields\n",
    "        assert(all([k in initial_params for k in ['mu', 'S', 'pi']]))\n",
    "\n",
    "        mu = np.zeros((self.K, self.D))\n",
    "        S  = np.zeros((self.K, self.D, self.D))\n",
    "        pi = np.zeros((self.K, 1))\n",
    "        r  = np.zeros((self.n, self.K))\n",
    "\n",
    "        # Task 3: implement the EM loop to train the GMM\n",
    "        # Write your code from here...\n",
    "        \n",
    "        # updating log likelihoood\n",
    "        eps = 1e-8  \n",
    "        K = initial_params['K']\n",
    "        mu = initial_params['mu']\n",
    "        S = initial_params['S']\n",
    "        pi = initial_params['pi']\n",
    "        \n",
    "        ll = 1\n",
    "        previous_ll = 0\n",
    "        log_likelihood = []\n",
    "        iters = []\n",
    "        niter = 0\n",
    "        \n",
    "        while(np.abs(ll-previous_ll) > eps):       \n",
    "            previous_ll = self.log_likelihood(pi, mu, S)\n",
    "            log_likelihood.append(previous_ll)\n",
    "            r = self.E_step(mu, S, pi)\n",
    "            mu, S, pi =  self.M_step(mu, r)\n",
    "            ll = self.log_likelihood(pi, mu, S)\n",
    "\n",
    "        # ... to here.\n",
    "        assert(mu.shape == (self.K, self.D) and\\\n",
    "               S.shape  == (self.K, self.D, self.D) and\\\n",
    "               pi.shape == (self.K, 1) and\\\n",
    "               r.shape  == (self.n, self.K))\n",
    "        return mu, S, pi, r, log_likelihood, iters\n",
    "\n",
    "\n",
    "if __name__ == '__main__':\n",
    "    np.random.seed(43)\n",
    "\n",
    "    ##########################\n",
    "    # You can put your tests here - marking\n",
    "    # will be based on importing this code and calling\n",
    "    # specific functions with custom input.\n",
    "    # Do not write code outside the class definition or\n",
    "    # this if-block.\n",
    "    ##########################"
   ]
  },
  {
   "cell_type": "code",
   "execution_count": 64,
   "metadata": {
    "collapsed": false
   },
   "outputs": [],
   "source": [
    "# initial values for parameters\n",
    "K = 3\n",
    "pi = (np.random.random(K)).reshape(-1,1)\n",
    "pi /= pi.sum()\n",
    "# mu = np.random.random((2,2)) \n",
    "S = np.array([i * np.eye(2) for i in range(1,4)])\n",
    "i, j, k = 0,0,0\n",
    "while i == j == k :\n",
    "    i, j, k = np.random.randint(30), np.random.randint(30) , np.random.randint(30)\n",
    "mu = np.array((X[i], X[j], X[k]))\n",
    "initial_params = {'mu':mu, 'S':S, 'pi': pi,'K': K}"
   ]
  },
  {
   "cell_type": "code",
   "execution_count": 65,
   "metadata": {
    "collapsed": false
   },
   "outputs": [],
   "source": [
    "GMM_df = GaussianMixtureModel(X, K)\n",
    "mu_df, S_df, pi_df, r_df, loss, iters = GMM_df.train(initial_params)\n",
    "loss = np.array(loss)\n",
    "iters = np.array(iters)"
   ]
  },
  {
   "cell_type": "code",
   "execution_count": 66,
   "metadata": {
    "collapsed": false
   },
   "outputs": [
    {
     "data": {
      "image/png": "[encoded data removed]",
      "text/plain": [
       "<matplotlib.figure.Figure at 0x7f81949de630>"
      ]
     },
     "metadata": {},
     "output_type": "display_data"
    }
   ],
   "source": [
    "plt.plot(loss,marker = '.')\n",
    "plt.show()"
   ]
  },
  {
   "cell_type": "code",
   "execution_count": 67,
   "metadata": {
    "collapsed": false
   },
   "outputs": [
    {
     "data": {
      "text/plain": [
       "(26, 1)"
      ]
     },
     "execution_count": 67,
     "metadata": {},
     "output_type": "execute_result"
    }
   ],
   "source": [
    "loss.shape"
   ]
  },
  {
   "cell_type": "code",
   "execution_count": null,
   "metadata": {
    "collapsed": true
   },
   "outputs": [],
   "source": []
  }
 ],
 "metadata": {
  "kernelspec": {
   "display_name": "Python 3",
   "language": "python",
   "name": "python3"
  },
  "language_info": {
   "codemirror_mode": {
    "name": "ipython",
    "version": 3
   },
   "file_extension": ".py",
   "mimetype": "text/x-python",
   "name": "python",
   "nbconvert_exporter": "python",
   "pygments_lexer": "ipython3",
   "version": "3.5.3"
  }
 },
 "nbformat": 4,
 "nbformat_minor": 2
}
