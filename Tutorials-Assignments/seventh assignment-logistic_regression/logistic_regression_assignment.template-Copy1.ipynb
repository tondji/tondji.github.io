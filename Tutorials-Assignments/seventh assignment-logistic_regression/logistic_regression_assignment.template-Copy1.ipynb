{
 "cells": [
  {
   "cell_type": "markdown",
   "metadata": {},
   "source": [
    "# Logistic regression tutorial "
   ]
  },
  {
   "cell_type": "code",
   "execution_count": 1,
   "metadata": {
    "collapsed": true
   },
   "outputs": [],
   "source": [
    "## Do **not** change this cell, and do **not** import\n",
    "## any other modules anywhere in the notebook.\n",
    "import numpy as np\n",
    "import numpy.random as rn\n",
    "from scipy import optimize, stats\n",
    "import scipy.linalg as linalg\n",
    "import matplotlib.pyplot as plt\n",
    "\n",
    "%matplotlib inline"
   ]
  },
  {
   "cell_type": "markdown",
   "metadata": {
    "collapsed": true
   },
   "source": [
    "In this tutorial we're going to cover the basics behind logistic regression. For simplicity we will only consider the binary classification case, in which target variables are $y \\in \\{0,1\\}$. \n",
    "\n",
    "In logistic regression, the probability of a data point $\\boldsymbol x$ being of class 1 is given by\n",
    "\n",
    "$$p(y = 1 | \\boldsymbol x, \\boldsymbol\\theta) = \\sigma (\\boldsymbol x^\\top \\boldsymbol\\theta) ~ ,$$\n",
    "\n",
    "where $\\sigma(z) = 1/(1+\\exp(-z))$ is the _sigmoid_ function.\n",
    "\n",
    "Combining this with a Bernoulli likelihood and summing over all datapoints $\\{\\boldsymbol x_i, y_i\\}_{i=1}^N$ we end up with a negative log-likelihood function that looks like this:\n",
    "\n",
    "$$-\\log p(\\boldsymbol y|\\boldsymbol X, \\boldsymbol\\theta) = -\\sum_i\\left(y_i \\log \\sigma(\\boldsymbol x_i^\\top \\boldsymbol\\theta) + (1 - y_i) \\log ( 1 - \\sigma(\\boldsymbol x_i^\\top \\boldsymbol\\theta))\\right)$$\n",
    "\n",
    "You will see this expression in many other classification problems, especially in deep learning, where it's known as the _cross-entropy loss_.\n",
    "\n",
    "Your goal in this tutorial is to learn how to perform inference over the parameters $\\boldsymbol\\theta$ in logistic regression, including point estimates $\\boldsymbol\\theta_{\\mathrm{ML}}$ and $\\boldsymbol\\theta_{\\mathrm{MAP}}$ and approximations to the posterior $p(\\boldsymbol\\theta | \\boldsymbol X, \\boldsymbol y)$.\n",
    "\n",
    "Let's do it."
   ]
  },
  {
   "cell_type": "markdown",
   "metadata": {
    "collapsed": true
   },
   "source": [
    "## Maximum likelihood estimate"
   ]
  },
  {
   "cell_type": "markdown",
   "metadata": {},
   "source": [
    "Let's start easy. First, let's generate a toy 1D binary dataset with two paramaters:\n",
    "\n",
    "* A **jitter** parameter that controls how noisy the data are; and\n",
    "* An **offset** parameter that controls the separation between the two classes."
   ]
  },
  {
   "cell_type": "code",
   "execution_count": 2,
   "metadata": {
    "collapsed": false
   },
   "outputs": [],
   "source": [
    "# Data generation parameters\n",
    "N = 50\n",
    "D = 2\n",
    "jitter = 0.7\n",
    "offset = 1.2\n",
    "np.random.seed(43)\n",
    "\n",
    "# Generate the data\n",
    "x = np.vstack([rn.normal(0, jitter, (N//2,1)), rn.normal(offset, jitter, (N//2,1))])\n",
    "y = np.vstack([np.zeros((N//2, 1)), np.ones((N//2, 1))])\n",
    "x_test = np.linspace(-2, offset + 2).reshape(-1,1)\n",
    "\n",
    "# Make the augmented data matrix by adding a column of ones\n",
    "x = np.hstack([np.ones((N,1)), x])\n",
    "x_test = np.hstack([np.ones((N,1)), x_test])"
   ]
  },
  {
   "cell_type": "markdown",
   "metadata": {},
   "source": [
    "Now on to the regression. First, let's code up the logistic log-likelihood as a separate function. This will come in handy.\n",
    "\n",
    "**Task 1**\n",
    "\n",
    "* Write a function to calculate the log-likelihood of a dataset given a value of $\\boldsymbol\\theta$."
   ]
  },
  {
   "cell_type": "code",
   "execution_count": 73,
   "metadata": {
    "collapsed": false
   },
   "outputs": [
    {
     "data": {
      "text/plain": [
       "(50, 2)"
      ]
     },
     "execution_count": 73,
     "metadata": {},
     "output_type": "execute_result"
    }
   ],
   "source": [
    "x.shape"
   ]
  },
  {
   "cell_type": "code",
   "execution_count": 3,
   "metadata": {
    "collapsed": true
   },
   "outputs": [],
   "source": [
    "## EDIT THIS FUNCTION\n",
    "def log_likelihood(X, y, theta):\n",
    "    # X: N x D matrix of training inputs\n",
    "    # y: N x 1 vector of training targets/observations\n",
    "    # theta: parameters (D x 1)\n",
    "    # returns: log likelihood, scalar\n",
    "    \n",
    "    L = 0\n",
    "#     mu = 1/(1+ np.exp(-(np.dot(X, theta))))\n",
    "    mu = 1/(1+ np.exp(-(X @ theta)))\n",
    "\n",
    "#     print('mu :', mu)\n",
    "    \n",
    "#     mu_n = 1+ np.exp(-(np.dot(X, theta)))\n",
    "    L = sum(y* (np.log(mu)) + (1-y)*np.log(1-mu))\n",
    "#     for n in range(N):\n",
    "        \n",
    "#         mu_n = 1/(1+ np.exp(-(np.dot(X[i], theta[i]))))\n",
    "#         L += y[n]* np.log(mu_n) + (1-y[n])*np.log(1-mu_n) ## <-- EDIT THIS LINE\n",
    "    \n",
    "    return L[0]"
   ]
  },
  {
   "cell_type": "code",
   "execution_count": 4,
   "metadata": {
    "collapsed": false
   },
   "outputs": [
    {
     "data": {
      "text/plain": [
       "-57.36454728300592"
      ]
     },
     "execution_count": 4,
     "metadata": {},
     "output_type": "execute_result"
    }
   ],
   "source": [
    "theta = np.array(([2],[2]))\n",
    "log_likelihood(x,y, theta)"
   ]
  },
  {
   "cell_type": "markdown",
   "metadata": {},
   "source": [
    "Now it's time to optimize it to fit the maximum likelihood parameter,\n",
    "\n",
    "$$\\boldsymbol\\theta_{\\mathrm{ML}} = \\mathrm{arg}_\\theta \\max p(\\boldsymbol y | \\boldsymbol X, \\boldsymbol\\theta)$$\n",
    "\n",
    "For linear regression, the likelihood function had a closed-form minimum, which made our lives easy. Alas, that is not the case for logistic regression. We will have to resort to _numerical optimization_.\n",
    "\n",
    "In the lectures you saw how to derive the gradient and all that jazz. For this tutorial you can do it that way, or any other way you want. The optimization is convex, so this should be easy peasy.\n",
    "\n",
    "**Task 2**\n",
    "\n",
    "* Write a function to optimize the log-likelihood function you've written above an obtain $\\boldsymbol\\theta_{\\mathrm{ML}}$. Use any optimizer of your choice."
   ]
  },
  {
   "cell_type": "code",
   "execution_count": 295,
   "metadata": {
    "collapsed": false
   },
   "outputs": [],
   "source": [
    "## EDIT THIS FUNCTION\n",
    "def max_lik_estimate(X, y):\n",
    "    # X: N x D matrix of training inputs\n",
    "    # y: N x 1 vector of training targets/observations\n",
    "    # returns: maximum likelihood parameters (D x 1)\n",
    "    \n",
    "    N, D = X.shape\n",
    "#     theta = np.zeros((D,1))\n",
    "    theta = np.random.randn(D,1)\n",
    "    lr = .1\n",
    "    eps = 1e-15\n",
    "    old_ll = 1\n",
    "    new_ll = 0\n",
    "    \n",
    "\n",
    "    #setup cost iter\n",
    "    cost_iter = []\n",
    "    cost_iter.append([0, old_ll])\n",
    "    i = 1\n",
    "    \n",
    "    while (np.abs(new_ll - old_ll) > eps):\n",
    "        \n",
    "        old_ll = -log_likelihood(X, y, theta)\n",
    "        \n",
    "        mu = 1/(1+ np.exp(-(np.dot(X, theta))))\n",
    "        gradient = np.dot(X.T, (mu-y))\n",
    "        theta -= lr * gradient\n",
    "        new_ll = -log_likelihood(X, y, theta)\n",
    "        \n",
    "        cost_iter.append([i, old_ll])\n",
    "        i+=1\n",
    "    theta_ml = theta\n",
    "#     theta_ml = np.zeros((D,1)) ## <-- EDIT THIS LINE\n",
    "\n",
    "    return theta_ml "
   ]
  },
  {
   "cell_type": "markdown",
   "metadata": {},
   "source": [
    "**Task 3**\n",
    "\n",
    "* Write a predict function to evaluate your estimate."
   ]
  },
  {
   "cell_type": "code",
   "execution_count": 310,
   "metadata": {
    "collapsed": true
   },
   "outputs": [],
   "source": [
    "## EDIT THIS FUNCTION\n",
    "def predict(X, theta):\n",
    "    # Xtest: K x D matrix of test inputs\n",
    "    # theta: D x 1 vector of parameters\n",
    "    # returns: prediction of f(Xtest); K x 1 vector\n",
    "    \n",
    "    threshold = .5\n",
    "    prob = 1/(1+ np.exp(-(np.dot(X, theta))))\n",
    "    \n",
    "    predi = prob >= threshold ## <-- EDIT THIS LINE\n",
    "    prediction = np.zeros((X.shape[0],1))\n",
    "    \n",
    "    \n",
    "    for i in range(len(prediction)):\n",
    "            prediction[i][0] = 0  if (predi[i] == False) else 1\n",
    "    \n",
    "    return  prediction"
   ]
  },
  {
   "cell_type": "markdown",
   "metadata": {},
   "source": [
    "With this we're in a good position to fit a logistic regression to our toy dataset and start visualising the results. Have a go.\n",
    "\n",
    "1. Use the function you wrote above to estimate $\\boldsymbol\\theta_{\\mathrm{ML}}$ on the toy dataset.\n",
    "2. Visualize the results, including:\n",
    "    1. The data $x$ and target labels $y$. \n",
    "    2. The labels predicted by the model.\n",
    "    3. The probability assigned by the model, $\\sigma(x\\theta)$ as a function of $x$."
   ]
  },
  {
   "cell_type": "code",
   "execution_count": 287,
   "metadata": {
    "collapsed": false,
    "scrolled": false
   },
   "outputs": [
    {
     "data": {
      "text/plain": [
       "<matplotlib.collections.PathCollection at 0x7f20e32c20b8>"
      ]
     },
     "execution_count": 287,
     "metadata": {},
     "output_type": "execute_result"
    },
    {
     "data": {
      "image/png": "[encoded data removed]",
      "text/plain": [
       "<matplotlib.figure.Figure at 0x7f20e32cfe10>"
      ]
     },
     "metadata": {},
     "output_type": "display_data"
    }
   ],
   "source": [
    "plt.figure(figsize=(10,8))\n",
    "plt.scatter(x[:,1], x[:,0], marker='o')\n",
    "# plt.plot(x[:,1])"
   ]
  },
  {
   "cell_type": "code",
   "execution_count": 288,
   "metadata": {
    "collapsed": false
   },
   "outputs": [],
   "source": [
    "# theta_ml, cost_iter = max_lik_estimate(x, y)\n",
    "# # print('theta_ml : ', theta_ml)"
   ]
  },
  {
   "cell_type": "code",
   "execution_count": 289,
   "metadata": {
    "collapsed": false
   },
   "outputs": [],
   "source": [
    "# plt.plot(cost_iter[:,0], cost_iter[:,1])\n",
    "# plt.ylabel(\"Cost\")\n",
    "# plt.xlabel(\"Iteration\")"
   ]
  },
  {
   "cell_type": "code",
   "execution_count": 304,
   "metadata": {
    "collapsed": false,
    "scrolled": true
   },
   "outputs": [
    {
     "name": "stdout",
     "output_type": "stream",
     "text": [
      "theta_ml :  [[-1.56608493]\n",
      " [ 2.25017452]]\n"
     ]
    }
   ],
   "source": [
    "theta_ml = max_lik_estimate(x, y)\n",
    "print('theta_ml : ', theta_ml)\n",
    "prediction = predict(x, theta_ml)"
   ]
  },
  {
   "cell_type": "code",
   "execution_count": 305,
   "metadata": {
    "collapsed": false
   },
   "outputs": [
    {
     "data": {
      "text/plain": [
       "-19.67623176090938"
      ]
     },
     "execution_count": 305,
     "metadata": {},
     "output_type": "execute_result"
    }
   ],
   "source": [
    "log_likelihood(x, y, theta_ml)"
   ]
  },
  {
   "cell_type": "code",
   "execution_count": 14,
   "metadata": {
    "collapsed": false
   },
   "outputs": [],
   "source": [
    "# optimize.minimize(lambda theta : -log_likelihood(x, y, theta), np.random.randn(D), method='BFGS')"
   ]
  },
  {
   "cell_type": "code",
   "execution_count": 15,
   "metadata": {
    "collapsed": true
   },
   "outputs": [],
   "source": [
    "# theta_ml1 = optimize.minimize(lambda theta: -log_likelihood(x, y, theta) ,np.zeros(D), method ='BFGS')"
   ]
  },
  {
   "cell_type": "code",
   "execution_count": 16,
   "metadata": {
    "collapsed": false
   },
   "outputs": [],
   "source": [
    "# theta_ml1"
   ]
  },
  {
   "cell_type": "code",
   "execution_count": 306,
   "metadata": {
    "collapsed": false,
    "scrolled": true
   },
   "outputs": [
    {
     "name": "stdout",
     "output_type": "stream",
     "text": [
      "[43] points over 50 have been well predict\n",
      "the accuracy is 0.86\n",
      "the likelihood is 2.8491880986741837e-09\n"
     ]
    }
   ],
   "source": [
    "#accuracy\n",
    "print('{} points over {} have been well predict'.format(sum(prediction == y), len(x)))\n",
    "print('the accuracy is', (prediction == y).mean())\n",
    "print('the likelihood is', np.exp(log_likelihood(x,y,theta_ml)))"
   ]
  },
  {
   "cell_type": "code",
   "execution_count": 307,
   "metadata": {
    "collapsed": false
   },
   "outputs": [
    {
     "data": {
      "text/plain": [
       "<matplotlib.collections.PathCollection at 0x7f20e30f0c88>"
      ]
     },
     "execution_count": 307,
     "metadata": {},
     "output_type": "execute_result"
    },
    {
     "data": {
      "image/png": "[encoded data removed]",
      "text/plain": [
       "<matplotlib.figure.Figure at 0x7f20e3155e10>"
      ]
     },
     "metadata": {},
     "output_type": "display_data"
    }
   ],
   "source": [
    "plt.figure(figsize=(10,8))\n",
    "label = [0,1]\n",
    "colors = []\n",
    "for i in range(len(prediction)):\n",
    "    if prediction[i] == 0:\n",
    "        colors.append('red')\n",
    "    else:\n",
    "        colors.append('green')\n",
    "plt.scatter(x[:,1], prediction, marker='o', c = colors)"
   ]
  },
  {
   "cell_type": "code",
   "execution_count": 308,
   "metadata": {
    "collapsed": false
   },
   "outputs": [
    {
     "data": {
      "text/plain": [
       "<matplotlib.collections.PathCollection at 0x7f20e3060080>"
      ]
     },
     "execution_count": 308,
     "metadata": {},
     "output_type": "execute_result"
    },
    {
     "data": {
      "image/png": "[encoded data removed]",
      "text/plain": [
       "<matplotlib.figure.Figure at 0x7f20e3095908>"
      ]
     },
     "metadata": {},
     "output_type": "display_data"
    }
   ],
   "source": [
    "plt.figure(figsize=(10,8))\n",
    "label = [0,1]\n",
    "colors = []\n",
    "for i in range(len(prediction)):\n",
    "    if y[i] == 0:\n",
    "        colors.append('red')\n",
    "    else:\n",
    "        colors.append('green')\n",
    "plt.scatter(x[:,1], y, marker='o', c = colors)"
   ]
  },
  {
   "cell_type": "code",
   "execution_count": 309,
   "metadata": {
    "collapsed": false
   },
   "outputs": [
    {
     "data": {
      "text/plain": [
       "<matplotlib.collections.PathCollection at 0x7f20e309b128>"
      ]
     },
     "execution_count": 309,
     "metadata": {},
     "output_type": "execute_result"
    },
    {
     "data": {
      "text/plain": [
       "<matplotlib.figure.Figure at 0x7f20e3071710>"
      ]
     },
     "metadata": {},
     "output_type": "display_data"
    },
    {
     "data": {
      "image/png": "[encoded data removed]",
      "text/plain": [
       "<matplotlib.figure.Figure at 0x7f20e3071a20>"
      ]
     },
     "metadata": {},
     "output_type": "display_data"
    }
   ],
   "source": [
    "plt.figure(figsize=(10,8))\n",
    "label = [0,1]\n",
    "colors = []\n",
    "for i in range(len(prediction)):\n",
    "    if y[i] == 0:\n",
    "        colors.append('red')\n",
    "    else:\n",
    "        colors.append('green')\n",
    "theta = theta_ml[:,0]  # Make theta a 1-d array.\n",
    "t = -(theta[0])/theta[1]\n",
    "plt.figure(figsize=(10,8))\n",
    "#u = [i for i in range(len(x))]\n",
    "#u = range(len(x))\n",
    "plt.axvline(t)\n",
    "#plt.plot(t,u)\n",
    "plt.scatter(x[:,1], y, marker='o', c = colors)"
   ]
  },
  {
   "cell_type": "code",
   "execution_count": null,
   "metadata": {
    "collapsed": false
   },
   "outputs": [],
   "source": [
    "# theta = theta_ml[:,0]  # Make theta a 1-d array.\n",
    "# t = [-(theta[0])/theta[1] for i in range(len(x))]\n",
    "# plt.figure(figsize=(10,8))\n",
    "# u = [i for i in range(len(x))]\n",
    "# plt.plot(t,u)\n",
    "# plt.scatter(x[:,1], x[:,0],  marker='o', c = colors)"
   ]
  },
  {
   "cell_type": "code",
   "execution_count": 64,
   "metadata": {
    "collapsed": false
   },
   "outputs": [
    {
     "data": {
      "text/plain": [
       "[<matplotlib.lines.Line2D at 0x7f20e3560dd8>]"
      ]
     },
     "execution_count": 64,
     "metadata": {},
     "output_type": "execute_result"
    },
    {
     "data": {
      "image/png": "[encoded data removed]",
      "text/plain": [
       "<matplotlib.figure.Figure at 0x7f20e3602b00>"
      ]
     },
     "metadata": {},
     "output_type": "display_data"
    }
   ],
   "source": [
    "prob = 1/(1+ np.exp(-(np.dot(x, theta_ml))))\n",
    "plt.figure(figsize=(10,8))\n",
    "plt.plot(x[:,1],prob, '.')\n",
    "# max(x[:,1]), min(x[:,1])\n",
    "# max(prob), min(prob)"
   ]
  },
  {
   "cell_type": "code",
   "execution_count": null,
   "metadata": {
    "collapsed": false,
    "scrolled": true
   },
   "outputs": [],
   "source": [
    "# prediction = predict(x_test, theta_ml)\n",
    "# plt.figure(figsize=(10,8))\n",
    "# colors = []\n",
    "# for i in range(len(prediction)):\n",
    "#     if prediction[i] == 0:\n",
    "#         colors.append('red')\n",
    "#     else:\n",
    "#         colors.append('green')\n",
    "    \n",
    "# t = [-(theta[1])/theta[0] for i in range(len(x))]\n",
    "# plt.figure(figsize=(10,8))\n",
    "# u = [i for i in range(len(x))]\n",
    "# plt.plot(t,u)\n",
    "# plt.scatter(x_test[:,1], prediction, marker='o', c = colors)"
   ]
  },
  {
   "cell_type": "code",
   "execution_count": null,
   "metadata": {
    "collapsed": true
   },
   "outputs": [],
   "source": [
    "## ADD CODE HERE\n",
    "# Fit and plot the logistic regression\n",
    "theta_ml = max_lik_estimate(x, y)\n",
    "prediction = predict(x, theta_ml)"
   ]
  },
  {
   "cell_type": "markdown",
   "metadata": {},
   "source": [
    "There you go! That should be a nice and easy fit. There are a few things we can start playing with at this point:\n",
    "\n",
    "* Evaluate the performance of your model: plot the decision boundary, likelihood and accuracy on held-out test sets, etc.\n",
    "* Write a gradient-based and a non-gradient-based optimizer. Do they arrive at the same result? Which one takes longer? Which one evaluates the likelihood function more times?\n",
    "\n",
    "(Warning: if the plot looks odd and you get several warnings, it may be that the data is linearly separable and the sigmoid is saturating, leading to `np.log(0)` numerical problems. Add more noise and retry.)"
   ]
  },
  {
   "cell_type": "markdown",
   "metadata": {},
   "source": [
    "## Bayesian logistic regression"
   ]
  },
  {
   "cell_type": "markdown",
   "metadata": {},
   "source": [
    "### MAP estimate"
   ]
  },
  {
   "cell_type": "markdown",
   "metadata": {},
   "source": [
    "Now let's move to Bayesian inference on the parameters $\\boldsymbol\\theta$. Let's put a prior on them. Because that's what we do. We put priors on things.\n",
    "\n",
    "More specifically, let's use a Gaussian prior parametrized by a mean $\\boldsymbol m$ and a variance $\\boldsymbol S$:\n",
    "\n",
    "$$\\boldsymbol\\theta \\sim  \\mathcal{N}(\\boldsymbol m, \\boldsymbol S)$$\n",
    "\n",
    "Given that $\\boldsymbol\\theta_{\\mathrm{ML}}$ had no analytical solution, it should really come as no surprise that $\\boldsymbol\\theta_{\\mathrm{MAP}}$ doesn't either. That should be no problem for a machine learning expert like you:\n",
    "\n",
    "**Task 4**\n",
    "\n",
    "1. Write down the equation for the full unnormalized posterior $p(\\boldsymbol\\theta | \\boldsymbol X, \\boldsymbol y) \\propto p(\\boldsymbol y | \\boldsymbol\\theta, \\boldsymbol X) p(\\boldsymbol\\theta)$.\n",
    "2. Write a separate function for it, as we did with the log-likelihood above.\n",
    "3. Optimize it to find $\\boldsymbol\\theta_{\\mathrm{MAP}}$ and use it to make predictions."
   ]
  },
  {
   "cell_type": "code",
   "execution_count": 22,
   "metadata": {
    "collapsed": false
   },
   "outputs": [],
   "source": [
    "## added by me\n",
    "def unnormalized_log_posterior(X, y, m, S):\n",
    "    # X: N x D matrix of training inputs\n",
    "    # y: N x 1 vector of training targets/observations\n",
    "    # m: D x 1 prior mean of parameters\n",
    "    # S: D x D prior covariance of parameters\n",
    "    # returns: log likelihood, scalar\n",
    "    \n",
    "    theta = np.random.randn(D,1)\n",
    "    L = log_likelihood(X, y, theta)\n",
    "#     print('L :',L)\n",
    "#     prior = np.random.multivariate_normal(m.squeeze(), S, (X.shape[1],1))\n",
    "    log_prior = (-0.5 * (theta- m).T  @ (np.linalg.solve(S,(theta - m))))[0]\n",
    "#     print('log_prior : ', log_prior)\n",
    "    unnormalized_log_posterior = log_prior + L\n",
    "#     print('unnormalized_log_posterior  : ', unnormalized_log_posterior)\n",
    "    \n",
    "    return unnormalized_log_posterior[0]"
   ]
  },
  {
   "cell_type": "code",
   "execution_count": 23,
   "metadata": {
    "collapsed": false
   },
   "outputs": [],
   "source": [
    "# def map_estimate(X, y, m, S):\n",
    "#     # X: N x D matrix of training inputs\n",
    "#     # y: N x 1 vector of training targets/observations\n",
    "#     # m: D x 1 prior mean of parameters\n",
    "#     # S: D x D prior covariance of parameters\n",
    "#     # returns: maximum a posteriori parameters (D x 1)\n",
    "    \n",
    "#     N, D = X.shape\n",
    "    \n",
    "#     theta = np.random.randn(D,1)\n",
    "    \n",
    "#     log_prior = lambda theta:  (-0.5 * (theta- m).T  @ (np.linalg.solve(S,(theta - m))))[0][0]\n",
    "#     log_post = lambda theta : -log_likelihood(X, y, theta) - log_prior(theta)\n",
    "#     print('log ',log_post(np.zeros(D)))\n",
    "#     theta_map = optimize.minimize(log_post, np.zeros((D,1)), method='BFGS')\n",
    "   \n",
    "#     return theta_map"
   ]
  },
  {
   "cell_type": "code",
   "execution_count": 24,
   "metadata": {
    "collapsed": true
   },
   "outputs": [],
   "source": [
    "# m = np.zeros((D, 1))\n",
    "# S = 5*np.eye(D)"
   ]
  },
  {
   "cell_type": "code",
   "execution_count": 25,
   "metadata": {
    "collapsed": true
   },
   "outputs": [],
   "source": [
    "# ## EDIT THIS FUNCTION\n",
    "# def map_estimate(X, y, m, S):\n",
    "#     # X: N x D matrix of training inputs\n",
    "#     # y: N x 1 vector of training targets/observations\n",
    "#     # m: D x 1 prior mean of parameters\n",
    "#     # S: D x D prior covariance of parameters\n",
    "#     # returns: maximum a posteriori parameters (D x 1)\n",
    "    \n",
    "#     N, D = X.shape\n",
    "#     theta_map = np.random.randn(D) ## <-- EDIT THIS LINE\n",
    "#     def logprior(theta):\n",
    "#         A = (theta.reshape(-1,1) - m)\n",
    "#         logprior = (-0.5 * A.T@ np.linalg.solve(S,A)).ravel()[0]\n",
    "#         return logprior\n",
    "#     logpost = lambda theta : -log_likelihood(X,y, theta) - logprior(theta)\n",
    "#     print('log ',logpost(np.zeros(D)))\n",
    "\n",
    "#     theta_map = optimize.minimize(logpost, np.zeros(D), method ='BFGS')  \n",
    "#     return theta_map.x.reshape(-1,1)"
   ]
  },
  {
   "cell_type": "code",
   "execution_count": 26,
   "metadata": {
    "collapsed": false
   },
   "outputs": [],
   "source": [
    "# map_estimate(x, y, m, S)"
   ]
  },
  {
   "cell_type": "code",
   "execution_count": 313,
   "metadata": {
    "collapsed": false
   },
   "outputs": [],
   "source": [
    "# f = lambda x: x**3+ 2*x +1\n",
    "# optimize.minimize(f, 0, method ='BFGS')"
   ]
  },
  {
   "cell_type": "code",
   "execution_count": 43,
   "metadata": {
    "collapsed": true
   },
   "outputs": [],
   "source": [
    "## EDIT THIS FUNCTION\n",
    "def map_estimate(X, y, m, S):\n",
    "    # X: N x D matrix of training inputs\n",
    "    # y: N x 1 vector of training targets/observations\n",
    "    # m: D x 1 prior mean of parameters\n",
    "    # S: D x D prior covariance of parameters\n",
    "    # returns: maximum a posteriori parameters (D x 1)\n",
    "    \n",
    "    N, D = X.shape\n",
    "    theta_map = np.zeros((D,1)) ## <-- EDIT THIS LINE\n",
    "    \n",
    "\n",
    "    theta = np.random.randn(D,1)\n",
    "    lr = 1e-2\n",
    "    eps = 1e-6\n",
    "    old_ll = 1\n",
    "    new_ll = 0\n",
    "    niter = 0\n",
    "    epochs = 1000\n",
    "    mu = 1/(1+ np.exp(-(X @ theta)))\n",
    "    \n",
    "    while (niter < epochs):\n",
    "        \n",
    "        old_ll = -unnormalized_log_posterior(X, y, m, S)\n",
    "        \n",
    "        mu = 1/(1+ np.exp(-(np.dot(X, theta))))\n",
    "        gradient = ((mu-y).T @ X  + ( (theta - m).T @ np.linalg.inv(S) )).T #np.dot(X.T, (mu-y)) - ( (theta - m).T @ np.linalg.inv(S) )\n",
    "        theta -= lr * gradient\n",
    "        new_ll = -unnormalized_log_posterior(X, y, m, S)\n",
    "        niter += 1\n",
    "    \n",
    "    theta_map =theta\n",
    "    return theta_map"
   ]
  },
  {
   "cell_type": "markdown",
   "metadata": {},
   "source": [
    "Now you can perform a similar model evaluation as you did before. How does your prior influence the MAP estimate and the model's performance?"
   ]
  },
  {
   "cell_type": "code",
   "execution_count": 44,
   "metadata": {
    "collapsed": false
   },
   "outputs": [
    {
     "data": {
      "text/plain": [
       "-35.49315551983358"
      ]
     },
     "execution_count": 44,
     "metadata": {},
     "output_type": "execute_result"
    }
   ],
   "source": [
    "## ADD CODE HERE\n",
    "# Fit and plot the MAP logistic regression estimate\n",
    "\n",
    "m = np.zeros((D, 1))\n",
    "S = 5*np.eye(D)\n",
    "\n",
    "##### my code\n",
    "unn_log_posterior = unnormalized_log_posterior(x, y, m, S);unn_log_posterior"
   ]
  },
  {
   "cell_type": "code",
   "execution_count": 45,
   "metadata": {
    "collapsed": false,
    "scrolled": true
   },
   "outputs": [],
   "source": [
    "theta_map = map_estimate(x, y, m, S)"
   ]
  },
  {
   "cell_type": "code",
   "execution_count": 46,
   "metadata": {
    "collapsed": false
   },
   "outputs": [
    {
     "data": {
      "text/plain": [
       "array([[-1.40189435],\n",
       "       [ 2.06647871]])"
      ]
     },
     "execution_count": 46,
     "metadata": {},
     "output_type": "execute_result"
    }
   ],
   "source": [
    "theta_map"
   ]
  },
  {
   "cell_type": "markdown",
   "metadata": {},
   "source": [
    "### The Laplace approximation"
   ]
  },
  {
   "cell_type": "markdown",
   "metadata": {},
   "source": [
    "As we have hinted above, in logistic regression the posterior distribution over $\\boldsymbol\\theta$ doesn't have an analytical solution. This is the first example in the course of _approximate Bayesian inference_: The exact posterior is analytically intractable so that we have to approximate it using one of various techniques. The one we'll use in this part of the tutorial is called the **Laplace approximation**.\n",
    "\n",
    "In brief, **the Laplace approximation is a Gaussian centered at the peak of the pdf of interest with the same curvature**. Let's make this a bit more rigorous below.\n",
    "\n",
    "Let's say we have a probability distribution $p(\\boldsymbol z)$ we want to approximate. The distribution $p(\\boldsymbol z)$ is of the form\n",
    "\n",
    "$$p(\\boldsymbol z) = \\frac{1}{Z} \\tilde{p}(\\boldsymbol z) ~ ,$$\n",
    "\n",
    "where $\\tilde{p}(\\boldsymbol z)$ is an unnormalized distribution that we can evaluate easily, but $Z$ is unknown. Formally, the Laplace approximation results from a second-order Taylor expansion of $\\log \\tilde{p}(\\boldsymbol z)$ around $\\boldsymbol  z_0$:\n",
    "\n",
    "$$\\log \\tilde{p}(\\boldsymbol z) \\approx \\log \\tilde{p}(\\boldsymbol z_0) + \\frac{d}{d\\boldsymbol z}\\log \\tilde{p}(\\boldsymbol z)\\Big|_{\\boldsymbol z=\\boldsymbol z_0}(\\boldsymbol z -\\boldsymbol  z_0) + \\frac{1}{2}(\\boldsymbol z-\\boldsymbol z_0)^\\top\\frac{d^2}{d\\boldsymbol z^2} \\log \\tilde{p}(\\boldsymbol z)\\Big|_{\\boldsymbol z=\\boldsymbol z_0}(\\boldsymbol z-\\boldsymbol z_0)$$\n",
    "\n",
    "Now let's evaluate this expression at the mode of $p(\\boldsymbol z)$ &ndash; which is the same as the mode of $\\tilde{p}(\\boldsymbol z)$. We define the mode $\\boldsymbol z^*$ such that\n",
    "\n",
    "$$\\frac{d}{d\\boldsymbol z} \\tilde{p}(\\boldsymbol z) \\Big|_{\\boldsymbol z = \\boldsymbol z^*} = \\boldsymbol 0 ~ .$$\n",
    "\n",
    "At this point, the $\\mathcal{O}(\\boldsymbol z)$ term of the expansion vanishes and we are left with\n",
    "\n",
    "$$\\log \\tilde{p}(\\boldsymbol z) \\approx \\log \\tilde{p}(\\boldsymbol z^*) - \\frac{1}{2}(\\boldsymbol z-\\boldsymbol z^*)^\\top\\boldsymbol A(\\boldsymbol z-\\boldsymbol z^*)$$\n",
    "\n",
    "Or, equivalently,\n",
    "\n",
    "$$\\tilde{p}(\\boldsymbol z) \\approx \\tilde{p}(\\boldsymbol z^*) \\exp\\big(-\\tfrac{1}{2}(\\boldsymbol z - \\boldsymbol z^*)^\\top\\boldsymbol A(\\boldsymbol z - \\boldsymbol z^*)\\big) ~ ,$$\n",
    "\n",
    "where\n",
    "\n",
    "$$\\boldsymbol A = - \\frac{d^2}{d\\boldsymbol z^2} \\log \\tilde{p}(\\boldsymbol z)\\Big|_{\\boldsymbol z=\\boldsymbol z^*} ~ .$$\n",
    "\n",
    "And now this distribution we know how to normalize, because it's one of those Gaussians we know and love. By inspection, we can identify the mean and the covariance, and write down the Laplace approximation of $p(\\boldsymbol z)$ as\n",
    "\n",
    "$$q(\\boldsymbol z) = \\mathcal{N}(\\boldsymbol z | \\boldsymbol z^*, \\boldsymbol A^{-1})$$"
   ]
  },
  {
   "cell_type": "markdown",
   "metadata": {},
   "source": [
    "As an example, let's use the unnormalized distribution $\\tilde{p}(z) = x e^{-x/2}$. When normalized properly, this is in fact the $\\chi^2$ distribution with $k=4$ degrees of freedom. Have a go yourself:\n",
    "\n",
    "1. Plot $p(z)$.\n",
    "2. Take the first derivative of $\\tilde{p}(z)$ (or the first derivative of its log), and find its maximum $z^*$ analytically.\n",
    "3. In the same plot, draw a vertical line at $z = z^*$ to verify you got the right answer.\n",
    "4. Take the second derivative of $\\log \\tilde{p}(z)$ and evaluate it at $z^*$.\n",
    "5. Plot the corresponding Gaussian $q(z)$ and verify the approximation looks reasonable.\n",
    "\n",
    "**Task 5**\n",
    "\n",
    "* Write a function that evaluates the Laplace approximation $q(z)$."
   ]
  },
  {
   "cell_type": "code",
   "execution_count": 62,
   "metadata": {
    "collapsed": true
   },
   "outputs": [],
   "source": [
    "## EDIT THIS FUNCTION\n",
    "def laplace_q(z):\n",
    "    # z: double array of size (T,)\n",
    "    # returns: array with Laplace approximation q evaluated\n",
    "    #          at all points in z\n",
    "    \n",
    "    \n",
    "    q = 0*z\n",
    "    q = stats.multivariate_normal.pdf(z, 2, 4)\n",
    "    return q"
   ]
  },
  {
   "cell_type": "code",
   "execution_count": 65,
   "metadata": {
    "collapsed": false
   },
   "outputs": [
    {
     "data": {
      "text/plain": [
       "[<matplotlib.lines.Line2D at 0x7f20e34cbe80>]"
      ]
     },
     "execution_count": 65,
     "metadata": {},
     "output_type": "execute_result"
    },
    {
     "data": {
      "image/png": "[encoded data removed]",
      "text/plain": [
       "<matplotlib.figure.Figure at 0x7f20e36457f0>"
      ]
     },
     "metadata": {},
     "output_type": "display_data"
    }
   ],
   "source": [
    "## ADD CODE HERE\n",
    "# Find the Laplace approximation of x*exp(-x/2) with pen and paper and then plot it.\n",
    "z = np.linspace(0,10)\n",
    "p = stats.chi2.pdf(z, 4)\n",
    "plt.figure(figsize=(10,8))\n",
    "plt.plot(z, p)\n",
    "plt.axvline(x=2)\n",
    "plt.plot(z, laplace_q(z))"
   ]
  },
  {
   "cell_type": "markdown",
   "metadata": {},
   "source": [
    "### Bayesian logistic regression (for real this time)"
   ]
  },
  {
   "cell_type": "markdown",
   "metadata": {},
   "source": [
    "Now we have obtained the mode (peak) of the posterior through the MAP estimate above, it's time to go all the way and calculate the posterior over $\\boldsymbol\\theta$. However, as we mentioned above the posterior doesn't have an analytical form, so we'll use &ndash; you guessed it &ndash; the Laplace transform.\n",
    "\n",
    "**Task 6**\n",
    "\n",
    "* Write a function, based on your previous code, that will calculate the Laplace approximation $q(\\boldsymbol\\theta)$ of the true posterior $p(\\boldsymbol\\theta | \\boldsymbol X, \\boldsymbol y)$ and return the mean and variance of $q$.\n",
    "\n",
    "To visualize the behavior and the diversity of $q$, draw a number $j = 1, ..., J$ of samples $\\boldsymbol\\theta_j \\sim q(\\boldsymbol\\theta)$. For each sample, plot its predicted class probabilities $\\sigma(x \\boldsymbol\\theta_j)$.\n",
    "\n",
    "_Hint_: the extension of the Laplace approximation to multivariate distributions is straightforward, and in this case the variance of the Gaussian is the Hessian of the negative log likelihood $\\boldsymbol A = - \\nabla_\\theta \\nabla_\\theta \\log p(\\boldsymbol\\theta | \\boldsymbol X, \\boldsymbol y)$."
   ]
  },
  {
   "cell_type": "code",
   "execution_count": 47,
   "metadata": {
    "collapsed": false
   },
   "outputs": [],
   "source": [
    "# def hessian(X):\n",
    "#             h = 1e-6\n",
    "#             mu = 1/(1+ np.exp(-(np.dot(X, theta))))\n",
    "#             mu_h = 1/(1+ np.exp(-(np.dot(X, theta+h))))\n",
    "#             v_h= ((mu_h-y).T @ X  + ( (theta+h - m).T @ np.linalg.inv(S) )).T\n",
    "#             v = ((mu-y).T @ X  + ( (theta+h - m).T @ np.linalg.inv(S) )).T\n",
    "#             return X.T @ X"
   ]
  },
  {
   "cell_type": "code",
   "execution_count": 48,
   "metadata": {
    "collapsed": false
   },
   "outputs": [
    {
     "data": {
      "text/plain": [
       "array([[50.        , 36.23107088],\n",
       "       [36.23107088, 74.83767844]])"
      ]
     },
     "execution_count": 48,
     "metadata": {},
     "output_type": "execute_result"
    }
   ],
   "source": [
    "hessian(x)"
   ]
  },
  {
   "cell_type": "code",
   "execution_count": 148,
   "metadata": {
    "collapsed": true
   },
   "outputs": [],
   "source": [
    "## EDIT THIS FUNCTION\n",
    "def get_posterior(X, y, m, S):\n",
    "    # X: N x D matrix of training inputs\n",
    "    # y: N x 1 vector of training targets/observations\n",
    "    # m: D x 1 prior mean of parameters\n",
    "    # S: D x D prior covariance of parameters\n",
    "    # returns: maximum a posteriori parameters (D x 1)\n",
    "    #          covariance of Laplace approximation (D x D)\n",
    "    \n",
    "    N, D = X.shape\n",
    "    mu_post = np.zeros((D, 1)) ## <-- EDIT THESE LINES\n",
    "    S_post  = np.eye(D)\n",
    "    \n",
    "    \n",
    "    mu_post = map_estimate(X, y, m, S)\n",
    "    mu = 1/(1+ np.exp(-(X @ mu_post)))\n",
    "\n",
    "    \n",
    "    hss = np.diag((mu * (1 - mu)).reshape(-1,))\n",
    "    S_post = np.linalg.inv(X.T @ hss @ X + np.linalg.inv(S))\n",
    "    \n",
    "    \n",
    "    return mu_post, S_post"
   ]
  },
  {
   "cell_type": "code",
   "execution_count": 397,
   "metadata": {
    "collapsed": false
   },
   "outputs": [
    {
     "name": "stdout",
     "output_type": "stream",
     "text": [
      "me voici :  (50, 50)\n",
      "theta_map :  [[-1.40189435]\n",
      " [ 2.06647871]]\n",
      "S_post :  [[ 0.25117899 -0.16634436]\n",
      " [-0.16634436  0.26415701]]\n"
     ]
    }
   ],
   "source": [
    "theta_map, S_post = get_posterior(x, y, m, S)\n",
    "print('theta_map : ', theta_map)\n",
    "print('S_post : ', S_post)"
   ]
  },
  {
   "cell_type": "code",
   "execution_count": 123,
   "metadata": {
    "collapsed": false
   },
   "outputs": [
    {
     "data": {
      "text/plain": [
       "array([[1, 0, 0],\n",
       "       [0, 2, 0],\n",
       "       [0, 0, 3]])"
      ]
     },
     "execution_count": 123,
     "metadata": {},
     "output_type": "execute_result"
    }
   ],
   "source": [
    "np.diag(np.array([1,2,3]).reshape(-1,))"
   ]
  },
  {
   "cell_type": "code",
   "execution_count": 105,
   "metadata": {
    "collapsed": false
   },
   "outputs": [
    {
     "name": "stdout",
     "output_type": "stream",
     "text": [
      "theta_map :  [[-1.40189435]\n",
      " [ 2.06647871]]\n",
      "S_post :  [[ 0.33924716 -6.43846246]\n",
      " [-0.24665816  4.65926121]]\n"
     ]
    }
   ],
   "source": [
    "theta_map, S_post = get_posterior(x, y, m, S)\n",
    "print('theta_map : ', theta_map)\n",
    "print('S_post : ', S_post)"
   ]
  },
  {
   "cell_type": "code",
   "execution_count": null,
   "metadata": {
    "collapsed": true
   },
   "outputs": [],
   "source": [
    "## ADD CODE HERE\n",
    "# Calculate the Laplace approximation of the posterior for theta, \n",
    "# draw a few samples and plot the corresponding likelihood functions \n",
    "# for each one.\n",
    "m = np.zeros((D, 1))\n",
    "S = 5*np.eye(D)\n",
    "nb_samples = 5\n",
    "\n",
    "theta_map, S_post = get_posterior(x, y, m, S)\n",
    "plt.scatter(x[:,1], y)\n",
    "for i in range(nb_samples):\n",
    "    data = np.random.multivariate_normal(theta_map,S_post)\n",
    "    plt.plot(0, 0) ## <--EDIT THIS LINE\n",
    "plt.show()"
   ]
  },
  {
   "cell_type": "markdown",
   "metadata": {
    "collapsed": true
   },
   "source": [
    "## Comparing posterior approximations"
   ]
  },
  {
   "cell_type": "markdown",
   "metadata": {},
   "source": [
    "The Laplace approximation is part of a family of methods known as _deterministic approximate inference_. In addition, there's another set of methods known as _stochastic approximate inference_ which, as you can guess includes most of the sampling techniques you have studied.\n",
    "\n",
    "You must be an expert in sampling by now. Let's actually go and check whether this Laplace approximation we just made is legit.\n",
    "\n",
    "* What sampling methods do you know to sample from an unnormalized distribution?\n",
    "\n",
    "For example, let's try the Metropolis algorithm.\n",
    "\n",
    "1. Write a proposal function to move in $\\boldsymbol\\theta$-space.\n",
    "2. Write a function to accept or reject new proposals based on the Metropolis criterion.\n",
    "3. Write a loop and run the Markov chain for a few thousand iterations.\n",
    "4. Check that the sampling worked: did the Markov chain mix properly? What's the acceptance rate? How does it depend on the proposal function?\n",
    "\n",
    "**Task 7**\n",
    "\n",
    "* Write a function to sample from the true posterior $p(\\boldsymbol\\theta | \\boldsymbol X, \\boldsymbol y)$."
   ]
  },
  {
   "cell_type": "code",
   "execution_count": 426,
   "metadata": {
    "collapsed": false
   },
   "outputs": [],
   "source": [
    "## EDIT THIS FUNCTION\n",
    "def posterior_sample(X, y, m, S, nb_iter):\n",
    "    # X: N x D matrix of training inputs\n",
    "    # y: N x 1 vector of training targets/observations\n",
    "    # m: D x 1 prior mean of parameters\n",
    "    # S: D x D prior covariance of parameters\n",
    "    # returns: nb_iter x D matrix of posterior samples\n",
    "    \n",
    "    D = X.shape[1]\n",
    "    samples = np.zeros((nb_iter, D))\n",
    "    \n",
    "    N = X.shape[0]\n",
    "    sigma = np.eye(D,D)\n",
    "\n",
    "    \n",
    "    xt = np.random.randn(D)\n",
    "    \n",
    "#     print('xt : ',xt)\n",
    "    m = m.ravel()\n",
    "    \n",
    "    for i in range(nb_iter):\n",
    "        \n",
    "        xprime = np.random.multivariate_normal(xt.ravel(), sigma)\n",
    "        a = stats.multivariate_normal.pdf(xt, xprime, sigma)\n",
    "        b = stats.multivariate_normal.pdf(xprime, m, S)\n",
    "        c, c1 = 0, 0\n",
    "        \n",
    "        mu = 1/(1+ np.exp(-X @ xprime))\n",
    "        mu1 = 1/(1+ np.exp(-X @ xt))\n",
    "        \n",
    "        for j in range(N):\n",
    "            c += np.log(stats.bernoulli.pmf(y[j], mu[j]))\n",
    "            c1 += np.log(stats.bernoulli.pmf(y[j], mu1[j]))\n",
    "        \n",
    "        q = a * b * np.exp(c)\n",
    "\n",
    "        a1 = stats.multivariate_normal.pdf(xprime, xt,  sigma)\n",
    "        b1 = stats.multivariate_normal.pdf(xt, m, S)\n",
    "        q1 = a1 * b1 * np.exp(c1)\n",
    "        \n",
    "        u = np.random.uniform(0,1)\n",
    "\n",
    "        if (q /q1 >= u) :\n",
    "#             print('True')\n",
    "            samples[i,:] = xprime\n",
    "            xt = xprime\n",
    "        else:\n",
    "#             print('False')\n",
    "            samples[i,:] = xt\n",
    "    \n",
    "    return samples"
   ]
  },
  {
   "cell_type": "markdown",
   "metadata": {},
   "source": [
    "Finally, let's plot the results and see if both inference methods arrive at roughly the same posterior.\n",
    "\n",
    "In the same axis, plot\n",
    "\n",
    "* The histogram pdf of the MCMC samples (you may want to look at the `density` option in `plt.hist`); and\n",
    "* The Laplace posterior.\n",
    "\n",
    "Make one plot for the intercept ($\\theta_0$) and one for the slope ($\\theta_1$). What do they look like? Do they match? What kinds of posteriors do you think the Laplace approximation will be good or bad at approximating?"
   ]
  },
  {
   "cell_type": "code",
   "execution_count": 427,
   "metadata": {
    "collapsed": false
   },
   "outputs": [
    {
     "data": {
      "image/png": "[encoded data removed]",
      "text/plain": [
       "<matplotlib.figure.Figure at 0x7f20e26a1d68>"
      ]
     },
     "metadata": {},
     "output_type": "display_data"
    }
   ],
   "source": [
    "## ADD CODE HERE\n",
    "# Plot a histogram of the MCMC posterior samples and the\n",
    "# analytical expression for the Laplace posterior. If\n",
    "# everything went well, the peaks should coincide and\n",
    "# their widths should be comparable.\n",
    "\n",
    "nb_iter = 10000\n",
    "samples = posterior_sample(x, y, m, S, nb_iter)\n",
    "plt.figure(figsize=(10,8))\n",
    "plt.hist(samples[:,0], 20 , normed=True);\n",
    "plt.hist(samples[:,1], 20 , normed=True);"
   ]
  },
  {
   "cell_type": "markdown",
   "metadata": {},
   "source": [
    "Et violà! Now you're an expert in logistic regression. (Wait, I think that's a big violin. I meant to say: et voilà!)\n",
    "\n",
    "Now we can visualize the posterior we can play around with the data and the inference parameters:\n",
    "\n",
    "* Play around with the data generation process. What happens as you increase/decrease $N$ and the jitter parameter?\n",
    "* What does the joint posterior look like? Make a visualization of the MCMC and Laplace approximations in the $(\\theta_0, \\theta_1)$ plane.\n",
    "* What happens if the model is misspecified? Take out the intercept term in the model (i.e., remove the column of ones in $\\boldsymbol X$), but set the `offset` in the data generation process to non-zero. What happens to the posterior and its Laplace approximation?\n"
   ]
  },
  {
   "cell_type": "code",
   "execution_count": 428,
   "metadata": {
    "collapsed": false
   },
   "outputs": [
    {
     "data": {
      "image/png": "[encoded data removed]",
      "text/plain": [
       "<matplotlib.figure.Figure at 0x7f20e2ac1390>"
      ]
     },
     "metadata": {},
     "output_type": "display_data"
    }
   ],
   "source": [
    "plt.figure(figsize=(10,8))\n",
    "plt.hist(samples[:,0], 20 , normed=True);\n",
    "plt.hist(samples[:,1], 20 , normed=True);\n",
    "z = np.linspace(-6,6, 100)\n",
    "pz = stats.multivariate_normal.pdf(z,theta_map[0], S_post[0,0])\n",
    "\n",
    "plt.plot(z,pz)\n",
    "pz = stats.multivariate_normal.pdf(z,theta_map[1], S_post[1,1])\n",
    "plt.plot(z,pz);"
   ]
  },
  {
   "cell_type": "code",
   "execution_count": null,
   "metadata": {
    "collapsed": true
   },
   "outputs": [],
   "source": []
  }
 ],
 "metadata": {
  "kernelspec": {
   "display_name": "Python 3",
   "language": "python",
   "name": "python3"
  },
  "language_info": {
   "codemirror_mode": {
    "name": "ipython",
    "version": 3
   },
   "file_extension": ".py",
   "mimetype": "text/x-python",
   "name": "python",
   "nbconvert_exporter": "python",
   "pygments_lexer": "ipython3",
   "version": "3.5.3"
  }
 },
 "nbformat": 4,
 "nbformat_minor": 2
}
