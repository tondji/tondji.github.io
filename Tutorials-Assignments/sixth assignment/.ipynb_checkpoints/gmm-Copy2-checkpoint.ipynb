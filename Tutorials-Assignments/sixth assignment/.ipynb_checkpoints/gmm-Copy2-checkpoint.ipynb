{
 "cells": [
  {
   "cell_type": "code",
   "execution_count": 1,
   "metadata": {
    "collapsed": true
   },
   "outputs": [],
   "source": [
    "import numpy as np\n",
    "from scipy.stats import multivariate_normal as mvn\n",
    "\n",
    "class GaussianMixtureModel():\n",
    "    \"\"\"Density estimation with Gaussian Mixture Models (GMM).\n",
    "\n",
    "    You can add new functions if you find it useful, but **do not** change\n",
    "    the names or argument lists of the functions provided.\n",
    "    \"\"\"\n",
    "    def __init__(self, X, K):\n",
    "        \"\"\"Initialise GMM class.\n",
    "\n",
    "        Arguments:\n",
    "          X -- data, N x D array\n",
    "          K -- number of mixture components, int\n",
    "        \"\"\"\n",
    "        self.X = X\n",
    "        self.n = X.shape[0]\n",
    "        self.D = X.shape[1]\n",
    "        self.K = K\n",
    "\n",
    "\n",
    "    def E_step(self, mu, S, pi):\n",
    "        \"\"\"Compute the E step of the EM algorithm.\n",
    "\n",
    "        Arguments:\n",
    "          mu -- component means, K x D array\n",
    "          S -- component covariances, K x D x D array\n",
    "          pi -- component weights, K x 1 array\n",
    "\n",
    "        Returns:\n",
    "          r_new -- updated component responsabilities, N x K array\n",
    "        \"\"\"\n",
    "        # Assert that all arguments have the right shape\n",
    "        assert(mu.shape == (self.K, self.D) and\\\n",
    "               S.shape  == (self.K, self.D, self.D) and\\\n",
    "               pi.shape == (self.K, 1))\n",
    "        r_new = np.zeros((self.n, self.K))\n",
    "\n",
    "        # Task 1: implement the E step and return updated responsabilities\n",
    "        # Write your code from here...\n",
    "\n",
    "        for i in range(self.n): \n",
    "            Nk = 0\n",
    "            for j in range(self.K):\n",
    "                Nk += pi[j] * mvn.pdf((self.X)[i], mu[j], S[j], allow_singular=True)\n",
    "            for k in range(self.K):\n",
    "                r_new[i, k] = pi[k] * mvn.pdf((self.X)[i], mu[k], S[k], allow_singular=True)/ Nk\n",
    "        \n",
    "        # ... to here.\n",
    "        assert(r_new.shape == (self.n, self.K))\n",
    "        return r_new\n",
    "\n",
    "\n",
    "    def M_step(self, mu, r):\n",
    "        \"\"\"Compute the M step of the EM algorithm.\n",
    "\n",
    "        Arguments:\n",
    "          mu -- previous component means, K x D array\n",
    "          r -- previous component responsabilities,  N x K array\n",
    "\n",
    "        Returns:\n",
    "          mu_new -- updated component means, K x D array\n",
    "          S_new -- updated component covariances, K x D x D array\n",
    "          pi_new -- updated component weights, K x 1 array\n",
    "        \"\"\"\n",
    "        assert(mu.shape == (self.K, self.D) and\\\n",
    "               r.shape  == (self.n, self.K))\n",
    "        mu_new = np.zeros((self.K, self.D))\n",
    "        S_new  = np.zeros((self.K, self.D, self.D))\n",
    "        pi_new = np.zeros((self.K, 1))\n",
    "\n",
    "        # Task 2: implement the M step and return updated mixture parameters\n",
    "        # Write your code from here...\n",
    "\n",
    "        #updating mu and pi\n",
    "        for k in range(self.K):\n",
    "            Nk = 0\n",
    "            for j in range(self.n):\n",
    "                Nk += r[j,k]\n",
    "            for i in range(self.n):\n",
    "                mu_new[k] += (r[i, k] * (self.X)[i])\n",
    "            mu_new[k] /= Nk\n",
    "            pi_new[k] = Nk/ (self.n)\n",
    "        \n",
    "        #updating S\n",
    "        for k in range(self.K):\n",
    "            Nk = 0\n",
    "            for i in range(self.n): \n",
    "                Nk += r[i,k]\n",
    "            for i in range(self.n):\n",
    "                ys = np.reshape((self.X)[i]- mu_new[k], (-1,1))\n",
    "                S_new[k] += (r[i, k] * (ys @ (ys.T)))\n",
    "            S_new[k] /= Nk\n",
    "        \n",
    "        # ... to here.\n",
    "        assert(mu_new.shape == (self.K, self.D) and\\\n",
    "               S_new.shape  == (self.K, self.D, self.D) and\\\n",
    "               pi_new.shape == (self.K, 1))\n",
    "        return mu_new, S_new, pi_new\n",
    "\n",
    "    \n",
    "    def log_likelihood(self, pi, mu, S):\n",
    "        '''Compute the loglikelihood'''\n",
    "        \n",
    "        ll = 0\n",
    "        for i in range(self.n):\n",
    "                s = 0\n",
    "                for k in range(K):\n",
    "                    s += pi[k] * mvn.pdf((self.X)[i], mu[k], S[k], allow_singular=True)\n",
    "                ll += np.log(s)\n",
    "        return -ll\n",
    "    \n",
    "    def train(self, initial_params):\n",
    "        \"\"\"Fit a Gaussian Mixture Model (GMM) to the data in matrix X.\n",
    "\n",
    "        Arguments:\n",
    "          initial_params -- dictionary with fields 'mu', 'S', 'pi' and 'K'\n",
    "\n",
    "        Returns:kernel \n",
    "          mu -- component means, K x D array\n",
    "          S -- component covariances, K x D x D array\n",
    "          pi -- component weights, K x 1 array\n",
    "          r -- component responsabilities, N x K array\n",
    "        \"\"\"\n",
    "        # Assert that initial_params has all the necessary fields\n",
    "        assert(all([k in initial_params for k in ['mu', 'S', 'pi']]))\n",
    "\n",
    "        mu = np.zeros((self.K, self.D))\n",
    "        S  = np.zeros((self.K, self.D, self.D))\n",
    "        pi = np.zeros((self.K, 1))\n",
    "        r  = np.zeros((self.n, self.K))\n",
    "\n",
    "        # Task 3: implement the EM loop to train the GMM\n",
    "        # Write your code from here...\n",
    "        \n",
    "        # updating log likelihoood\n",
    "        eps = 1e-6  \n",
    "        K = initial_params['K']\n",
    "        mu = initial_params['mu']\n",
    "        S = initial_params['S']\n",
    "        pi = initial_params['pi']\n",
    "        \n",
    "        ll = 1\n",
    "        previous_ll = 0\n",
    "        \n",
    "        while(np.abs(ll-previous_ll) > eps):       \n",
    "            previous_ll = self.log_likelihood(pi, mu, S)\n",
    "            \n",
    "            r = self.E_step(mu, S, pi)\n",
    "            mu, S, pi =  self.M_step(mu, r)\n",
    "            ll = self.log_likelihood(pi, mu, S)\n",
    "            print('diff', np.abs(ll-previous_ll))\n",
    "\n",
    "        # ... to here.\n",
    "        assert(mu.shape == (self.K, self.D) and\\\n",
    "               S.shape  == (self.K, self.D, self.D) and\\\n",
    "               pi.shape == (self.K, 1) and\\\n",
    "               r.shape  == (self.n, self.K))\n",
    "        return mu, S, pi, r\n",
    "\n",
    "\n",
    "if __name__ == '__main__':\n",
    "    np.random.seed(43)\n",
    "\n",
    "    ##########################\n",
    "    # You can put your tests here - marking\n",
    "    # will be based on importing this code and calling\n",
    "    # specific functions with custom input.\n",
    "    # Do not write code outside the class definition or\n",
    "    # this if-block.\n",
    "    ##########################"
   ]
  },
  {
   "cell_type": "code",
   "execution_count": 2,
   "metadata": {
    "collapsed": false
   },
   "outputs": [],
   "source": [
    "np.random.seed(123)\n",
    "\n",
    "# create data set\n",
    "n = 1000\n",
    "_mu = np.array([[0,4], [-2,0]])\n",
    "_S = np.array([[[3, 0], [0, 0.5]], [[1,0],[0,2]]])\n",
    "_pi = np.array([0.6, 0.4]).reshape(-1,1)\n",
    "X = np.concatenate([np.random.multivariate_normal(mu, S, int(pi*n))\n",
    "                    for pi, mu, S in zip(_pi, _mu, _S)])\n",
    "\n",
    "# initial values for parameters\n",
    "pi = (np.random.random(2)).reshape(-1,1)\n",
    "pi /= pi.sum()\n",
    "mu = np.random.random((2,2)) \n",
    "S = np.array([np.eye(2)] * 2)\n",
    "\n",
    "initial_params = {'mu':mu, 'S':S, 'pi': pi,'K': 2}"
   ]
  },
  {
   "cell_type": "code",
   "execution_count": 3,
   "metadata": {
    "collapsed": false
   },
   "outputs": [
    {
     "data": {
      "text/plain": [
       "(1000, 2)"
      ]
     },
     "execution_count": 3,
     "metadata": {},
     "output_type": "execute_result"
    }
   ],
   "source": [
    "X.shape"
   ]
  },
  {
   "cell_type": "code",
   "execution_count": 4,
   "metadata": {
    "collapsed": true
   },
   "outputs": [],
   "source": [
    "K = 2\n",
    "GMM = GaussianMixtureModel(X, K)"
   ]
  },
  {
   "cell_type": "code",
   "execution_count": 5,
   "metadata": {
    "collapsed": false
   },
   "outputs": [
    {
     "data": {
      "text/plain": [
       "(1000, 2)"
      ]
     },
     "execution_count": 5,
     "metadata": {},
     "output_type": "execute_result"
    }
   ],
   "source": [
    "n = X.shape[0]\n",
    "D = X.shape[1]\n",
    "n,D"
   ]
  },
  {
   "cell_type": "code",
   "execution_count": 6,
   "metadata": {
    "collapsed": false
   },
   "outputs": [
    {
     "data": {
      "text/plain": [
       "(2, 2)"
      ]
     },
     "execution_count": 6,
     "metadata": {},
     "output_type": "execute_result"
    }
   ],
   "source": [
    "mu.shape #K*D"
   ]
  },
  {
   "cell_type": "code",
   "execution_count": 7,
   "metadata": {
    "collapsed": false
   },
   "outputs": [
    {
     "data": {
      "text/plain": [
       "(2, 2, 2)"
      ]
     },
     "execution_count": 7,
     "metadata": {},
     "output_type": "execute_result"
    }
   ],
   "source": [
    "S.shape #K*D*D"
   ]
  },
  {
   "cell_type": "code",
   "execution_count": 8,
   "metadata": {
    "collapsed": false
   },
   "outputs": [
    {
     "data": {
      "text/plain": [
       "(2, 1)"
      ]
     },
     "execution_count": 8,
     "metadata": {},
     "output_type": "execute_result"
    }
   ],
   "source": [
    "pi.shape #K"
   ]
  },
  {
   "cell_type": "code",
   "execution_count": 9,
   "metadata": {
    "collapsed": false
   },
   "outputs": [
    {
     "data": {
      "text/plain": [
       "(1000, 2)"
      ]
     },
     "execution_count": 9,
     "metadata": {},
     "output_type": "execute_result"
    }
   ],
   "source": [
    "r = GMM.E_step(mu, S, pi);r.shape"
   ]
  },
  {
   "cell_type": "code",
   "execution_count": 10,
   "metadata": {
    "collapsed": false
   },
   "outputs": [
    {
     "name": "stdout",
     "output_type": "stream",
     "text": [
      "(2, 2) (2, 2, 2) (2, 1)\n"
     ]
    }
   ],
   "source": [
    "mu_new, S_new, pi_new = GMM.M_step(mu, r)\n",
    "print(mu_new.shape, S_new.shape, pi_new.shape)"
   ]
  },
  {
   "cell_type": "code",
   "execution_count": 11,
   "metadata": {
    "collapsed": false,
    "scrolled": true
   },
   "outputs": [
    {
     "name": "stdout",
     "output_type": "stream",
     "text": [
      "diff [4326.13082325]\n",
      "diff [74.2080464]\n",
      "diff [83.85693976]\n",
      "diff [79.05562874]\n",
      "diff [32.73050648]\n",
      "diff [4.51355391]\n",
      "diff [0.48024209]\n",
      "diff [0.12911106]\n",
      "diff [0.05632841]\n",
      "diff [0.02579708]\n",
      "diff [0.01172219]\n",
      "diff [0.00527788]\n",
      "diff [0.00236077]\n",
      "diff [0.00105127]\n",
      "diff [0.00046675]\n",
      "diff [0.00020682]\n",
      "diff [9.15211231e-05]\n",
      "diff [4.04642151e-05]\n",
      "diff [1.78799824e-05]\n",
      "diff [7.89758315e-06]\n",
      "diff [3.48746426e-06]\n",
      "diff [1.53974588e-06]\n",
      "diff [6.79734967e-07]\n"
     ]
    }
   ],
   "source": [
    "mu, S, pi, r = GMM.train(initial_params)"
   ]
  },
  {
   "cell_type": "code",
   "execution_count": 12,
   "metadata": {
    "collapsed": false
   },
   "outputs": [
    {
     "data": {
      "text/plain": [
       "array([[-0.02979884,  3.98051913],\n",
       "       [-1.94734492,  0.01671157]])"
      ]
     },
     "execution_count": 12,
     "metadata": {},
     "output_type": "execute_result"
    }
   ],
   "source": [
    "mu"
   ]
  },
  {
   "cell_type": "code",
   "execution_count": 13,
   "metadata": {
    "collapsed": false
   },
   "outputs": [
    {
     "data": {
      "text/plain": [
       "array([[[3.02725263, 0.01334969],\n",
       "        [0.01334969, 0.48308846]],\n",
       "\n",
       "       [[0.90081832, 0.04724491],\n",
       "        [0.04724491, 2.03467697]]])"
      ]
     },
     "execution_count": 13,
     "metadata": {},
     "output_type": "execute_result"
    }
   ],
   "source": [
    "S"
   ]
  },
  {
   "cell_type": "code",
   "execution_count": 14,
   "metadata": {
    "collapsed": false
   },
   "outputs": [
    {
     "data": {
      "text/plain": [
       "array([[0.59369597],\n",
       "       [0.40630403]])"
      ]
     },
     "execution_count": 14,
     "metadata": {},
     "output_type": "execute_result"
    }
   ],
   "source": [
    "pi"
   ]
  },
  {
   "cell_type": "code",
   "execution_count": 15,
   "metadata": {
    "collapsed": false
   },
   "outputs": [],
   "source": [
    "#import pandas as pd\n",
    "import numpy as np\n",
    "# df = pd.read_csv('geolocations.csv');df\n",
    "df = np.loadtxt('geolocations.csv', delimiter = ',')\n",
    "X = df "
   ]
  },
  {
   "cell_type": "code",
   "execution_count": 16,
   "metadata": {
    "collapsed": true
   },
   "outputs": [],
   "source": [
    "import matplotlib.pyplot as plt"
   ]
  },
  {
   "cell_type": "code",
   "execution_count": 26,
   "metadata": {
    "collapsed": false
   },
   "outputs": [
    {
     "data": {
      "image/png": "[encoded data removed]",
      "text/plain": [
       "<matplotlib.figure.Figure at 0x7f22fe7ce668>"
      ]
     },
     "metadata": {},
     "output_type": "display_data"
    }
   ],
   "source": [
    "plt.figure(figsize=(10,8))\n",
    "plt.scatter(df[:,0],df[:,1], marker = 'o')\n",
    "plt.show()"
   ]
  },
  {
   "cell_type": "code",
   "execution_count": 62,
   "metadata": {
    "collapsed": false
   },
   "outputs": [],
   "source": [
    "# initial values for parameters\n",
    "K = 3\n",
    "pi = (np.random.random(K)).reshape(-1,1)\n",
    "pi /= pi.sum()\n",
    "# mu = np.random.random((2,2)) \n",
    "S = np.array([i * np.eye(2) for i in range(1,4)])\n",
    "i, j, k = 0,0,0\n",
    "while i == j == k :\n",
    "    i, j, k = np.random.randint(30), np.random.randint(30) , np.random.randint(30)\n",
    "mu = np.array((df[i],df[j], df[k]))\n",
    "initial_params = {'mu':mu, 'S':S, 'pi': pi,'K': K}"
   ]
  },
  {
   "cell_type": "code",
   "execution_count": 19,
   "metadata": {
    "collapsed": false
   },
   "outputs": [],
   "source": [
    "X_mean = X.mean(axis=0)"
   ]
  },
  {
   "cell_type": "code",
   "execution_count": 20,
   "metadata": {
    "collapsed": false
   },
   "outputs": [],
   "source": [
    "std_df = X.std(axis=0)"
   ]
  },
  {
   "cell_type": "code",
   "execution_count": 21,
   "metadata": {
    "collapsed": false
   },
   "outputs": [],
   "source": [
    "X_new = (X - X_mean)/std_df"
   ]
  },
  {
   "cell_type": "code",
   "execution_count": 22,
   "metadata": {
    "collapsed": false
   },
   "outputs": [
    {
     "data": {
      "text/plain": [
       "array([[-0.40863952, -0.68777774],\n",
       "       [-0.37199326, -0.57091008],\n",
       "       [-0.46901162, -0.19772012],\n",
       "       [ 0.30037516, -1.65005776],\n",
       "       [ 2.20601045, -0.47349119],\n",
       "       [-0.92919015,  1.04774405],\n",
       "       [-0.46009757, -0.76575341],\n",
       "       [ 0.43512475,  1.04810703],\n",
       "       [ 0.35096429, -1.72779045],\n",
       "       [ 0.35709148, -1.71935828],\n",
       "       [-0.59618763, -0.21593262],\n",
       "       [ 1.23861601,  1.83361819],\n",
       "       [ 0.43528532,  1.04685074],\n",
       "       [ 3.69819994, -0.79908575],\n",
       "       [ 0.23865797, -1.1051358 ],\n",
       "       [-0.5895571 , -0.21495582],\n",
       "       [-0.05472302,  0.06057078],\n",
       "       [-0.46054824, -0.76828709],\n",
       "       [-1.12101115,  0.89765755],\n",
       "       [-0.60436358, -0.215467  ],\n",
       "       [-0.29348966, -0.54003919],\n",
       "       [-0.25475684, -0.60308671],\n",
       "       [ 0.9573232 ,  1.42110529],\n",
       "       [-0.01049876,  1.39804825],\n",
       "       [-1.09721788,  0.91651569],\n",
       "       [-0.93243927,  1.05185087],\n",
       "       [ 0.44722898,  1.05038734],\n",
       "       [-0.37436416, -0.57216303],\n",
       "       [-0.51435368, -0.20465996],\n",
       "       [-1.12243447,  1.25921622]])"
      ]
     },
     "execution_count": 22,
     "metadata": {},
     "output_type": "execute_result"
    }
   ],
   "source": [
    "X_new"
   ]
  },
  {
   "cell_type": "code",
   "execution_count": 25,
   "metadata": {
    "collapsed": false
   },
   "outputs": [
    {
     "data": {
      "image/png": "[encoded data removed]",
      "text/plain": [
       "<matplotlib.figure.Figure at 0x7f22fe924048>"
      ]
     },
     "metadata": {},
     "output_type": "display_data"
    }
   ],
   "source": [
    "plt.figure(figsize=(10,8))\n",
    "plt.scatter(X_new[:,0],X_new[:,1], marker = 'o')\n",
    "plt.show()"
   ]
  },
  {
   "cell_type": "code",
   "execution_count": 61,
   "metadata": {
    "collapsed": true
   },
   "outputs": [],
   "source": [
    "# initial values for parameters\n",
    "K = 3\n",
    "pi = (np.random.random(K)).reshape(-1,1)\n",
    "pi /= pi.sum()\n",
    "# mu = np.random.random((2,2)) \n",
    "S = np.array([i * np.eye(2) for i in range(1,4)])\n",
    "i, j, k = 0,0,0\n",
    "while i == j == k :\n",
    "    i, j, k = np.random.randint(30), np.random.randint(30) , np.random.randint(30)\n",
    "mu = np.array((df_new[i],df_new[j], df_new[k]))\n",
    "initial_params = {'mu':mu, 'S':S, 'pi': pi,'K': K}"
   ]
  },
  {
   "cell_type": "code",
   "execution_count": null,
   "metadata": {
    "collapsed": true
   },
   "outputs": [],
   "source": [
    "GMM_dff = GaussianMixtureModel(df_new, K)\n",
    "mu_df, S_df, pi_df, r_df = GMM_dff.train(initial_params)"
   ]
  },
  {
   "cell_type": "code",
   "execution_count": 63,
   "metadata": {
    "collapsed": false
   },
   "outputs": [
    {
     "data": {
      "text/plain": [
       "(16, 20, 4)"
      ]
     },
     "execution_count": 63,
     "metadata": {},
     "output_type": "execute_result"
    }
   ],
   "source": [
    "i,j,k"
   ]
  },
  {
   "cell_type": "code",
   "execution_count": 64,
   "metadata": {
    "collapsed": false
   },
   "outputs": [
    {
     "data": {
      "text/plain": [
       "array([[0.24615688],\n",
       "       [0.38652058],\n",
       "       [0.36732255]])"
      ]
     },
     "execution_count": 64,
     "metadata": {},
     "output_type": "execute_result"
    }
   ],
   "source": [
    "pi"
   ]
  },
  {
   "cell_type": "code",
   "execution_count": 65,
   "metadata": {
    "collapsed": false
   },
   "outputs": [
    {
     "data": {
      "text/plain": [
       "array([[-0.05472302,  0.06057078],\n",
       "       [-0.29348966, -0.54003919],\n",
       "       [ 2.20601045, -0.47349119]])"
      ]
     },
     "execution_count": 65,
     "metadata": {},
     "output_type": "execute_result"
    }
   ],
   "source": [
    "mu"
   ]
  },
  {
   "cell_type": "code",
   "execution_count": 66,
   "metadata": {
    "collapsed": false
   },
   "outputs": [
    {
     "data": {
      "text/plain": [
       "array([[[1., 0.],\n",
       "        [0., 1.]],\n",
       "\n",
       "       [[2., 0.],\n",
       "        [0., 2.]],\n",
       "\n",
       "       [[3., 0.],\n",
       "        [0., 3.]]])"
      ]
     },
     "execution_count": 66,
     "metadata": {},
     "output_type": "execute_result"
    }
   ],
   "source": [
    "S"
   ]
  },
  {
   "cell_type": "code",
   "execution_count": 67,
   "metadata": {
    "collapsed": false
   },
   "outputs": [
    {
     "name": "stdout",
     "output_type": "stream",
     "text": [
      "diff [15.60498469]\n",
      "diff [1.92296185]\n",
      "diff [3.18151081]\n",
      "diff [8.43958083]\n",
      "diff [8.65561446]\n",
      "diff [3.05666387]\n",
      "diff [2.29436019]\n",
      "diff [1.53973845]\n",
      "diff [1.43012705]\n",
      "diff [1.5739946]\n",
      "diff [1.29483602]\n",
      "diff [0.01932873]\n",
      "diff [0.00043314]\n",
      "diff [5.90356373e-05]\n",
      "diff [8.46314652e-06]\n",
      "diff [1.20564189e-06]\n",
      "diff [1.71414278e-07]\n"
     ]
    }
   ],
   "source": [
    "GMM_df = GaussianMixtureModel(df, K)\n",
    "mu_df, S_df, pi_df, r_df = GMM_df.train(initial_params)"
   ]
  },
  {
   "cell_type": "code",
   "execution_count": 68,
   "metadata": {
    "collapsed": false
   },
   "outputs": [
    {
     "data": {
      "text/plain": [
       "array([[ 0.5654303 ,  1.05744329],\n",
       "       [-0.44488519, -0.31420158],\n",
       "       [ 1.82838003,  0.13149947]])"
      ]
     },
     "execution_count": 68,
     "metadata": {},
     "output_type": "execute_result"
    }
   ],
   "source": [
    "mu_df"
   ]
  },
  {
   "cell_type": "code",
   "execution_count": 69,
   "metadata": {
    "collapsed": false
   },
   "outputs": [
    {
     "data": {
      "text/plain": [
       "array([[[ 0.19763727,  0.24402576],\n",
       "        [ 0.24402576,  0.32384746]],\n",
       "\n",
       "       [[ 0.20365851, -0.38171468],\n",
       "        [-0.38171468,  0.78583563]],\n",
       "\n",
       "       [[ 2.3073508 , -1.41946796],\n",
       "        [-1.41946796,  0.93671078]]])"
      ]
     },
     "execution_count": 69,
     "metadata": {},
     "output_type": "execute_result"
    }
   ],
   "source": [
    "S_df"
   ]
  },
  {
   "cell_type": "code",
   "execution_count": 70,
   "metadata": {
    "collapsed": false
   },
   "outputs": [
    {
     "data": {
      "text/plain": [
       "array([[0.19340844],\n",
       "       [0.69684561],\n",
       "       [0.10974595]])"
      ]
     },
     "execution_count": 70,
     "metadata": {},
     "output_type": "execute_result"
    }
   ],
   "source": [
    "pi_df"
   ]
  }
 ],
 "metadata": {
  "kernelspec": {
   "display_name": "Python 3",
   "language": "python",
   "name": "python3"
  },
  "language_info": {
   "codemirror_mode": {
    "name": "ipython",
    "version": 3
   },
   "file_extension": ".py",
   "mimetype": "text/x-python",
   "name": "python",
   "nbconvert_exporter": "python",
   "pygments_lexer": "ipython3",
   "version": "3.5.3"
  }
 },
 "nbformat": 4,
 "nbformat_minor": 2
}
