{
 "cells": [
  {
   "cell_type": "markdown",
   "metadata": {},
   "source": [
    "# Logistic regression tutorial "
   ]
  },
  {
   "cell_type": "code",
   "execution_count": 1,
   "metadata": {
    "collapsed": true
   },
   "outputs": [],
   "source": [
    "## Do **not** change this cell, and do **not** import\n",
    "## any other modules anywhere in the notebook.\n",
    "import numpy as np\n",
    "import numpy.random as rn\n",
    "from scipy import optimize, stats\n",
    "import scipy.linalg as linalg\n",
    "import matplotlib.pyplot as plt\n",
    "\n",
    "%matplotlib inline"
   ]
  },
  {
   "cell_type": "markdown",
   "metadata": {
    "collapsed": true
   },
   "source": [
    "In this tutorial we're going to cover the basics behind logistic regression. For simplicity we will only consider the binary classification case, in which target variables are $y \\in \\{0,1\\}$. \n",
    "\n",
    "In logistic regression, the probability of a data point $\\boldsymbol x$ being of class 1 is given by\n",
    "\n",
    "$$p(y = 1 | \\boldsymbol x, \\boldsymbol\\theta) = \\sigma (\\boldsymbol x^\\top \\boldsymbol\\theta) ~ ,$$\n",
    "\n",
    "where $\\sigma(z) = 1/(1+\\exp(-z))$ is the _sigmoid_ function.\n",
    "\n",
    "Combining this with a Bernoulli likelihood and summing over all datapoints $\\{\\boldsymbol x_i, y_i\\}_{i=1}^N$ we end up with a negative log-likelihood function that looks like this:\n",
    "\n",
    "$$-\\log p(\\boldsymbol y|\\boldsymbol X, \\boldsymbol\\theta) = -\\sum_i\\left(y_i \\log \\sigma(\\boldsymbol x_i^\\top \\boldsymbol\\theta) + (1 - y_i) \\log ( 1 - \\sigma(\\boldsymbol x_i^\\top \\boldsymbol\\theta))\\right)$$\n",
    "\n",
    "You will see this expression in many other classification problems, especially in deep learning, where it's known as the _cross-entropy loss_.\n",
    "\n",
    "Your goal in this tutorial is to learn how to perform inference over the parameters $\\boldsymbol\\theta$ in logistic regression, including point estimates $\\boldsymbol\\theta_{\\mathrm{ML}}$ and $\\boldsymbol\\theta_{\\mathrm{MAP}}$ and approximations to the posterior $p(\\boldsymbol\\theta | \\boldsymbol X, \\boldsymbol y)$.\n",
    "\n",
    "Let's do it."
   ]
  },
  {
   "cell_type": "markdown",
   "metadata": {
    "collapsed": true
   },
   "source": [
    "## Maximum likelihood estimate"
   ]
  },
  {
   "cell_type": "markdown",
   "metadata": {},
   "source": [
    "Let's start easy. First, let's generate a toy 1D binary dataset with two paramaters:\n",
    "\n",
    "* A **jitter** parameter that controls how noisy the data are; and\n",
    "* An **offset** parameter that controls the separation between the two classes."
   ]
  },
  {
   "cell_type": "code",
   "execution_count": 2,
   "metadata": {
    "collapsed": false
   },
   "outputs": [],
   "source": [
    "# Data generation parameters\n",
    "N = 50\n",
    "D = 2\n",
    "jitter = 0.7\n",
    "offset = 1.2\n",
    "np.random.seed(43)\n",
    "\n",
    "# Generate the data\n",
    "x = np.vstack([rn.normal(0, jitter, (N//2,1)), rn.normal(offset, jitter, (N//2,1))])\n",
    "y = np.vstack([np.zeros((N//2, 1)), np.ones((N//2, 1))])\n",
    "x_test = np.linspace(-2, offset + 2).reshape(-1,1)\n",
    "\n",
    "# Make the augmented data matrix by adding a column of ones\n",
    "x = np.hstack([np.ones((N,1)), x])\n",
    "x_test = np.hstack([np.ones((N,1)), x_test])"
   ]
  },
  {
   "cell_type": "markdown",
   "metadata": {},
   "source": [
    "Now on to the regression. First, let's code up the logistic log-likelihood as a separate function. This will come in handy.\n",
    "\n",
    "**Task 1**\n",
    "\n",
    "* Write a function to calculate the log-likelihood of a dataset given a value of $\\boldsymbol\\theta$."
   ]
  },
  {
   "cell_type": "code",
   "execution_count": 3,
   "metadata": {
    "collapsed": true
   },
   "outputs": [],
   "source": [
    "## EDIT THIS FUNCTION\n",
    "def log_likelihood(X, y, theta):\n",
    "    # X: N x D matrix of training inputs\n",
    "    # y: N x 1 vector of training targets/observations\n",
    "    # theta: parameters (D x 1)\n",
    "    # returns: log likelihood, scalar\n",
    "    \n",
    "    L = 0\n",
    "#     mu = 1/(1+ np.exp(-(np.dot(X, theta))))\n",
    "    mu = 1/(1+ np.exp(-(X @ theta)))\n",
    "\n",
    "#     print('mu :', mu)\n",
    "    \n",
    "#     mu_n = 1+ np.exp(-(np.dot(X, theta)))\n",
    "    L = sum(y* (np.log(mu)) + (1-y)*np.log(1-mu))\n",
    "#     for n in range(N):\n",
    "        \n",
    "#         mu_n = 1/(1+ np.exp(-(np.dot(X[i], theta[i]))))\n",
    "#         L += y[n]* np.log(mu_n) + (1-y[n])*np.log(1-mu_n) ## <-- EDIT THIS LINE\n",
    "    \n",
    "    return L[0]"
   ]
  },
  {
   "cell_type": "code",
   "execution_count": 4,
   "metadata": {
    "collapsed": false
   },
   "outputs": [
    {
     "data": {
      "text/plain": [
       "-57.36454728300592"
      ]
     },
     "execution_count": 4,
     "metadata": {},
     "output_type": "execute_result"
    }
   ],
   "source": [
    "theta = np.array(([2],[2]))\n",
    "log_likelihood(x,y, theta)"
   ]
  },
  {
   "cell_type": "markdown",
   "metadata": {},
   "source": [
    "Now it's time to optimize it to fit the maximum likelihood parameter,\n",
    "\n",
    "$$\\boldsymbol\\theta_{\\mathrm{ML}} = \\mathrm{arg}_\\theta \\max p(\\boldsymbol y | \\boldsymbol X, \\boldsymbol\\theta)$$\n",
    "\n",
    "For linear regression, the likelihood function had a closed-form minimum, which made our lives easy. Alas, that is not the case for logistic regression. We will have to resort to _numerical optimization_.\n",
    "\n",
    "In the lectures you saw how to derive the gradient and all that jazz. For this tutorial you can do it that way, or any other way you want. The optimization is convex, so this should be easy peasy.\n",
    "\n",
    "**Task 2**\n",
    "\n",
    "* Write a function to optimize the log-likelihood function you've written above an obtain $\\boldsymbol\\theta_{\\mathrm{ML}}$. Use any optimizer of your choice."
   ]
  },
  {
   "cell_type": "code",
   "execution_count": 5,
   "metadata": {
    "collapsed": false
   },
   "outputs": [],
   "source": [
    "## EDIT THIS FUNCTION\n",
    "def max_lik_estimate(X, y):\n",
    "    # X: N x D matrix of training inputs\n",
    "    # y: N x 1 vector of training targets/observations\n",
    "    # returns: maximum likelihood parameters (D x 1)\n",
    "    \n",
    "    N, D = X.shape\n",
    "#     theta = np.zeros((D,1))\n",
    "    theta = np.random.randn(D,1)\n",
    "    lr = 1e-2\n",
    "    eps = 1e-6\n",
    "    old_ll = 1\n",
    "    new_ll = 0\n",
    "#     ite = 0\n",
    "    \n",
    "    while (np.abs(new_ll - old_ll) > eps):\n",
    "        \n",
    "        old_ll = -log_likelihood(X, y, theta)\n",
    "        \n",
    "        mu = 1/(1+ np.exp(-(np.dot(X, theta))))\n",
    "        gradient = np.dot(X.T, (mu-y))\n",
    "        theta -= lr * gradient\n",
    "        new_ll = -log_likelihood(X, y, theta)\n",
    "#         print('epochs[{}], loss: {}'.format(ite, np.abs(new_ll - old_ll)))\n",
    "#         ite += 1\n",
    "    theta_ml =theta\n",
    "#     theta_ml = np.zeros((D,1)) ## <-- EDIT THIS LINE\n",
    "    return theta_ml"
   ]
  },
  {
   "cell_type": "markdown",
   "metadata": {},
   "source": [
    "**Task 3**\n",
    "\n",
    "* Write a predict function to evaluate your estimate."
   ]
  },
  {
   "cell_type": "code",
   "execution_count": 6,
   "metadata": {
    "collapsed": true
   },
   "outputs": [],
   "source": [
    "## EDIT THIS FUNCTION\n",
    "def predict(X, theta):\n",
    "    # Xtest: K x D matrix of test inputs\n",
    "    # theta: D x 1 vector of parameters\n",
    "    # returns: prediction of f(Xtest); K x 1 vector\n",
    "    \n",
    "    threshold = .5\n",
    "    prob = 1/(1+ np.exp(-(np.dot(X, theta))))\n",
    "    \n",
    "    predi = prob >= threshold ## <-- EDIT THIS LINE\n",
    "    prediction = np.zeros((X.shape[0],1))\n",
    "    \n",
    "    for i in range(len(prediction)):\n",
    "            prediction[i][0] = 0  if (predi[i] == False) else 1\n",
    "    \n",
    "    return  prediction"
   ]
  },
  {
   "cell_type": "markdown",
   "metadata": {},
   "source": [
    "With this we're in a good position to fit a logistic regression to our toy dataset and start visualising the results. Have a go.\n",
    "\n",
    "1. Use the function you wrote above to estimate $\\boldsymbol\\theta_{\\mathrm{ML}}$ on the toy dataset.\n",
    "2. Visualize the results, including:\n",
    "    1. The data $x$ and target labels $y$. \n",
    "    2. The labels predicted by the model.\n",
    "    3. The probability assigned by the model, $\\sigma(x\\theta)$ as a function of $x$."
   ]
  },
  {
   "cell_type": "code",
   "execution_count": null,
   "metadata": {
    "collapsed": false,
    "scrolled": false
   },
   "outputs": [],
   "source": [
    "plt.figure(figsize=(10,8))\n",
    "plt.scatter(x[:,1], x[:,0], marker='o')\n",
    "# plt.plot(x[:,1])"
   ]
  },
  {
   "cell_type": "code",
   "execution_count": 7,
   "metadata": {
    "collapsed": false,
    "scrolled": true
   },
   "outputs": [
    {
     "name": "stdout",
     "output_type": "stream",
     "text": [
      "theta_ml :  [[-1.56245423]\n",
      " [ 2.24633533]]\n"
     ]
    }
   ],
   "source": [
    "theta_ml = max_lik_estimate(x, y)\n",
    "print('theta_ml : ', theta_ml)\n",
    "# prediction = predict(x, theta_ml)"
   ]
  },
  {
   "cell_type": "code",
   "execution_count": 8,
   "metadata": {
    "collapsed": false
   },
   "outputs": [
    {
     "data": {
      "text/plain": [
       "      fun: 34.657359027997394\n",
       " hess_inv: array([[ 0.10649777, -0.16099247],\n",
       "       [-0.16099247,  0.97099215]])\n",
       "      jac: array([-5.72204590e-06, -4.76837158e-07])\n",
       "  message: 'Optimization terminated successfully.'\n",
       "     nfev: 20\n",
       "      nit: 4\n",
       "     njev: 5\n",
       "   status: 0\n",
       "  success: True\n",
       "        x: array([ 0.10516375, -0.58366033])"
      ]
     },
     "execution_count": 8,
     "metadata": {},
     "output_type": "execute_result"
    }
   ],
   "source": [
    "optimize.minimize(lambda theta : -log_likelihood(x, y, theta), np.random.randn(D), method='BFGS')"
   ]
  },
  {
   "cell_type": "code",
   "execution_count": 9,
   "metadata": {
    "collapsed": true
   },
   "outputs": [],
   "source": [
    "theta_ml1 = optimize.minimize(lambda theta: -log_likelihood(x, y, theta) ,np.zeros(D), method ='BFGS')"
   ]
  },
  {
   "cell_type": "code",
   "execution_count": 10,
   "metadata": {
    "collapsed": false
   },
   "outputs": [
    {
     "data": {
      "text/plain": [
       "      fun: 34.65735902799723\n",
       " hess_inv: array([[1, 0],\n",
       "       [0, 1]])\n",
       "      jac: array([0.00000000e+00, 2.38418579e-06])\n",
       "  message: 'Optimization terminated successfully.'\n",
       "     nfev: 4\n",
       "      nit: 0\n",
       "     njev: 1\n",
       "   status: 0\n",
       "  success: True\n",
       "        x: array([0., 0.])"
      ]
     },
     "execution_count": 10,
     "metadata": {},
     "output_type": "execute_result"
    }
   ],
   "source": [
    "theta_ml1"
   ]
  },
  {
   "cell_type": "code",
   "execution_count": null,
   "metadata": {
    "collapsed": false,
    "scrolled": true
   },
   "outputs": [],
   "source": [
    "#accuracy\n",
    "print('{} points over {} have been well predict'.format(sum(prediction == y), len(x)))\n",
    "print('the accuracy is', (prediction == y).mean())\n",
    "print('the likelihood is', np.exp(log_likelihood(x,y,theta_ml)))"
   ]
  },
  {
   "cell_type": "code",
   "execution_count": null,
   "metadata": {
    "collapsed": false
   },
   "outputs": [],
   "source": [
    "plt.figure(figsize=(10,8))\n",
    "label = [0,1]\n",
    "colors = []\n",
    "for i in range(len(prediction)):\n",
    "    if prediction[i] == 0:\n",
    "        colors.append('red')\n",
    "    else:\n",
    "        colors.append('green')\n",
    "plt.scatter(x[:,1], prediction, marker='o', c = colors)"
   ]
  },
  {
   "cell_type": "code",
   "execution_count": null,
   "metadata": {
    "collapsed": false
   },
   "outputs": [],
   "source": [
    "plt.figure(figsize=(10,8))\n",
    "label = [0,1]\n",
    "colors = []\n",
    "for i in range(len(prediction)):\n",
    "    if y[i] == 0:\n",
    "        colors.append('red')\n",
    "    else:\n",
    "        colors.append('green')\n",
    "plt.scatter(x[:,1], y, marker='o', c = colors)"
   ]
  },
  {
   "cell_type": "code",
   "execution_count": null,
   "metadata": {
    "collapsed": false
   },
   "outputs": [],
   "source": [
    "plt.figure(figsize=(10,8))\n",
    "label = [0,1]\n",
    "colors = []\n",
    "for i in range(len(prediction)):\n",
    "    if y[i] == 0:\n",
    "        colors.append('red')\n",
    "    else:\n",
    "        colors.append('green')\n",
    "theta = theta_ml[:,0]  # Make theta a 1-d array.\n",
    "t = [-(theta[0])/theta[1] for i in range(len(x))]\n",
    "plt.figure(figsize=(10,8))\n",
    "u = [i for i in range(len(x))]\n",
    "plt.plot(t,u)\n",
    "plt.scatter(x[:,1], y, marker='o', c = colors)"
   ]
  },
  {
   "cell_type": "code",
   "execution_count": null,
   "metadata": {
    "collapsed": false
   },
   "outputs": [],
   "source": [
    "theta = theta_ml[:,0]  # Make theta a 1-d array.\n",
    "t = [-(theta[0])/theta[1] for i in range(len(x))]\n",
    "plt.figure(figsize=(10,8))\n",
    "u = [i for i in range(len(x))]\n",
    "plt.plot(t,u)\n",
    "plt.scatter(x[:,1], x[:,0],  marker='o', c = colors)"
   ]
  },
  {
   "cell_type": "code",
   "execution_count": null,
   "metadata": {
    "collapsed": false
   },
   "outputs": [],
   "source": [
    "prob = 1/(1+ np.exp(-(np.dot(x, theta_ml))))\n",
    "plt.plot(x[:,1],prob)\n",
    "# max(x[:,1]), min(x[:,1])\n",
    "# max(prob), min(prob)"
   ]
  },
  {
   "cell_type": "code",
   "execution_count": null,
   "metadata": {
    "collapsed": false,
    "scrolled": true
   },
   "outputs": [],
   "source": [
    "# prediction = predict(x_test, theta_ml)\n",
    "# plt.figure(figsize=(10,8))\n",
    "# colors = []\n",
    "# for i in range(len(prediction)):\n",
    "#     if prediction[i] == 0:\n",
    "#         colors.append('red')\n",
    "#     else:\n",
    "#         colors.append('green')\n",
    "    \n",
    "# t = [-(theta[1])/theta[0] for i in range(len(x))]\n",
    "# plt.figure(figsize=(10,8))\n",
    "# u = [i for i in range(len(x))]\n",
    "# plt.plot(t,u)\n",
    "# plt.scatter(x_test[:,1], prediction, marker='o', c = colors)"
   ]
  },
  {
   "cell_type": "code",
   "execution_count": null,
   "metadata": {
    "collapsed": true
   },
   "outputs": [],
   "source": [
    "## ADD CODE HERE\n",
    "# Fit and plot the logistic regression\n",
    "theta_ml = max_lik_estimate(x, y)\n",
    "prediction = predict(x, theta_ml)"
   ]
  },
  {
   "cell_type": "markdown",
   "metadata": {},
   "source": [
    "There you go! That should be a nice and easy fit. There are a few things we can start playing with at this point:\n",
    "\n",
    "* Evaluate the performance of your model: plot the decision boundary, likelihood and accuracy on held-out test sets, etc.\n",
    "* Write a gradient-based and a non-gradient-based optimizer. Do they arrive at the same result? Which one takes longer? Which one evaluates the likelihood function more times?\n",
    "\n",
    "(Warning: if the plot looks odd and you get several warnings, it may be that the data is linearly separable and the sigmoid is saturating, leading to `np.log(0)` numerical problems. Add more noise and retry.)"
   ]
  },
  {
   "cell_type": "markdown",
   "metadata": {},
   "source": [
    "## Bayesian logistic regression"
   ]
  },
  {
   "cell_type": "markdown",
   "metadata": {},
   "source": [
    "### MAP estimate"
   ]
  },
  {
   "cell_type": "markdown",
   "metadata": {},
   "source": [
    "Now let's move to Bayesian inference on the parameters $\\boldsymbol\\theta$. Let's put a prior on them. Because that's what we do. We put priors on things.\n",
    "\n",
    "More specifically, let's use a Gaussian prior parametrized by a mean $\\boldsymbol m$ and a variance $\\boldsymbol S$:\n",
    "\n",
    "$$\\boldsymbol\\theta \\sim  \\mathcal{N}(\\boldsymbol m, \\boldsymbol S)$$\n",
    "\n",
    "Given that $\\boldsymbol\\theta_{\\mathrm{ML}}$ had no analytical solution, it should really come as no surprise that $\\boldsymbol\\theta_{\\mathrm{MAP}}$ doesn't either. That should be no problem for a machine learning expert like you:\n",
    "\n",
    "**Task 4**\n",
    "\n",
    "1. Write down the equation for the full unnormalized posterior $p(\\boldsymbol\\theta | \\boldsymbol X, \\boldsymbol y) \\propto p(\\boldsymbol y | \\boldsymbol\\theta, \\boldsymbol X) p(\\boldsymbol\\theta)$.\n",
    "2. Write a separate function for it, as we did with the log-likelihood above.\n",
    "3. Optimize it to find $\\boldsymbol\\theta_{\\mathrm{MAP}}$ and use it to make predictions."
   ]
  },
  {
   "cell_type": "code",
   "execution_count": 8,
   "metadata": {
    "collapsed": false
   },
   "outputs": [],
   "source": [
    "## added by me\n",
    "def unnormalized_log_posterior(X, y, m, S):\n",
    "    # X: N x D matrix of training inputs\n",
    "    # y: N x 1 vector of training targets/observations\n",
    "    # m: D x 1 prior mean of parameters\n",
    "    # S: D x D prior covariance of parameters\n",
    "    # returns: log likelihood, scalar\n",
    "    \n",
    "    theta = np.random.randn(D,1)\n",
    "    L = log_likelihood(X, y, theta)\n",
    "#     print('L :',L)\n",
    "#     prior = np.random.multivariate_normal(m.squeeze(), S, (X.shape[1],1))\n",
    "    log_prior = (-0.5 * (theta- m).T  @ (np.linalg.solve(S,(theta - m))))[0]\n",
    "#     print('log_prior : ', log_prior)\n",
    "    unnormalized_log_posterior = log_prior + L\n",
    "#     print('unnormalized_log_posterior  : ', unnormalized_log_posterior)\n",
    "    \n",
    "    return unnormalized_log_posterior[0]"
   ]
  },
  {
   "cell_type": "code",
   "execution_count": 33,
   "metadata": {
    "collapsed": true
   },
   "outputs": [],
   "source": [
    "## EDIT THIS FUNCTION\n",
    "def map_estimate(X, y, m, S):\n",
    "    # X: N x D matrix of training inputs\n",
    "    # y: N x 1 vector of training targets/observations\n",
    "    # m: D x 1 prior mean of parameters\n",
    "    # S: D x D prior covariance of parameters\n",
    "    # returns: maximum a posteriori parameters (D x 1)\n",
    "    \n",
    "    N, D = X.shape\n",
    "    theta_map = np.zeros((D,1)) ## <-- EDIT THIS LINE\n",
    "    \n",
    "\n",
    "    theta = np.random.randn(D,1)\n",
    "    lr = 1e-2\n",
    "    eps = 1e-6\n",
    "    old_ll = 1\n",
    "    new_ll = 0\n",
    "    niter = 0\n",
    "    epochs = 80\n",
    "    mu = 1/(1+ np.exp(-(X @ theta)))\n",
    "#     print('gradient 1: ', ((mu-y).T @ X  - ( (theta - m).T @ np.linalg.inv(S) )).T.shape)\n",
    "    \n",
    "#     print('gradient 2 : ', (np.dot(X.T, (mu-y)) - ( (theta - m).T @ np.linalg.inv(S) )).shape)\n",
    "    \n",
    "    \n",
    "#     while (np.abs(new_ll - old_ll) > eps):\n",
    "    while (niter < epochs):\n",
    "        \n",
    "        print('old_ll : ', old_ll)\n",
    "        old_ll = -unnormalized_log_posterior(X, y, m, S)\n",
    "        \n",
    "        mu = 1/(1+ np.exp(-(np.dot(X, theta))))\n",
    "        gradient = ((mu-y).T @ X  - ( (theta - m).T @ np.linalg.inv(S) )).T #np.dot(X.T, (mu-y)) - ( (theta - m).T @ np.linalg.inv(S) )\n",
    "        theta -= lr * gradient\n",
    "        new_ll = -unnormalized_log_posterior(X, y, m, S)\n",
    "        print('epochs[{}], loss: {}'.format(niter, np.abs(new_ll - old_ll)))\n",
    "        niter += 1\n",
    "    theta_map =theta\n",
    "    return theta_map"
   ]
  },
  {
   "cell_type": "markdown",
   "metadata": {},
   "source": [
    "Now you can perform a similar model evaluation as you did before. How does your prior influence the MAP estimate and the model's performance?"
   ]
  },
  {
   "cell_type": "code",
   "execution_count": 34,
   "metadata": {
    "collapsed": false
   },
   "outputs": [
    {
     "data": {
      "text/plain": [
       "44.920066665599435"
      ]
     },
     "execution_count": 34,
     "metadata": {},
     "output_type": "execute_result"
    }
   ],
   "source": [
    "## ADD CODE HERE\n",
    "# Fit and plot the MAP logistic regression estimate\n",
    "\n",
    "m = np.zeros((D, 1))\n",
    "S = 5*np.eye(D)\n",
    "\n",
    "##### my code\n",
    "unn_log_posterior = unnormalized_log_posterior(x, y, m, S);unn_log_posterior"
   ]
  },
  {
   "cell_type": "code",
   "execution_count": 35,
   "metadata": {
    "collapsed": false
   },
   "outputs": [
    {
     "name": "stdout",
     "output_type": "stream",
     "text": [
      "old_ll :  1\n",
      "old_ll :  34.83352423273734\n",
      "old_ll :  19.824139728855542\n",
      "old_ll :  19.893063217921718\n",
      "old_ll :  20.6863621875768\n",
      "old_ll :  40.897952941454534\n",
      "old_ll :  -29.12961379299707\n",
      "old_ll :  -2.566692789909507\n",
      "old_ll :  -23.81964471678317\n",
      "old_ll :  39.57169219835909\n",
      "old_ll :  14.446098677820055\n",
      "old_ll :  5.002452399124096\n",
      "old_ll :  32.92616368563388\n",
      "old_ll :  -7.538178456926062\n",
      "old_ll :  62.359315106314995\n",
      "old_ll :  -54.54839864573262\n",
      "old_ll :  -32.97099493604792\n",
      "old_ll :  20.4386368343602\n",
      "old_ll :  -40.25817372921774\n",
      "old_ll :  17.526042349750224\n",
      "old_ll :  29.71747300752901\n",
      "old_ll :  16.36641044831047\n",
      "old_ll :  1.52295860079005\n",
      "old_ll :  -1.9047614720739003\n",
      "old_ll :  16.938886623153078\n",
      "old_ll :  24.12350688419146\n",
      "old_ll :  19.7443797843543\n",
      "old_ll :  40.41416174385895\n",
      "old_ll :  42.19187428713215\n",
      "old_ll :  19.790815690056085\n",
      "old_ll :  -15.69536311985069\n",
      "old_ll :  -24.13296002980568\n",
      "old_ll :  8.991961174851767\n",
      "old_ll :  38.10382990162808\n",
      "old_ll :  -6.363047355011296\n",
      "old_ll :  8.68581558677735\n",
      "old_ll :  -3.2517826168574597\n",
      "old_ll :  -38.51808024234521\n",
      "old_ll :  2.6531063613475276\n",
      "old_ll :  -13.203475590418913\n",
      "old_ll :  3.5185982687566097\n",
      "old_ll :  38.86990063381647\n",
      "old_ll :  40.46391019896844\n",
      "old_ll :  2.71275399054375\n",
      "old_ll :  -60.76641309013578\n",
      "old_ll :  -47.4288338100438\n",
      "old_ll :  19.55724774085209\n",
      "old_ll :  -51.175773508278866\n",
      "old_ll :  21.407906426574264\n",
      "old_ll :  -25.81264632658469\n",
      "old_ll :  -70.2278843579365\n",
      "old_ll :  9.364903784032395\n",
      "old_ll :  -3.2841464013008066\n",
      "old_ll :  -30.79549765606183\n",
      "old_ll :  14.516950867261693\n",
      "old_ll :  11.680698915476347\n",
      "old_ll :  -47.88338127569538\n",
      "old_ll :  -12.76295550237365\n",
      "old_ll :  2.0126436343976937\n",
      "old_ll :  23.418866096454106\n",
      "old_ll :  9.714170597257015\n",
      "old_ll :  39.00900355475985\n",
      "old_ll :  -5.451434224311635\n",
      "old_ll :  -9.029743917600038\n",
      "old_ll :  -21.622777916516597\n",
      "old_ll :  9.96753625031376\n",
      "old_ll :  -20.65640380415199\n",
      "old_ll :  -3.3154273218803008\n",
      "old_ll :  -16.96244193464456\n",
      "old_ll :  34.634127593315625\n",
      "old_ll :  -37.29351515632929\n",
      "old_ll :  -7.01997494543919\n",
      "old_ll :  16.21403382781639\n",
      "old_ll :  -17.39814071062676\n",
      "old_ll :  40.25736292100988\n",
      "old_ll :  30.38914700963482\n",
      "old_ll :  42.78291941667809\n",
      "old_ll :  -8.73238846646771\n",
      "old_ll :  13.362046287414268\n",
      "old_ll :  -3.993910167472853\n"
     ]
    }
   ],
   "source": [
    "theta_ml = map_estimate(x, y, m, S)"
   ]
  },
  {
   "cell_type": "code",
   "execution_count": 23,
   "metadata": {
    "collapsed": false
   },
   "outputs": [
    {
     "data": {
      "text/plain": [
       "array([[-1.25035665],\n",
       "       [ 2.33903048]])"
      ]
     },
     "execution_count": 23,
     "metadata": {},
     "output_type": "execute_result"
    }
   ],
   "source": [
    "theta_ml"
   ]
  },
  {
   "cell_type": "markdown",
   "metadata": {},
   "source": [
    "### The Laplace approximation"
   ]
  },
  {
   "cell_type": "markdown",
   "metadata": {},
   "source": [
    "As we have hinted above, in logistic regression the posterior distribution over $\\boldsymbol\\theta$ doesn't have an analytical solution. This is the first example in the course of _approximate Bayesian inference_: The exact posterior is analytically intractable so that we have to approximate it using one of various techniques. The one we'll use in this part of the tutorial is called the **Laplace approximation**.\n",
    "\n",
    "In brief, **the Laplace approximation is a Gaussian centered at the peak of the pdf of interest with the same curvature**. Let's make this a bit more rigorous below.\n",
    "\n",
    "Let's say we have a probability distribution $p(\\boldsymbol z)$ we want to approximate. The distribution $p(\\boldsymbol z)$ is of the form\n",
    "\n",
    "$$p(\\boldsymbol z) = \\frac{1}{Z} \\tilde{p}(\\boldsymbol z) ~ ,$$\n",
    "\n",
    "where $\\tilde{p}(\\boldsymbol z)$ is an unnormalized distribution that we can evaluate easily, but $Z$ is unknown. Formally, the Laplace approximation results from a second-order Taylor expansion of $\\log \\tilde{p}(\\boldsymbol z)$ around $\\boldsymbol  z_0$:\n",
    "\n",
    "$$\\log \\tilde{p}(\\boldsymbol z) \\approx \\log \\tilde{p}(\\boldsymbol z_0) + \\frac{d}{d\\boldsymbol z}\\log \\tilde{p}(\\boldsymbol z)\\Big|_{\\boldsymbol z=\\boldsymbol z_0}(\\boldsymbol z -\\boldsymbol  z_0) + \\frac{1}{2}(\\boldsymbol z-\\boldsymbol z_0)^\\top\\frac{d^2}{d\\boldsymbol z^2} \\log \\tilde{p}(\\boldsymbol z)\\Big|_{\\boldsymbol z=\\boldsymbol z_0}(\\boldsymbol z-\\boldsymbol z_0)$$\n",
    "\n",
    "Now let's evaluate this expression at the mode of $p(\\boldsymbol z)$ &ndash; which is the same as the mode of $\\tilde{p}(\\boldsymbol z)$. We define the mode $\\boldsymbol z^*$ such that\n",
    "\n",
    "$$\\frac{d}{d\\boldsymbol z} \\tilde{p}(\\boldsymbol z) \\Big|_{\\boldsymbol z = \\boldsymbol z^*} = \\boldsymbol 0 ~ .$$\n",
    "\n",
    "At this point, the $\\mathcal{O}(\\boldsymbol z)$ term of the expansion vanishes and we are left with\n",
    "\n",
    "$$\\log \\tilde{p}(\\boldsymbol z) \\approx \\log \\tilde{p}(\\boldsymbol z^*) - \\frac{1}{2}(\\boldsymbol z-\\boldsymbol z^*)^\\top\\boldsymbol A(\\boldsymbol z-\\boldsymbol z^*)$$\n",
    "\n",
    "Or, equivalently,\n",
    "\n",
    "$$\\tilde{p}(\\boldsymbol z) \\approx \\tilde{p}(\\boldsymbol z^*) \\exp\\big(-\\tfrac{1}{2}(\\boldsymbol z - \\boldsymbol z^*)^\\top\\boldsymbol A(\\boldsymbol z - \\boldsymbol z^*)\\big) ~ ,$$\n",
    "\n",
    "where\n",
    "\n",
    "$$\\boldsymbol A = - \\frac{d^2}{d\\boldsymbol z^2} \\log \\tilde{p}(\\boldsymbol z)\\Big|_{\\boldsymbol z=\\boldsymbol z^*} ~ .$$\n",
    "\n",
    "And now this distribution we know how to normalize, because it's one of those Gaussians we know and love. By inspection, we can identify the mean and the covariance, and write down the Laplace approximation of $p(\\boldsymbol z)$ as\n",
    "\n",
    "$$q(\\boldsymbol z) = \\mathcal{N}(\\boldsymbol z | \\boldsymbol z^*, \\boldsymbol A^{-1})$$"
   ]
  },
  {
   "cell_type": "markdown",
   "metadata": {},
   "source": [
    "As an example, let's use the unnormalized distribution $\\tilde{p}(z) = x e^{-x/2}$. When normalized properly, this is in fact the $\\chi^2$ distribution with $k=4$ degrees of freedom. Have a go yourself:\n",
    "\n",
    "1. Plot $p(z)$.\n",
    "2. Take the first derivative of $\\tilde{p}(z)$ (or the first derivative of its log), and find its maximum $z^*$ analytically.\n",
    "3. In the same plot, draw a vertical line at $z = z^*$ to verify you got the right answer.\n",
    "4. Take the second derivative of $\\log \\tilde{p}(z)$ and evaluate it at $z^*$.\n",
    "5. Plot the corresponding Gaussian $q(z)$ and verify the approximation looks reasonable.\n",
    "\n",
    "**Task 5**\n",
    "\n",
    "* Write a function that evaluates the Laplace approximation $q(z)$."
   ]
  },
  {
   "cell_type": "code",
   "execution_count": null,
   "metadata": {
    "collapsed": true
   },
   "outputs": [],
   "source": [
    "## EDIT THIS FUNCTION\n",
    "def laplace_q(z):\n",
    "    # z: double array of size (T,)\n",
    "    # returns: array with Laplace approximation q evaluated\n",
    "    #          at all points in z\n",
    "\n",
    "    q = 0*z\n",
    "    return q"
   ]
  },
  {
   "cell_type": "code",
   "execution_count": null,
   "metadata": {
    "collapsed": true
   },
   "outputs": [],
   "source": [
    "## ADD CODE HERE\n",
    "# Find the Laplace approximation of x*exp(-x/2) with pen and paper and then plot it.\n",
    "z = np.linspace(0,10)\n",
    "p = stats.chi2.pdf(z, 4)\n"
   ]
  },
  {
   "cell_type": "markdown",
   "metadata": {},
   "source": [
    "### Bayesian logistic regression (for real this time)"
   ]
  },
  {
   "cell_type": "markdown",
   "metadata": {},
   "source": [
    "Now we have obtained the mode (peak) of the posterior through the MAP estimate above, it's time to go all the way and calculate the posterior over $\\boldsymbol\\theta$. However, as we mentioned above the posterior doesn't have an analytical form, so we'll use &ndash; you guessed it &ndash; the Laplace transform.\n",
    "\n",
    "**Task 6**\n",
    "\n",
    "* Write a function, based on your previous code, that will calculate the Laplace approximation $q(\\boldsymbol\\theta)$ of the true posterior $p(\\boldsymbol\\theta | \\boldsymbol X, \\boldsymbol y)$ and return the mean and variance of $q$.\n",
    "\n",
    "To visualize the behavior and the diversity of $q$, draw a number $j = 1, ..., J$ of samples $\\boldsymbol\\theta_j \\sim q(\\boldsymbol\\theta)$. For each sample, plot its predicted class probabilities $\\sigma(x \\boldsymbol\\theta_j)$.\n",
    "\n",
    "_Hint_: the extension of the Laplace approximation to multivariate distributions is straightforward, and in this case the variance of the Gaussian is the Hessian of the negative log likelihood $\\boldsymbol A = - \\nabla_\\theta \\nabla_\\theta \\log p(\\boldsymbol\\theta | \\boldsymbol X, \\boldsymbol y)$."
   ]
  },
  {
   "cell_type": "code",
   "execution_count": null,
   "metadata": {
    "collapsed": true
   },
   "outputs": [],
   "source": [
    "## EDIT THIS FUNCTION\n",
    "def get_posterior(X, y, m, S):\n",
    "    # X: N x D matrix of training inputs\n",
    "    # y: N x 1 vector of training targets/observations\n",
    "    # m: D x 1 prior mean of parameters\n",
    "    # S: D x D prior covariance of parameters\n",
    "    # returns: maximum a posteriori parameters (D x 1)\n",
    "    #          covariance of Laplace approximation (D x D)\n",
    "\n",
    "    mu_post = np.zeros((D, 1)) ## <-- EDIT THESE LINES\n",
    "    S_post  = np.eye(D)\n",
    "    \n",
    "    return mu_post, S_post"
   ]
  },
  {
   "cell_type": "code",
   "execution_count": null,
   "metadata": {
    "collapsed": true
   },
   "outputs": [],
   "source": [
    "## ADD CODE HERE\n",
    "# Calculate the Laplace approximation of the posterior for theta, \n",
    "# draw a few samples and plot the corresponding likelihood functions \n",
    "# for each one.\n",
    "m = np.zeros((D, 1))\n",
    "S = 5*np.eye(D)\n",
    "nb_samples = 5\n",
    "\n",
    "theta_map, S_post = get_posterior(x, y, m, S)\n",
    "plt.scatter(x[:,1], y)\n",
    "for i in range(nb_samples):\n",
    "    plt.plot(0, 0) ## <--EDIT THIS LINE\n",
    "plt.show()"
   ]
  },
  {
   "cell_type": "markdown",
   "metadata": {
    "collapsed": true
   },
   "source": [
    "## Comparing posterior approximations"
   ]
  },
  {
   "cell_type": "markdown",
   "metadata": {},
   "source": [
    "The Laplace approximation is part of a family of methods known as _deterministic approximate inference_. In addition, there's another set of methods known as _stochastic approximate inference_ which, as you can guess includes most of the sampling techniques you have studied.\n",
    "\n",
    "You must be an expert in sampling by now. Let's actually go and check whether this Laplace approximation we just made is legit.\n",
    "\n",
    "* What sampling methods do you know to sample from an unnormalized distribution?\n",
    "\n",
    "For example, let's try the Metropolis algorithm.\n",
    "\n",
    "1. Write a proposal function to move in $\\boldsymbol\\theta$-space.\n",
    "2. Write a function to accept or reject new proposals based on the Metropolis criterion.\n",
    "3. Write a loop and run the Markov chain for a few thousand iterations.\n",
    "4. Check that the sampling worked: did the Markov chain mix properly? What's the acceptance rate? How does it depend on the proposal function?\n",
    "\n",
    "**Task 7**\n",
    "\n",
    "* Write a function to sample from the true posterior $p(\\boldsymbol\\theta | \\boldsymbol X, \\boldsymbol y)$."
   ]
  },
  {
   "cell_type": "code",
   "execution_count": null,
   "metadata": {
    "collapsed": true
   },
   "outputs": [],
   "source": [
    "## EDIT THIS FUNCTION\n",
    "def posterior_sample(X, y, m, S, nb_iter):\n",
    "    # X: N x D matrix of training inputs\n",
    "    # y: N x 1 vector of training targets/observations\n",
    "    # m: D x 1 prior mean of parameters\n",
    "    # S: D x D prior covariance of parameters\n",
    "    # returns: nb_iter x D matrix of posterior samples\n",
    "    \n",
    "    D = X.shape[1]\n",
    "    samples = np.zeros((nb_iter, D))\n",
    "    \n",
    "    return samples"
   ]
  },
  {
   "cell_type": "markdown",
   "metadata": {},
   "source": [
    "Finally, let's plot the results and see if both inference methods arrive at roughly the same posterior.\n",
    "\n",
    "In the same axis, plot\n",
    "\n",
    "* The histogram pdf of the MCMC samples (you may want to look at the `density` option in `plt.hist`); and\n",
    "* The Laplace posterior.\n",
    "\n",
    "Make one plot for the intercept ($\\theta_0$) and one for the slope ($\\theta_1$). What do they look like? Do they match? What kinds of posteriors do you think the Laplace approximation will be good or bad at approximating?"
   ]
  },
  {
   "cell_type": "code",
   "execution_count": null,
   "metadata": {
    "collapsed": true
   },
   "outputs": [],
   "source": [
    "## ADD CODE HERE\n",
    "# Plot a histogram of the MCMC posterior samples and the\n",
    "# analytical expression for the Laplace posterior. If\n",
    "# everything went well, the peaks should coincide and\n",
    "# their widths should be comparable.\n",
    "\n",
    "nb_iter = 10000\n",
    "samples = posterior_sample(x, y, m, S, nb_iter)\n"
   ]
  },
  {
   "cell_type": "markdown",
   "metadata": {},
   "source": [
    "Et violà! Now you're an expert in logistic regression. (Wait, I think that's a big violin. I meant to say: et voilà!)\n",
    "\n",
    "Now we can visualize the posterior we can play around with the data and the inference parameters:\n",
    "\n",
    "* Play around with the data generation process. What happens as you increase/decrease $N$ and the jitter parameter?\n",
    "* What does the joint posterior look like? Make a visualization of the MCMC and Laplace approximations in the $(\\theta_0, \\theta_1)$ plane.\n",
    "* What happens if the model is misspecified? Take out the intercept term in the model (i.e., remove the column of ones in $\\boldsymbol X$), but set the `offset` in the data generation process to non-zero. What happens to the posterior and its Laplace approximation?\n"
   ]
  },
  {
   "cell_type": "code",
   "execution_count": null,
   "metadata": {
    "collapsed": false
   },
   "outputs": [],
   "source": [
    "np.random.randn(2,1)"
   ]
  },
  {
   "cell_type": "code",
   "execution_count": null,
   "metadata": {
    "collapsed": true
   },
   "outputs": [],
   "source": []
  }
 ],
 "metadata": {
  "kernelspec": {
   "display_name": "Python 3",
   "language": "python",
   "name": "python3"
  },
  "language_info": {
   "codemirror_mode": {
    "name": "ipython",
    "version": 3
   },
   "file_extension": ".py",
   "mimetype": "text/x-python",
   "name": "python",
   "nbconvert_exporter": "python",
   "pygments_lexer": "ipython3",
   "version": "3.5.3"
  }
 },
 "nbformat": 4,
 "nbformat_minor": 2
}
