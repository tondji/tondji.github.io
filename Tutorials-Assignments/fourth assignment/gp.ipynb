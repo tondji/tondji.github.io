{
 "cells": [
  {
   "cell_type": "code",
   "execution_count": 1,
   "metadata": {
    "collapsed": true
   },
   "outputs": [],
   "source": [
    "import numpy as np\n",
    "from scipy.optimize import minimize"
   ]
  },
  {
   "cell_type": "code",
   "execution_count": 2,
   "metadata": {
    "collapsed": true
   },
   "outputs": [],
   "source": [
    "# ##############################################################################\n",
    "# LoadData takes the file location for the yacht_hydrodynamics.data and returns\n",
    "# the data set partitioned into a training set and a test set.\n",
    "# the X matrix, deal with the month and day strings.\n",
    "# Do not change this function!\n",
    "# ##############################################################################\n",
    "def loadData(df):\n",
    "    data = np.loadtxt(df)\n",
    "    Xraw = data[:,:-1]\n",
    "    # The regression task is to predict the residuary resistance per unit weight of displacement\n",
    "    yraw = (data[:,-1])[:, None]\n",
    "    X = (Xraw-Xraw.mean(axis=0))/np.std(Xraw, axis=0)\n",
    "    y = (yraw-yraw.mean(axis=0))/np.std(yraw, axis=0)\n",
    "\n",
    "    ind = range(X.shape[0])\n",
    "    test_ind = ind[0::4] # take every fourth observation for the test set\n",
    "    train_ind = list(set(ind)-set(test_ind))\n",
    "    X_test = X[test_ind]\n",
    "    X_train = X[train_ind]\n",
    "    y_test = y[test_ind]\n",
    "    y_train = y[train_ind]\n",
    "\n",
    "    return X_train, y_train, X_test, y_test"
   ]
  },
  {
   "cell_type": "code",
   "execution_count": 3,
   "metadata": {
    "collapsed": true
   },
   "outputs": [],
   "source": [
    "# ##############################################################################\n",
    "# Returns a single sample from a multivariate Gaussian with mean and cov.\n",
    "# ##############################################################################\n",
    "def multivariateGaussianDraw(mean, cov):\n",
    "    \n",
    "    #n = mean.shape[0]\n",
    "    #sample = np.zeros((mean.shape[0], 1)) # This is only a placeholder\n",
    "    # Task 2:\n",
    "    # TODO: Implement a draw from a multivariate Gaussian here\n",
    "    \n",
    "#     K = np.linalg.cholesky(cov + 1e-15*np.eye(n))\n",
    "#     sample = np.dot(L, np.random.normal(size=(n,1)))\n",
    "    sample = np.random.multivariate_normal(mean, cov, 1)\n",
    "\n",
    "    # Return drawn sample\n",
    "    return sample"
   ]
  },
  {
   "cell_type": "code",
   "execution_count": 4,
   "metadata": {
    "collapsed": true
   },
   "outputs": [],
   "source": [
    "# ##############################################################################\n",
    "# RadialBasisFunction for the kernel function\n",
    "# k(x,x') = s2_f*exp(-norm(x,x')^2/(2l^2)). If s2_n is provided, then s2_n is\n",
    "# added to the elements along the main diagonal, and the kernel function is for\n",
    "# the distribution of y,y* not f, f*.\n",
    "# ##############################################################################\n",
    "class RadialBasisFunction():\n",
    "    def __init__(self, params):\n",
    "        self.ln_sigma_f = params[0]\n",
    "        self.ln_length_scale = params[1]\n",
    "        self.ln_sigma_n = params[2]\n",
    "\n",
    "        self.sigma2_f = np.exp(2*self.ln_sigma_f)\n",
    "        self.sigma2_n = np.exp(2*self.ln_sigma_n)\n",
    "        self.length_scale = np.exp(self.ln_length_scale)\n",
    "\n",
    "    def setParams(self, params):\n",
    "        self.ln_sigma_f = params[0]\n",
    "        self.ln_length_scale = params[1]\n",
    "        self.ln_sigma_n = params[2]\n",
    "\n",
    "        self.sigma2_f = np.exp(2*self.ln_sigma_f)\n",
    "        self.sigma2_n = np.exp(2*self.ln_sigma_n)\n",
    "        self.length_scale = np.exp(self.ln_length_scale)\n",
    "\n",
    "    def getParams(self):\n",
    "        return np.array([self.ln_sigma_f, self.ln_length_scale, self.ln_sigma_n])\n",
    "\n",
    "    def getParamsExp(self):\n",
    "        return np.array([self.sigma2_f, self.length_scale, self.sigma2_n])\n",
    "\n",
    "    # ##########################################################################\n",
    "    # covMatrix computes the covariance matrix for the provided matrix X using\n",
    "    # the RBF. If two matrices are provided, for a training set and a test set,\n",
    "    # then covMatrix computes the covariance matrix between all inputs in the\n",
    "    # training and test set.\n",
    "    # ##########################################################################\n",
    "    def covMatrix(self, X, Xa=None):\n",
    "        if Xa is not None:\n",
    "            X_aug = np.zeros((X.shape[0]+Xa.shape[0], X.shape[1]))\n",
    "            X_aug[:X.shape[0], :X.shape[1]] = X\n",
    "            X_aug[X.shape[0]:, :X.shape[1]] = Xa\n",
    "            X=X_aug\n",
    "\n",
    "        n = X.shape[0]\n",
    "        covMat = np.zeros((n,n))\n",
    "\n",
    "        # Task 1:\n",
    "        # TODO: Implement the covariance matrix here\n",
    "        \n",
    "        \n",
    "        for i in range(n):\n",
    "            for j in range(n):\n",
    "                sqdist = np.exp(-0.5 * (1/(self.length_scale)**2)* (np.linalg.norm(X[i,:]-X[j,:]))**2)\n",
    "                covMat[i,j] = self.sigma2_f *  sqdist\n",
    "        \n",
    "        \n",
    "\n",
    "        # If additive Gaussian noise is provided, this adds the sigma2_n along\n",
    "        # the main diagonal. So the covariance matrix will be for [y y*]. If\n",
    "        # you want [y f*], simply subtract the noise from the lower right\n",
    "        # quadrant.\n",
    "        if self.sigma2_n is not None:\n",
    "            covMat += self.sigma2_n*np.identity(n)\n",
    "\n",
    "        # Return computed covariance matrix\n",
    "        return covMat"
   ]
  },
  {
   "cell_type": "code",
   "execution_count": 5,
   "metadata": {
    "collapsed": false
   },
   "outputs": [],
   "source": [
    "# ln_sigma_f = np.log(1.27)\n",
    "# ln_length_scale = np.log(1)\n",
    "# ln_sigma_n = np.log(0.3)\n",
    "# basis = RadialBasisFunction([ln_sigma_f,ln_length_scale,ln_sigma_n])\n",
    "# X = np.array([-1.50,-1.00,-0.7,-0.40, -0.25, 0.00]).reshape(-1,1)"
   ]
  },
  {
   "cell_type": "code",
   "execution_count": 6,
   "metadata": {
    "collapsed": false
   },
   "outputs": [],
   "source": [
    "#np.linalg.det(basis.covMatrix(X))"
   ]
  },
  {
   "cell_type": "code",
   "execution_count": 7,
   "metadata": {
    "collapsed": false
   },
   "outputs": [],
   "source": [
    "#X_train, y_train, X_test, y_test = loadData('yacht_hydrodynamics.data')"
   ]
  },
  {
   "cell_type": "code",
   "execution_count": 8,
   "metadata": {
    "collapsed": true
   },
   "outputs": [],
   "source": [
    "#basis = RadialBasisFunction([ 1.10442998 ,17.38230593 ,-10.10133779])"
   ]
  },
  {
   "cell_type": "code",
   "execution_count": 9,
   "metadata": {
    "collapsed": true
   },
   "outputs": [],
   "source": [
    "#np.linalg.det(basis.covMatrix(X_train))"
   ]
  },
  {
   "cell_type": "code",
   "execution_count": 10,
   "metadata": {
    "collapsed": false
   },
   "outputs": [],
   "source": [
    "class GaussianProcessRegression():\n",
    "    def __init__(self, X, y, k):\n",
    "        self.X = X\n",
    "        self.n = X.shape[0]\n",
    "        self.y = y\n",
    "        self.k = k\n",
    "        self.K = self.KMat(self.X)\n",
    "        self.L = np.linalg.cholesky(self.K)\n",
    "\n",
    "    # ##########################################################################\n",
    "    # Recomputes the covariance matrix and the inverse covariance\n",
    "    # matrix when new hyperparameters are provided.\n",
    "    # ##########################################################################\n",
    "    def KMat(self, X, params=None):\n",
    "        if params is not None:\n",
    "            self.k.setParams(params)\n",
    "        K = self.k.covMatrix(X)\n",
    "        self.K = K\n",
    "        self.L = np.linalg.cholesky(self.K)\n",
    "        return K\n",
    "\n",
    "    # ##########################################################################\n",
    "    # Computes the posterior mean of the Gaussian process regression and the\n",
    "    # covariance for a set of test points.\n",
    "    # NOTE: This should return predictions using the 'clean' (not noisy) covariance\n",
    "    # ##########################################################################\n",
    "    def predict(self, Xa):\n",
    "        mean_fa = np.zeros((Xa.shape[0], 1))\n",
    "        mean_fa = np.array(mean_fa.flatten())\n",
    "        cov_fa = np.zeros((Xa.shape[0], Xa.shape[0]))\n",
    "        # Task 3:\n",
    "        # TODO: compute the mean and covariance of the prediction\n",
    "        \n",
    "        \n",
    "        #beginning of my solution: ------->\n",
    "        na = Xa.shape[0]\n",
    "        Ktotal = self.k.covMatrix(self.X, Xa)\n",
    "        # Covariance between training sample points (without Gaussian noise)\n",
    "        Kxx = Ktotal[0:self.n,0:self.n] # + 1 * np.eye(10) if there is  Gaussian noise\n",
    "        \n",
    "        # Covariance between training and test points\n",
    "        Kxs = Ktotal[self.n:self.n+na, 0:self.n]\n",
    "        \n",
    "        # Covariance between test points\n",
    "        Kss = Ktotal[self.n:self.n+na,self.n:self.n+na]\n",
    "        \n",
    "        # The mean of the GP fit (note that @ is matrix multiplcation: A @ B is equivalent to np.matmul(A,B))\n",
    "        mean = Kxs @ np.linalg.inv(Kxx) @ self.y\n",
    "        \n",
    "        for i in range(mean.shape[0]):\n",
    "            mean_fa[i] = (mean[i])[0]\n",
    "        # The covariance matrix of the GP fit\n",
    "        cov_fa = Kss - Kxs @ np.linalg.inv(Kxx) @ Kxs.T\n",
    "        \n",
    "\n",
    "        # Return the mean and covariance\n",
    "        return mean_fa, cov_fa\n",
    "\n",
    "    # ##########################################################################\n",
    "    # Return negative log marginal likelihood of training set. Needs to be\n",
    "    # negative since the optimiser only minimises.\n",
    "    # ##########################################################################\n",
    "    def logMarginalLikelihood(self, params=None):\n",
    "        if params is not None:\n",
    "            self.KMat(self.X, params)\n",
    "\n",
    "        mll = 0\n",
    "        # Task 4:\n",
    "        # TODO: Calculate the log marginal likelihood ( mll ) of self.y\n",
    "        \n",
    "        mll = 0.5* (self.y).T @ np.linalg.solve((self.L).T, np.linalg.solve(self.L, self.y)) + np.log(np.sum((self.L).diagonal())) + 0.5 * self.n * np.log(2 * np.pi)\n",
    "\n",
    "        # Return mll\n",
    "        return mll\n",
    "\n",
    "    # ##########################################################################\n",
    "    # Computes the gradients of the negative log marginal likelihood wrt each\n",
    "    # hyperparameter.\n",
    "    # ##########################################################################\n",
    "    def gradLogMarginalLikelihood(self, params=None):\n",
    "        if params is not None:\n",
    "            K = self.KMat(self.X, params)\n",
    "\n",
    "        grad_ln_sigma_f = grad_ln_length_scale = grad_ln_sigma_n = 0\n",
    "        # Task 5:\n",
    "        # TODO: calculate the gradients of the negative log marginal likelihood\n",
    "        # wrt. the hyperparameters\n",
    "        \n",
    "        beta_ln_length_scale = np.zeros((self.n, self.n))\n",
    "        beta_ln_sigma_f = np.zeros((self.n, self.n))\n",
    "        beta_ln_sigma_n = np.zeros((self.n, self.n))\n",
    "        \n",
    "        param = self.k.getParamsExp()\n",
    "        \n",
    "        \n",
    "        alpha = np.linalg.solve(self.K, self.y)\n",
    "        #inv = np.linalg.solve((self.L).T, np.linalg.solve(self.L, np.eye(self.n,self.n)))\n",
    "        inv = np.linalg.inv(self.K)\n",
    "        #L = self.L\n",
    "        for i in range(self.n):\n",
    "            for j in range(self.n):\n",
    "                beta_ln_length_scale[i,j] = (1/(param[1]**2)) * ((np.linalg.norm(self.X[i]-self.X[j]))**2) * param[0] * np.exp(-0.5*(np.linalg.norm(self.X[i]-self.X[j])**2)/(param[1]**2)) \n",
    "                beta_ln_sigma_n[i,j] =  2 * param[2] if (i==j) else 0\n",
    "                beta_ln_sigma_f[i,j] = 2 * param[0] * (np.exp(-0.5*(np.linalg.norm(self.X[i]-self.X[j])**2)/(param[1]**2)))\n",
    "        \n",
    "        #beta_ln_sigma_n =beta_ln_sigma_n @ \n",
    "        grad_ln_sigma_f = -0.5 * np.trace((alpha @ alpha.T - inv) @ beta_ln_sigma_f)\n",
    "        grad_ln_length_scale = -0.5 * np.trace((alpha @ alpha.T - inv) @ beta_ln_length_scale)\n",
    "        grad_ln_sigma_n = -0.5 * np.trace((alpha @ alpha.T - inv) @ beta_ln_sigma_n)\n",
    "        \n",
    "\n",
    "        # Combine gradients\n",
    "        gradients = np.array([grad_ln_sigma_f, grad_ln_length_scale, grad_ln_sigma_n])\n",
    "\n",
    "        # Return the gradients\n",
    "        return gradients\n",
    "\n",
    "    # ##########################################################################\n",
    "    # Computes the mean squared error between two input vectors.\n",
    "    # ##########################################################################\n",
    "    def mse(self, ya, fbar):\n",
    "        mse = 0\n",
    "        # Task 7:\n",
    "        # TODO: Implement the MSE between ya and fbar\n",
    "        \n",
    "        mse = np.sum((ya[i,:] - fbar[i,:])**2)/(ya.shape[0])\n",
    "\n",
    "        # Return mse\n",
    "        return mse\n",
    "\n",
    "    # ##########################################################################\n",
    "    # Computes the mean standardised log loss.\n",
    "    # ##########################################################################\n",
    "    def msll(self, ya, fbar, cov):\n",
    "        msll = 0\n",
    "        # Task 7:\n",
    "        # TODO: Implement MSLL of the prediction fbar, cov given the target ya\n",
    "\n",
    "        return msll\n",
    "\n",
    "    # ##########################################################################\n",
    "    # Minimises the negative log marginal likelihood on the training set to find\n",
    "    # the optimal hyperparameters using BFGS.\n",
    "    # ##########################################################################\n",
    "    def optimize(self, params, disp=True):\n",
    "        \n",
    "        #params = np.array([0.5*np.log(1.0), np.log(1.0), 0.5*np.log(0.5)])\n",
    "        res = minimize(self.logMarginalLikelihood, params, method ='BFGS', jac = self.gradLogMarginalLikelihood, options = {'disp':disp})\n",
    "        return res.x\n",
    "\n",
    "if __name__ == '__main__':\n",
    "\n",
    "    np.random.seed(42)\n",
    "\n",
    "    ##########################\n",
    "    # You can put your tests here - marking\n",
    "    # will be based on importing this code and calling\n",
    "    # specific functions with custom input.\n",
    "    ##########################"
   ]
  },
  {
   "cell_type": "code",
   "execution_count": 11,
   "metadata": {
    "collapsed": false
   },
   "outputs": [],
   "source": [
    "X_train, y_train, X_test, y_test = loadData('yacht_hydrodynamics.data')\n",
    "params = [0.5*np.log(1.0), np.log(0.1), 0.5*np.log(0.5)]\n",
    "basis = RadialBasisFunction(params)"
   ]
  },
  {
   "cell_type": "code",
   "execution_count": 12,
   "metadata": {
    "collapsed": false
   },
   "outputs": [
    {
     "data": {
      "text/plain": [
       "1.0"
      ]
     },
     "execution_count": 12,
     "metadata": {},
     "output_type": "execute_result"
    }
   ],
   "source": [
    "basis.sigma2_f"
   ]
  },
  {
   "cell_type": "code",
   "execution_count": 13,
   "metadata": {
    "collapsed": false
   },
   "outputs": [],
   "source": [
    "GPR = GaussianProcessRegression(X_train, y_train,basis)"
   ]
  },
  {
   "cell_type": "code",
   "execution_count": 14,
   "metadata": {
    "collapsed": false,
    "scrolled": true
   },
   "outputs": [
    {
     "data": {
      "text/plain": [
       "array([[1.50000000e+000, 4.61008875e-002, 4.51686537e-006, ...,\n",
       "        4.26469604e-314, 0.00000000e+000, 0.00000000e+000],\n",
       "       [4.61008875e-002, 1.50000000e+000, 4.61008875e-002, ...,\n",
       "        1.04571091e-288, 4.26469604e-314, 0.00000000e+000],\n",
       "       [4.51686537e-006, 4.61008875e-002, 1.50000000e+000, ...,\n",
       "        5.44946378e-266, 1.04571091e-288, 4.26469604e-314],\n",
       "       ...,\n",
       "       [4.26469604e-314, 1.04571091e-288, 5.44946378e-266, ...,\n",
       "        1.50000000e+000, 4.61008875e-002, 4.51686537e-006],\n",
       "       [0.00000000e+000, 4.26469604e-314, 1.04571091e-288, ...,\n",
       "        4.61008875e-002, 1.50000000e+000, 4.61008875e-002],\n",
       "       [0.00000000e+000, 0.00000000e+000, 4.26469604e-314, ...,\n",
       "        4.51686537e-006, 4.61008875e-002, 1.50000000e+000]])"
      ]
     },
     "execution_count": 14,
     "metadata": {},
     "output_type": "execute_result"
    }
   ],
   "source": [
    "basis.covMatrix(X_train)"
   ]
  },
  {
   "cell_type": "code",
   "execution_count": 15,
   "metadata": {
    "collapsed": false
   },
   "outputs": [
    {
     "data": {
      "text/plain": [
       "(308, 308)"
      ]
     },
     "execution_count": 15,
     "metadata": {},
     "output_type": "execute_result"
    }
   ],
   "source": [
    "(basis.covMatrix(X_train, X_test)).shape"
   ]
  },
  {
   "cell_type": "code",
   "execution_count": 16,
   "metadata": {
    "collapsed": false
   },
   "outputs": [
    {
     "data": {
      "text/plain": [
       "(231, 231)"
      ]
     },
     "execution_count": 16,
     "metadata": {},
     "output_type": "execute_result"
    }
   ],
   "source": [
    "(GPR.KMat(X_train)).shape"
   ]
  },
  {
   "cell_type": "code",
   "execution_count": 17,
   "metadata": {
    "collapsed": false
   },
   "outputs": [],
   "source": [
    "mean, cov = GPR.predict(X_test)"
   ]
  },
  {
   "cell_type": "code",
   "execution_count": 18,
   "metadata": {
    "collapsed": false
   },
   "outputs": [
    {
     "data": {
      "text/plain": [
       "(77,)"
      ]
     },
     "execution_count": 18,
     "metadata": {},
     "output_type": "execute_result"
    }
   ],
   "source": [
    "mean.shape"
   ]
  },
  {
   "cell_type": "code",
   "execution_count": 19,
   "metadata": {
    "collapsed": false
   },
   "outputs": [
    {
     "data": {
      "text/plain": [
       "(77, 77)"
      ]
     },
     "execution_count": 19,
     "metadata": {},
     "output_type": "execute_result"
    }
   ],
   "source": [
    "cov.shape"
   ]
  },
  {
   "cell_type": "code",
   "execution_count": 20,
   "metadata": {
    "collapsed": false
   },
   "outputs": [
    {
     "data": {
      "text/plain": [
       "array([[302.99403655]])"
      ]
     },
     "execution_count": 20,
     "metadata": {},
     "output_type": "execute_result"
    }
   ],
   "source": [
    "GPR.logMarginalLikelihood()"
   ]
  },
  {
   "cell_type": "code",
   "execution_count": 21,
   "metadata": {
    "collapsed": false
   },
   "outputs": [
    {
     "data": {
      "text/plain": [
       "array([ 39.27007743, -11.97860468,  21.58116714])"
      ]
     },
     "execution_count": 21,
     "metadata": {},
     "output_type": "execute_result"
    }
   ],
   "source": [
    "GPR.gradLogMarginalLikelihood()"
   ]
  },
  {
   "cell_type": "code",
   "execution_count": 49,
   "metadata": {
    "collapsed": false
   },
   "outputs": [],
   "source": [
    "sample = multivariateGaussianDraw(mean, cov)"
   ]
  },
  {
   "cell_type": "code",
   "execution_count": 34,
   "metadata": {
    "collapsed": false
   },
   "outputs": [],
   "source": [
    "mean = [0, 0]\n",
    "cov = [[1, 0], [0, 100]]  "
   ]
  },
  {
   "cell_type": "code",
   "execution_count": 37,
   "metadata": {
    "collapsed": false
   },
   "outputs": [
    {
     "data": {
      "image/png": "[encoded data removed]",
      "text/plain": [
       "<matplotlib.figure.Figure at 0x7f0855662278>"
      ]
     },
     "metadata": {},
     "output_type": "display_data"
    }
   ],
   "source": [
    "import matplotlib.pyplot as plt\n",
    "x, y = np.random.multivariate_normal(mean, cov, 5000).T\n",
    "plt.plot(x, y, 'x')\n",
    "plt.axis('equal')\n",
    "plt.show()"
   ]
  },
  {
   "cell_type": "code",
   "execution_count": 23,
   "metadata": {
    "collapsed": true
   },
   "outputs": [],
   "source": [
    "sigma2_f = np.exp(2*0.5*np.log(1.0))\n",
    "length_scale= np.exp(np.log(0.1))\n",
    "sigma2_n = np.exp(2*0.5*np.log(0.5))"
   ]
  },
  {
   "cell_type": "code",
   "execution_count": 24,
   "metadata": {
    "collapsed": true
   },
   "outputs": [],
   "source": [
    "def covariance(X,length_scale,sigma2_n,sigma2_f):\n",
    "    n = X.shape[0]\n",
    "    covMat = np.zeros((n,n))\n",
    "    for i in range(n):\n",
    "            for j in range(n):\n",
    "                sqdist = np.exp(-0.5 * (1/(length_scale)**2)* (np.linalg.norm(X[i,:]-X[j,:]))**2)\n",
    "                covMat[i,j] = sigma2_f *  sqdist\n",
    "                \n",
    "    \n",
    "    covMat += sigma2_n*np.identity(n)\n",
    "    \n",
    "    return covMat"
   ]
  },
  {
   "cell_type": "code",
   "execution_count": 25,
   "metadata": {
    "collapsed": true
   },
   "outputs": [],
   "source": [
    "def mll(X,y,length_scale,sigma2_n,sigma2_f):\n",
    "    n = X.shape[0]\n",
    "    K = covariance(X,length_scale,sigma2_n,sigma2_f)\n",
    "    L = np.linalg.cholesky(K)\n",
    "    mll = 0.5* y.T @ np.linalg.solve(L.T, np.linalg.solve(L, y)) + np.log(np.sum(L.diagonal())) + 0.5 * n * np.log(2 * np.pi)\n",
    "    \n",
    "    return mll"
   ]
  },
  {
   "cell_type": "code",
   "execution_count": 26,
   "metadata": {
    "collapsed": true
   },
   "outputs": [],
   "source": [
    "# def gradient_checker():\n",
    "#     pass"
   ]
  },
  {
   "cell_type": "code",
   "execution_count": 28,
   "metadata": {
    "collapsed": false
   },
   "outputs": [
    {
     "data": {
      "text/plain": [
       "(231, 231)"
      ]
     },
     "execution_count": 28,
     "metadata": {},
     "output_type": "execute_result"
    }
   ],
   "source": [
    "covariance(X_train,length_scale,sigma2_n,sigma2_f).shape"
   ]
  },
  {
   "cell_type": "code",
   "execution_count": 48,
   "metadata": {
    "collapsed": false
   },
   "outputs": [],
   "source": [
    "h = 1e-6\n",
    "Gsigmaf_h = mll(X_train,y_train,length_scale,sigma2_n,sigma2_f + h)\n",
    "Gsigmaf = mll(X_train,y_train,length_scale,sigma2_n,sigma2_f)"
   ]
  },
  {
   "cell_type": "code",
   "execution_count": 49,
   "metadata": {
    "collapsed": false
   },
   "outputs": [
    {
     "data": {
      "text/plain": [
       "array([[-56.98667826]])"
      ]
     },
     "execution_count": 49,
     "metadata": {},
     "output_type": "execute_result"
    }
   ],
   "source": [
    "(Gsigmaf_h - Gsigmaf)/h"
   ]
  },
  {
   "cell_type": "code",
   "execution_count": 50,
   "metadata": {
    "collapsed": false
   },
   "outputs": [
    {
     "data": {
      "text/plain": [
       "array([[302.99403655]])"
      ]
     },
     "execution_count": 50,
     "metadata": {},
     "output_type": "execute_result"
    }
   ],
   "source": [
    "mll(X_train,y_train,length_scale,sigma2_n,sigma2_f)"
   ]
  },
  {
   "cell_type": "code",
   "execution_count": 51,
   "metadata": {
    "collapsed": false
   },
   "outputs": [],
   "source": [
    "Gsigman_h = mll(X_train,y_train,length_scale,sigma2_n+h,sigma2_f)\n",
    "Gsigman = mll(X_train,y_train,length_scale,sigma2_n,sigma2_f)"
   ]
  },
  {
   "cell_type": "code",
   "execution_count": 52,
   "metadata": {
    "collapsed": false
   },
   "outputs": [
    {
     "data": {
      "text/plain": [
       "array([[-55.17528587]])"
      ]
     },
     "execution_count": 52,
     "metadata": {},
     "output_type": "execute_result"
    }
   ],
   "source": [
    "(Gsigman_h - Gsigman)/h"
   ]
  },
  {
   "cell_type": "code",
   "execution_count": 53,
   "metadata": {
    "collapsed": true
   },
   "outputs": [],
   "source": [
    "Gl_h = mll(X_train,y_train,length_scale + h,sigma2_n,sigma2_f)\n",
    "Gl = mll(X_train,y_train,length_scale,sigma2_n,sigma2_f)"
   ]
  },
  {
   "cell_type": "code",
   "execution_count": 55,
   "metadata": {
    "collapsed": false
   },
   "outputs": [
    {
     "data": {
      "text/plain": [
       "array([[-111.49623032]])"
      ]
     },
     "execution_count": 55,
     "metadata": {},
     "output_type": "execute_result"
    }
   ],
   "source": [
    "(Gl_h - Gl)/h"
   ]
  },
  {
   "cell_type": "code",
   "execution_count": 43,
   "metadata": {
    "collapsed": true
   },
   "outputs": [],
   "source": [
    "from scipy.optimize import check_grad"
   ]
  },
  {
   "cell_type": "code",
   "execution_count": 44,
   "metadata": {
    "collapsed": false
   },
   "outputs": [
    {
     "ename": "TypeError",
     "evalue": "'numpy.ndarray' object is not callable",
     "output_type": "error",
     "traceback": [
      "\u001b[0;31m---------------------------------------------------------------------------\u001b[0m",
      "\u001b[0;31mTypeError\u001b[0m                                 Traceback (most recent call last)",
      "\u001b[0;32m<ipython-input-44-a20b7b98d8fa>\u001b[0m in \u001b[0;36m<module>\u001b[0;34m()\u001b[0m\n\u001b[0;32m----> 1\u001b[0;31m \u001b[0mcheck_grad\u001b[0m\u001b[0;34m(\u001b[0m\u001b[0mGPR\u001b[0m\u001b[0;34m.\u001b[0m\u001b[0mlogMarginalLikelihood\u001b[0m\u001b[0;34m(\u001b[0m\u001b[0;34m)\u001b[0m\u001b[0;34m,\u001b[0m \u001b[0mGPR\u001b[0m\u001b[0;34m.\u001b[0m\u001b[0mgradLogMarginalLikelihood\u001b[0m\u001b[0;34m(\u001b[0m\u001b[0;34m)\u001b[0m\u001b[0;34m,\u001b[0m \u001b[0mparams\u001b[0m\u001b[0;34m)\u001b[0m\u001b[0;34m\u001b[0m\u001b[0m\n\u001b[0m",
      "\u001b[0;32m/home/lionel/.local/lib/python3.5/site-packages/scipy/optimize/optimize.py\u001b[0m in \u001b[0;36mcheck_grad\u001b[0;34m(func, grad, x0, *args, **kwargs)\u001b[0m\n\u001b[1;32m    769\u001b[0m         raise ValueError(\"Unknown keyword arguments: %r\" %\n\u001b[1;32m    770\u001b[0m                          (list(kwargs.keys()),))\n\u001b[0;32m--> 771\u001b[0;31m     return sqrt(sum((grad(x0, *args) -\n\u001b[0m\u001b[1;32m    772\u001b[0m                      approx_fprime(x0, func, step, *args))**2))\n\u001b[1;32m    773\u001b[0m \u001b[0;34m\u001b[0m\u001b[0m\n",
      "\u001b[0;31mTypeError\u001b[0m: 'numpy.ndarray' object is not callable"
     ]
    }
   ],
   "source": [
    "check_grad(GPR.logMarginalLikelihood(), GPR.gradLogMarginalLikelihood(), params)"
   ]
  },
  {
   "cell_type": "code",
   "execution_count": null,
   "metadata": {
    "collapsed": true
   },
   "outputs": [],
   "source": []
  }
 ],
 "metadata": {
  "kernelspec": {
   "display_name": "Python 3",
   "language": "python",
   "name": "python3"
  },
  "language_info": {
   "codemirror_mode": {
    "name": "ipython",
    "version": 3
   },
   "file_extension": ".py",
   "mimetype": "text/x-python",
   "name": "python",
   "nbconvert_exporter": "python",
   "pygments_lexer": "ipython3",
   "version": "3.5.3"
  }
 },
 "nbformat": 4,
 "nbformat_minor": 2
}
