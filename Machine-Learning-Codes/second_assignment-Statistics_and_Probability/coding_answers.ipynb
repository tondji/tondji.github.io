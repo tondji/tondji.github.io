{
 "cells": [
  {
   "cell_type": "code",
   "execution_count": 1,
   "metadata": {
    "collapsed": true
   },
   "outputs": [],
   "source": [
    "import numpy as np"
   ]
  },
  {
   "cell_type": "code",
   "execution_count": 2,
   "metadata": {
    "collapsed": true
   },
   "outputs": [],
   "source": [
    "def factorial(n):\n",
    "    b = 1\n",
    "    while n != 0:\n",
    "        b *= n\n",
    "        n =n-1\n",
    "    return(b)"
   ]
  },
  {
   "cell_type": "code",
   "execution_count": 3,
   "metadata": {
    "collapsed": true
   },
   "outputs": [],
   "source": [
    "## python function that returns the posterior over the number of white balls in the bag for Davina's model\n",
    "def predD(nTotal, nWhite):\n",
    "    \n",
    "    #Theta\n",
    "    N = 10\n",
    "    Theta = np.array([i for i in range(N+1)])\n",
    "    \n",
    "    # Define the posterior\n",
    "    \n",
    "    prior = np.ones(N+1)/(N+1)\n",
    "    #print('The sum over the prior is', sum(prior))\n",
    "    \n",
    "    #The parameter p for the binomial distribution\n",
    "    T = Theta/N\n",
    "    \n",
    "    #Likelihood\n",
    "    Likelihood = (factorial(nTotal)/(factorial(nWhite)*factorial(nTotal-nWhite)))*(T**(nWhite))*((1-T)**(nTotal-nWhite))\n",
    "    \n",
    "    #Evidence\n",
    "    Evidence = sum(prior*Likelihood)\n",
    "    \n",
    "    #Posterior\n",
    "    Posterior = (prior*Likelihood)/Evidence\n",
    "    #print('The sum over the posterior is', sum(Posterior))\n",
    "    \n",
    "    return (Posterior, Evidence)"
   ]
  },
  {
   "cell_type": "code",
   "execution_count": 4,
   "metadata": {
    "collapsed": false
   },
   "outputs": [],
   "source": [
    "nTotal, nWhite = 20,13"
   ]
  },
  {
   "cell_type": "code",
   "execution_count": 5,
   "metadata": {
    "collapsed": false
   },
   "outputs": [],
   "source": [
    "## python function that returns the posterior over the number of white balls in the bag for Bethany's model\n",
    "def predB(nTotal, nWhite):\n",
    "    \n",
    "    #Theta\n",
    "    N = 10\n",
    "    Theta = np.array([i for i in range(N+1)])\n",
    "    \n",
    "    # Define the posterior\n",
    "    \n",
    "    prior = np.array([1/4,0,0,0,0,1/2,0,0,0,0,1/4])\n",
    "    #print('The sum over the prior is', sum(prior))\n",
    "    \n",
    "    #The parameter p for the binomial distribution\n",
    "    T = Theta/N\n",
    "    \n",
    "    #Likelihood\n",
    "    Likelihood = (factorial(nTotal)/(factorial(nWhite)*factorial(nTotal-nWhite)))*(T**(nWhite))*((1-T)**(nTotal-nWhite))\n",
    "    \n",
    "    #Evidence\n",
    "    Evidence = sum(prior*Likelihood)\n",
    "    \n",
    "    #Posterior\n",
    "    Posterior = (prior*Likelihood)/Evidence\n",
    "    #print('The sum over the posterior is', sum(Posterior))\n",
    "    \n",
    "    return (Posterior, Evidence)"
   ]
  },
  {
   "cell_type": "code",
   "execution_count": 6,
   "metadata": {
    "collapsed": true
   },
   "outputs": [],
   "source": [
    "## python function that returns the posterior over the number of white balls in the bag for Charlotte's model\n",
    "def predC(nTotal, nWhite):\n",
    "    \n",
    "    #Theta\n",
    "    N = 10\n",
    "    Theta = np.array([i for i in range(N+1)])\n",
    "    \n",
    "    # Define the posterior\n",
    "    \n",
    "    prior = np.array([1/6,0,1/6,0,1/6,0,1/6,0,1/6,0,1/6])\n",
    "    #print('The sum over the prior is', sum(prior))\n",
    "    \n",
    "    #The parameter p for the binomial distribution\n",
    "    T = Theta/N\n",
    "    \n",
    "    #Likelihood\n",
    "    Likelihood = (factorial(nTotal)/(factorial(nWhite)*factorial(nTotal-nWhite)))*(T**(nWhite))*((1-T)**(nTotal-nWhite))\n",
    "    \n",
    "    #Evidence\n",
    "    Evidence = sum(prior*Likelihood)\n",
    "    \n",
    "    #Posterior\n",
    "    Posterior = (prior*Likelihood)/Evidence\n",
    "    #print('The sum over the posterior is', sum(Posterior))\n",
    "    \n",
    "    return (Posterior, Evidence)"
   ]
  },
  {
   "cell_type": "code",
   "execution_count": 7,
   "metadata": {
    "collapsed": true
   },
   "outputs": [],
   "source": [
    "import matplotlib.pyplot as plt"
   ]
  },
  {
   "cell_type": "code",
   "execution_count": 19,
   "metadata": {
    "collapsed": false
   },
   "outputs": [
    {
     "data": {
      "image/png": "[encoded data removed]",
      "text/plain": [
       "<matplotlib.figure.Figure at 0x7f3ec7c54e10>"
      ]
     },
     "metadata": {},
     "output_type": "display_data"
    }
   ],
   "source": [
    "n1= 200 #nTotal\n",
    "x=np.arange(0,n1+1,1)\n",
    "\n",
    "############################\n",
    "evidavB = np.array([predB(n1, i)[1] for i in range(n1+1)])\n",
    "evidavC = np.array([predC(n1, i)[1] for i in range(n1+1)])\n",
    "evidavD = np.array([predD(n1, i)[1] for i in range(n1+1)])\n",
    "\n",
    "\n",
    "\n",
    "plt.scatter(x, evidavB,label='Bethany''s Model', marker='.', color='blue')\n",
    "plt.scatter(x, evidavC,label='Charlotte''s Model', marker='.', color='red')\n",
    "plt.scatter(x, evidavD,label='Bethany''s Model', marker='.', color='green')\n",
    "plt.legend(loc = 'best')\n",
    "plt.show()"
   ]
  },
  {
   "cell_type": "code",
   "execution_count": 9,
   "metadata": {
    "collapsed": false
   },
   "outputs": [
    {
     "data": {
      "text/plain": [
       "array([  0.00000000e+00,   7.78633801e-09,   2.79676219e-05,\n",
       "         2.13746139e-03,   3.05825945e-02,   1.55251489e-01,\n",
       "         3.48354866e-01,   3.44952256e-01,   1.14555379e-01,\n",
       "         4.13797926e-03,   0.00000000e+00])"
      ]
     },
     "execution_count": 9,
     "metadata": {},
     "output_type": "execute_result"
    }
   ],
   "source": [
    "predD(nTotal, nWhite)[0]"
   ]
  },
  {
   "cell_type": "code",
   "execution_count": 10,
   "metadata": {
    "collapsed": false
   },
   "outputs": [
    {
     "data": {
      "text/plain": [
       "array([  0.00000000e+00,   0.00000000e+00,   5.66695902e-05,\n",
       "         0.00000000e+00,   6.19681968e-02,   0.00000000e+00,\n",
       "         7.05856492e-01,   0.00000000e+00,   2.32118641e-01,\n",
       "         0.00000000e+00,   0.00000000e+00])"
      ]
     },
     "execution_count": 10,
     "metadata": {},
     "output_type": "execute_result"
    }
   ],
   "source": [
    "predC(nTotal, nWhite)[0]"
   ]
  },
  {
   "cell_type": "code",
   "execution_count": 14,
   "metadata": {
    "collapsed": false
   },
   "outputs": [],
   "source": [
    "N = 10\n",
    "Theta = np.array([i for i in range(N+1)])/N\n",
    "prediction = predC(nTotal, nWhite)[0]* Theta"
   ]
  },
  {
   "cell_type": "code",
   "execution_count": 15,
   "metadata": {
    "collapsed": false
   },
   "outputs": [
    {
     "data": {
      "text/plain": [
       "array([  0.00000000e+00,   0.00000000e+00,   1.13339180e-05,\n",
       "         0.00000000e+00,   2.47872787e-02,   0.00000000e+00,\n",
       "         4.23513895e-01,   0.00000000e+00,   1.85694913e-01,\n",
       "         0.00000000e+00,   0.00000000e+00])"
      ]
     },
     "execution_count": 15,
     "metadata": {},
     "output_type": "execute_result"
    }
   ],
   "source": [
    "prediction"
   ]
  },
  {
   "cell_type": "code",
   "execution_count": 16,
   "metadata": {
    "collapsed": false
   },
   "outputs": [
    {
     "data": {
      "text/plain": [
       "0.63400742105992502"
      ]
     },
     "execution_count": 16,
     "metadata": {},
     "output_type": "execute_result"
    }
   ],
   "source": [
    "sum(prediction)"
   ]
  },
  {
   "cell_type": "code",
   "execution_count": null,
   "metadata": {
    "collapsed": false
   },
   "outputs": [],
   "source": [
    "predB(nWhite, nTotal)[0]"
   ]
  },
  {
   "cell_type": "code",
   "execution_count": null,
   "metadata": {
    "collapsed": false
   },
   "outputs": [],
   "source": [
    "b = 1\n",
    "for i in range(7):\n",
    "    b = b * (i+1)"
   ]
  },
  {
   "cell_type": "code",
   "execution_count": null,
   "metadata": {
    "collapsed": false
   },
   "outputs": [],
   "source": [
    "b"
   ]
  },
  {
   "cell_type": "code",
   "execution_count": null,
   "metadata": {
    "collapsed": false
   },
   "outputs": [],
   "source": [
    "factorial(7)"
   ]
  },
  {
   "cell_type": "code",
   "execution_count": null,
   "metadata": {
    "collapsed": false
   },
   "outputs": [],
   "source": [
    "fact_nWhite = 1\n",
    "for i in range(3):\n",
    "    fact_nWhite = fact_nWhite * (i+1)"
   ]
  },
  {
   "cell_type": "code",
   "execution_count": null,
   "metadata": {
    "collapsed": false
   },
   "outputs": [],
   "source": [
    "fact_nWhite"
   ]
  },
  {
   "cell_type": "code",
   "execution_count": null,
   "metadata": {
    "collapsed": true
   },
   "outputs": [],
   "source": []
  }
 ],
 "metadata": {
  "kernelspec": {
   "display_name": "Python 3",
   "language": "python",
   "name": "python3"
  },
  "language_info": {
   "codemirror_mode": {
    "name": "ipython",
    "version": 3
   },
   "file_extension": ".py",
   "mimetype": "text/x-python",
   "name": "python",
   "nbconvert_exporter": "python",
   "pygments_lexer": "ipython3",
   "version": "3.5.3"
  }
 },
 "nbformat": 4,
 "nbformat_minor": 2
}
