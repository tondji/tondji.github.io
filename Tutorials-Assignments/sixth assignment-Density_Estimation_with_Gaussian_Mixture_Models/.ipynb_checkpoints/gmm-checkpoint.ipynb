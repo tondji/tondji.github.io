{
 "cells": [
  {
   "cell_type": "code",
   "execution_count": 1,
   "metadata": {
    "collapsed": true
   },
   "outputs": [],
   "source": [
    "import numpy as np\n",
    "from scipy.stats import multivariate_normal as mvn"
   ]
  },
  {
   "cell_type": "code",
   "execution_count": 2,
   "metadata": {
    "collapsed": false
   },
   "outputs": [],
   "source": [
    "class GaussianMixtureModel():\n",
    "    \"\"\"Density estimation with Gaussian Mixture Models (GMM).\n",
    "\n",
    "    You can add new functions if you find it useful, but **do not** change\n",
    "    the names or argument lists of the functions provided.\n",
    "    \"\"\"\n",
    "    def __init__(self, X, K):\n",
    "        \"\"\"Initialise GMM class.\n",
    "\n",
    "        Arguments:\n",
    "          X -- data, N x D array\n",
    "          K -- number of mixture components, int\n",
    "        \"\"\"\n",
    "        self.X = X\n",
    "        self.n = X.shape[0]\n",
    "        self.D = X.shape[1]\n",
    "        self.K = K\n",
    "\n",
    "\n",
    "    def E_step(self, mu, S, pi):\n",
    "        \"\"\"Compute the E step of the EM algorithm.\n",
    "\n",
    "        Arguments:\n",
    "          mu -- component means, K x D array\n",
    "          S -- component covariances, K x D x D array\n",
    "          pi -- component weights, K x 1 array\n",
    "\n",
    "        Returns:\n",
    "          r_new -- updated component responsabilities, N x K array\n",
    "        \"\"\"\n",
    "        # Assert that all arguments have the right shape\n",
    "        assert(mu.shape == (self.K, self.D) and\\\n",
    "               S.shape  == (self.K, self.D, self.D) and\\\n",
    "               pi.shape == (self.K, 1))\n",
    "        r_new = np.zeros((self.n, self.K))\n",
    "\n",
    "        # Task 1: implement the E step and return updated responsabilities\n",
    "        # Write your code from here...\n",
    "\n",
    "        for i in range(self.n): \n",
    "            Nk = 0\n",
    "            for j in range(self.K):\n",
    "                Nk += pi[j] * mvn.pdf((self.X)[i], mu[j], S[j], allow_singular=True)\n",
    "            for k in range(self.K):\n",
    "                r_new[i, k] = pi[k] * mvn.pdf((self.X)[i], mu[k], S[k])/ Nk\n",
    "        \n",
    "        # ... to here.\n",
    "        assert(r_new.shape == (self.n, self.K))\n",
    "        return r_new\n",
    "\n",
    "\n",
    "    def M_step(self, mu, r):\n",
    "        \"\"\"Compute the M step of the EM algorithm.\n",
    "\n",
    "        Arguments:\n",
    "          mu -- previous component means, K x D array\n",
    "          r -- previous component responsabilities,  N x K array\n",
    "\n",
    "        Returns:\n",
    "          mu_new -- updated component means, K x D array\n",
    "          S_new -- updated component covariances, K x D x D array\n",
    "          pi_new -- updated component weights, K x 1 array\n",
    "        \"\"\"\n",
    "        assert(mu.shape == (self.K, self.D) and\\\n",
    "               r.shape  == (self.n, self.K))\n",
    "        mu_new = np.zeros((self.K, self.D))\n",
    "        S_new  = np.zeros((self.K, self.D, self.D))\n",
    "        pi_new = np.zeros((self.K, 1))\n",
    "\n",
    "        # Task 2: implement the M step and return updated mixture parameters\n",
    "        # Write your code from here...\n",
    "\n",
    "        #updating mu and pi\n",
    "        for k in range(self.K):\n",
    "            Nk = 0\n",
    "            for j in range(self.n):\n",
    "                Nk += r[j,k]\n",
    "            for i in range(self.n):\n",
    "                mu_new[k] += (r[i, k] * (self.X)[i])\n",
    "            mu_new[k] /= Nk\n",
    "            pi_new[k] = Nk/ (self.n)\n",
    "        \n",
    "        #updating S\n",
    "        for k in range(self.K):\n",
    "            Nk = 0\n",
    "            for i in range(self.n): \n",
    "                Nk += r[i,k]\n",
    "            for i in range(self.n):\n",
    "                ys = np.reshape((self.X)[i]- mu_new[k], (-1,1))\n",
    "                S_new[k] += (r[i, k] * (ys @ (ys.T)))\n",
    "            S_new[k] /= Nk\n",
    "        \n",
    "        # ... to here.\n",
    "        assert(mu_new.shape == (self.K, self.D) and\\\n",
    "               S_new.shape  == (self.K, self.D, self.D) and\\\n",
    "               pi_new.shape == (self.K, 1))\n",
    "        return mu_new, S_new, pi_new\n",
    "\n",
    "    \n",
    "    def log_likelihood(self, pi, mu, S):\n",
    "        '''Compute the loglikelihood'''\n",
    "        ll = 0\n",
    "        for i in range(self.n):\n",
    "                s = 0\n",
    "                for k in range(K):\n",
    "                    s += pi[k] * mvn.pdf((self.X)[i], mu[k], S[k], allow_singular=True)\n",
    "                ll += np.log(s)\n",
    "        return ll\n",
    "    \n",
    "    def train(self, initial_params):\n",
    "        \"\"\"Fit a Gaussian Mixture Model (GMM) to the data in matrix X.\n",
    "\n",
    "        Arguments:\n",
    "          initial_params -- dictionary with fields 'mu', 'S', 'pi' and 'K'\n",
    "\n",
    "        Returns:kernel \n",
    "          mu -- component means, K x D array\n",
    "          S -- component covariances, K x D x D array\n",
    "          pi -- component weights, K x 1 array\n",
    "          r -- component responsabilities, N x K array\n",
    "        \"\"\"\n",
    "        # Assert that initial_params has all the necessary fields\n",
    "        assert(all([k in initial_params for k in ['mu', 'S', 'pi']]))\n",
    "\n",
    "        mu = np.zeros((self.K, self.D))\n",
    "        S  = np.zeros((self.K, self.D, self.D))\n",
    "        pi = np.zeros((self.K, 1))\n",
    "        r  = np.zeros((self.n, self.K))\n",
    "\n",
    "        # Task 3: implement the EM loop to train the GMM\n",
    "        # Write your code from here...\n",
    "        \n",
    "        # updating log likelihoood\n",
    "        eps = 1e-6  \n",
    "        K = initial_params['K']\n",
    "        mu = initial_params['mu']\n",
    "        S = initial_params['S']\n",
    "        pi = initial_params['pi']\n",
    "        \n",
    "        ll = 1\n",
    "        previous_ll = 0\n",
    "        \n",
    "        while(np.abs(ll-previous_ll) > eps):       \n",
    "            previous_ll = self.log_likelihood(pi, mu, S)\n",
    "            \n",
    "            r = self.E_step(mu, S, pi)\n",
    "            mu, S, pi =  self.M_step(mu, r)\n",
    "            ll = self.log_likelihood(pi, mu, S)\n",
    "            print('diff', np.abs(ll-previous_ll))\n",
    "\n",
    "        # ... to here.\n",
    "        assert(mu.shape == (self.K, self.D) and\\\n",
    "               S.shape  == (self.K, self.D, self.D) and\\\n",
    "               pi.shape == (self.K, 1) and\\\n",
    "               r.shape  == (self.n, self.K))\n",
    "        return mu, S, pi, r\n",
    "\n",
    "\n",
    "if __name__ == '__main__':\n",
    "    np.random.seed(43)\n",
    "\n",
    "    ##########################\n",
    "    # You can put your tests here - marking\n",
    "    # will be based on importing this code and calling\n",
    "    # specific functions with custom input.\n",
    "    # Do not write code outside the class definition or\n",
    "    # this if-block.\n",
    "    ##########################"
   ]
  },
  {
   "cell_type": "code",
   "execution_count": 3,
   "metadata": {
    "collapsed": false
   },
   "outputs": [],
   "source": [
    "np.random.seed(123)\n",
    "\n",
    "# create data set\n",
    "n = 1000\n",
    "_mu = np.array([[0,4], [-2,0]])\n",
    "_S = np.array([[[3, 0], [0, 0.5]], [[1,0],[0,2]]])\n",
    "_pi = np.array([0.6, 0.4]).reshape(-1,1)\n",
    "X = np.concatenate([np.random.multivariate_normal(mu, S, int(pi*n))\n",
    "                    for pi, mu, S in zip(_pi, _mu, _S)])\n",
    "\n",
    "# initial values for parameters\n",
    "pi = (np.random.random(2)).reshape(-1,1)\n",
    "pi /= pi.sum()\n",
    "mu = np.random.random((2,2)) \n",
    "S = np.array([np.eye(2)] * 2)\n",
    "\n",
    "initial_params = {'mu':mu, 'S':S, 'pi': pi,'K': 2}"
   ]
  },
  {
   "cell_type": "code",
   "execution_count": 4,
   "metadata": {
    "collapsed": false
   },
   "outputs": [
    {
     "data": {
      "text/plain": [
       "(1000, 2)"
      ]
     },
     "execution_count": 4,
     "metadata": {},
     "output_type": "execute_result"
    }
   ],
   "source": [
    "X.shape"
   ]
  },
  {
   "cell_type": "code",
   "execution_count": 5,
   "metadata": {
    "collapsed": true
   },
   "outputs": [],
   "source": [
    "K = 2\n",
    "GMM = GaussianMixtureModel(X, K)"
   ]
  },
  {
   "cell_type": "code",
   "execution_count": 6,
   "metadata": {
    "collapsed": false
   },
   "outputs": [
    {
     "data": {
      "text/plain": [
       "(1000, 2)"
      ]
     },
     "execution_count": 6,
     "metadata": {},
     "output_type": "execute_result"
    }
   ],
   "source": [
    "n = X.shape[0]\n",
    "D = X.shape[1]\n",
    "n,D"
   ]
  },
  {
   "cell_type": "code",
   "execution_count": 7,
   "metadata": {
    "collapsed": false
   },
   "outputs": [
    {
     "data": {
      "text/plain": [
       "(2, 2)"
      ]
     },
     "execution_count": 7,
     "metadata": {},
     "output_type": "execute_result"
    }
   ],
   "source": [
    "mu.shape #K*D"
   ]
  },
  {
   "cell_type": "code",
   "execution_count": 8,
   "metadata": {
    "collapsed": false
   },
   "outputs": [
    {
     "data": {
      "text/plain": [
       "(2, 2, 2)"
      ]
     },
     "execution_count": 8,
     "metadata": {},
     "output_type": "execute_result"
    }
   ],
   "source": [
    "S.shape #K*D*D"
   ]
  },
  {
   "cell_type": "code",
   "execution_count": 9,
   "metadata": {
    "collapsed": false
   },
   "outputs": [
    {
     "data": {
      "text/plain": [
       "(2, 1)"
      ]
     },
     "execution_count": 9,
     "metadata": {},
     "output_type": "execute_result"
    }
   ],
   "source": [
    "pi.shape #K"
   ]
  },
  {
   "cell_type": "code",
   "execution_count": 10,
   "metadata": {
    "collapsed": false
   },
   "outputs": [
    {
     "data": {
      "text/plain": [
       "(1000, 2)"
      ]
     },
     "execution_count": 10,
     "metadata": {},
     "output_type": "execute_result"
    }
   ],
   "source": [
    "r = GMM.E_step(mu, S, pi);r.shape"
   ]
  },
  {
   "cell_type": "code",
   "execution_count": 11,
   "metadata": {
    "collapsed": false
   },
   "outputs": [
    {
     "name": "stdout",
     "output_type": "stream",
     "text": [
      "(2, 2) (2, 2, 2) (2, 1)\n"
     ]
    }
   ],
   "source": [
    "mu_new, S_new, pi_new = GMM.M_step(mu, r)\n",
    "print(mu_new.shape, S_new.shape, pi_new.shape)"
   ]
  },
  {
   "cell_type": "code",
   "execution_count": 12,
   "metadata": {
    "collapsed": false,
    "scrolled": true
   },
   "outputs": [
    {
     "name": "stdout",
     "output_type": "stream",
     "text": [
      "diff [4326.13082325]\n",
      "diff [74.2080464]\n",
      "diff [83.85693976]\n",
      "diff [79.05562874]\n",
      "diff [32.73050648]\n",
      "diff [4.51355391]\n",
      "diff [0.48024209]\n",
      "diff [0.12911106]\n",
      "diff [0.05632841]\n",
      "diff [0.02579708]\n",
      "diff [0.01172219]\n",
      "diff [0.00527788]\n",
      "diff [0.00236077]\n",
      "diff [0.00105127]\n",
      "diff [0.00046675]\n",
      "diff [0.00020682]\n",
      "diff [9.15211231e-05]\n",
      "diff [4.04642151e-05]\n",
      "diff [1.78799824e-05]\n",
      "diff [7.89758315e-06]\n",
      "diff [3.48746426e-06]\n",
      "diff [1.53974588e-06]\n",
      "diff [6.79734967e-07]\n"
     ]
    }
   ],
   "source": [
    "mu, S, pi, r = GMM.train(initial_params)"
   ]
  },
  {
   "cell_type": "code",
   "execution_count": 13,
   "metadata": {
    "collapsed": false
   },
   "outputs": [
    {
     "data": {
      "text/plain": [
       "array([[-0.02979884,  3.98051913],\n",
       "       [-1.94734492,  0.01671157]])"
      ]
     },
     "execution_count": 13,
     "metadata": {},
     "output_type": "execute_result"
    }
   ],
   "source": [
    "mu"
   ]
  },
  {
   "cell_type": "code",
   "execution_count": 14,
   "metadata": {
    "collapsed": false
   },
   "outputs": [
    {
     "data": {
      "text/plain": [
       "array([[[3.02725263, 0.01334969],\n",
       "        [0.01334969, 0.48308846]],\n",
       "\n",
       "       [[0.90081832, 0.04724491],\n",
       "        [0.04724491, 2.03467697]]])"
      ]
     },
     "execution_count": 14,
     "metadata": {},
     "output_type": "execute_result"
    }
   ],
   "source": [
    "S"
   ]
  },
  {
   "cell_type": "code",
   "execution_count": 15,
   "metadata": {
    "collapsed": false
   },
   "outputs": [
    {
     "data": {
      "text/plain": [
       "array([[0.59369597],\n",
       "       [0.40630403]])"
      ]
     },
     "execution_count": 15,
     "metadata": {},
     "output_type": "execute_result"
    }
   ],
   "source": [
    "pi"
   ]
  },
  {
   "cell_type": "code",
   "execution_count": 16,
   "metadata": {
    "collapsed": false
   },
   "outputs": [],
   "source": [
    "#import pandas as pd\n",
    "import numpy as np\n",
    "# df = pd.read_csv('geolocations.csv');df\n",
    "df = np.loadtxt('geolocations.csv', delimiter = ',')"
   ]
  },
  {
   "cell_type": "code",
   "execution_count": 17,
   "metadata": {
    "collapsed": true
   },
   "outputs": [],
   "source": [
    "import matplotlib.pyplot as plt"
   ]
  },
  {
   "cell_type": "code",
   "execution_count": 18,
   "metadata": {
    "collapsed": false
   },
   "outputs": [
    {
     "data": {
      "image/png": "[encoded data removed]",
      "text/plain": [
       "<matplotlib.figure.Figure at 0x7fcbd40d4978>"
      ]
     },
     "metadata": {},
     "output_type": "display_data"
    }
   ],
   "source": [
    "plt.scatter(df[:,0],df[:,1], marker = '.')\n",
    "plt.show()"
   ]
  },
  {
   "cell_type": "code",
   "execution_count": 42,
   "metadata": {
    "collapsed": false
   },
   "outputs": [],
   "source": [
    "# initial values for parameters\n",
    "K = 3\n",
    "pi = (np.random.random(K)).reshape(-1,1)\n",
    "pi /= pi.sum()\n",
    "# mu = np.random.random((2,2)) \n",
    "S = np.array([np.eye(K)] * 2)\n",
    "i, j, k = 0,0,0\n",
    "while i == j == k :\n",
    "    i, j, k = np.random.randint(30), np.random.randint(30) , np.random.randint(30)\n",
    "mu = np.array((df[i],df[j], df[k]))\n",
    "initial_params = {'mu':mu, 'S':S, 'pi': pi,'K': K}"
   ]
  },
  {
   "cell_type": "code",
   "execution_count": 43,
   "metadata": {
    "collapsed": false
   },
   "outputs": [
    {
     "data": {
      "text/plain": [
       "(6, 21, 15)"
      ]
     },
     "execution_count": 43,
     "metadata": {},
     "output_type": "execute_result"
    }
   ],
   "source": [
    "i,j,k"
   ]
  },
  {
   "cell_type": "code",
   "execution_count": 44,
   "metadata": {
    "collapsed": false
   },
   "outputs": [
    {
     "data": {
      "text/plain": [
       "1.0"
      ]
     },
     "execution_count": 44,
     "metadata": {},
     "output_type": "execute_result"
    }
   ],
   "source": [
    "pi.sum()"
   ]
  },
  {
   "cell_type": "code",
   "execution_count": 45,
   "metadata": {
    "collapsed": false
   },
   "outputs": [
    {
     "data": {
      "text/plain": [
       "array([[ 5.56508, -0.1601 ],\n",
       "       [ 7.8797 ,  2.7675 ],\n",
       "       [ 4.1058 ,  9.7529 ]])"
      ]
     },
     "execution_count": 45,
     "metadata": {},
     "output_type": "execute_result"
    }
   ],
   "source": [
    "mu"
   ]
  },
  {
   "cell_type": "code",
   "execution_count": 46,
   "metadata": {
    "collapsed": false
   },
   "outputs": [
    {
     "ename": "ValueError",
     "evalue": "Dimension mismatch: array 'cov' is of shape (3, 3), but 'mean' is a vector of length 2.",
     "output_type": "error",
     "traceback": [
      "\u001b[0;31m---------------------------------------------------------------------------\u001b[0m",
      "\u001b[0;31mValueError\u001b[0m                                Traceback (most recent call last)",
      "\u001b[0;32m<ipython-input-46-795572ee550b>\u001b[0m in \u001b[0;36m<module>\u001b[0;34m()\u001b[0m\n\u001b[0;32m----> 1\u001b[0;31m \u001b[0mmu_df\u001b[0m\u001b[0;34m,\u001b[0m \u001b[0mS_df\u001b[0m\u001b[0;34m,\u001b[0m \u001b[0mpi_df\u001b[0m\u001b[0;34m,\u001b[0m \u001b[0mr_df\u001b[0m \u001b[0;34m=\u001b[0m \u001b[0mGMM\u001b[0m\u001b[0;34m.\u001b[0m\u001b[0mtrain\u001b[0m\u001b[0;34m(\u001b[0m\u001b[0minitial_params\u001b[0m\u001b[0;34m)\u001b[0m\u001b[0;34m\u001b[0m\u001b[0m\n\u001b[0m",
      "\u001b[0;32m<ipython-input-2-81a465baa04e>\u001b[0m in \u001b[0;36mtrain\u001b[0;34m(self, initial_params)\u001b[0m\n\u001b[1;32m    137\u001b[0m \u001b[0;34m\u001b[0m\u001b[0m\n\u001b[1;32m    138\u001b[0m         \u001b[0;32mwhile\u001b[0m\u001b[0;34m(\u001b[0m\u001b[0mnp\u001b[0m\u001b[0;34m.\u001b[0m\u001b[0mabs\u001b[0m\u001b[0;34m(\u001b[0m\u001b[0mll\u001b[0m\u001b[0;34m-\u001b[0m\u001b[0mprevious_ll\u001b[0m\u001b[0;34m)\u001b[0m \u001b[0;34m>\u001b[0m \u001b[0meps\u001b[0m\u001b[0;34m)\u001b[0m\u001b[0;34m:\u001b[0m\u001b[0;34m\u001b[0m\u001b[0m\n\u001b[0;32m--> 139\u001b[0;31m             \u001b[0mprevious_ll\u001b[0m \u001b[0;34m=\u001b[0m \u001b[0mself\u001b[0m\u001b[0;34m.\u001b[0m\u001b[0mlog_likelihood\u001b[0m\u001b[0;34m(\u001b[0m\u001b[0mpi\u001b[0m\u001b[0;34m,\u001b[0m \u001b[0mmu\u001b[0m\u001b[0;34m,\u001b[0m \u001b[0mS\u001b[0m\u001b[0;34m)\u001b[0m\u001b[0;34m\u001b[0m\u001b[0m\n\u001b[0m\u001b[1;32m    140\u001b[0m \u001b[0;34m\u001b[0m\u001b[0m\n\u001b[1;32m    141\u001b[0m             \u001b[0mr\u001b[0m \u001b[0;34m=\u001b[0m \u001b[0mself\u001b[0m\u001b[0;34m.\u001b[0m\u001b[0mE_step\u001b[0m\u001b[0;34m(\u001b[0m\u001b[0mmu\u001b[0m\u001b[0;34m,\u001b[0m \u001b[0mS\u001b[0m\u001b[0;34m,\u001b[0m \u001b[0mpi\u001b[0m\u001b[0;34m)\u001b[0m\u001b[0;34m\u001b[0m\u001b[0m\n",
      "\u001b[0;32m<ipython-input-2-81a465baa04e>\u001b[0m in \u001b[0;36mlog_likelihood\u001b[0;34m(self, pi, mu, S)\u001b[0m\n\u001b[1;32m     99\u001b[0m                 \u001b[0ms\u001b[0m \u001b[0;34m=\u001b[0m \u001b[0;36m0\u001b[0m\u001b[0;34m\u001b[0m\u001b[0m\n\u001b[1;32m    100\u001b[0m                 \u001b[0;32mfor\u001b[0m \u001b[0mk\u001b[0m \u001b[0;32min\u001b[0m \u001b[0mrange\u001b[0m\u001b[0;34m(\u001b[0m\u001b[0mK\u001b[0m\u001b[0;34m)\u001b[0m\u001b[0;34m:\u001b[0m\u001b[0;34m\u001b[0m\u001b[0m\n\u001b[0;32m--> 101\u001b[0;31m                     \u001b[0ms\u001b[0m \u001b[0;34m+=\u001b[0m \u001b[0mpi\u001b[0m\u001b[0;34m[\u001b[0m\u001b[0mk\u001b[0m\u001b[0;34m]\u001b[0m \u001b[0;34m*\u001b[0m \u001b[0mmvn\u001b[0m\u001b[0;34m.\u001b[0m\u001b[0mpdf\u001b[0m\u001b[0;34m(\u001b[0m\u001b[0;34m(\u001b[0m\u001b[0mself\u001b[0m\u001b[0;34m.\u001b[0m\u001b[0mX\u001b[0m\u001b[0;34m)\u001b[0m\u001b[0;34m[\u001b[0m\u001b[0mi\u001b[0m\u001b[0;34m]\u001b[0m\u001b[0;34m,\u001b[0m \u001b[0mmu\u001b[0m\u001b[0;34m[\u001b[0m\u001b[0mk\u001b[0m\u001b[0;34m]\u001b[0m\u001b[0;34m,\u001b[0m \u001b[0mS\u001b[0m\u001b[0;34m[\u001b[0m\u001b[0mk\u001b[0m\u001b[0;34m]\u001b[0m\u001b[0;34m,\u001b[0m \u001b[0mallow_singular\u001b[0m\u001b[0;34m=\u001b[0m\u001b[0;32mTrue\u001b[0m\u001b[0;34m)\u001b[0m\u001b[0;34m\u001b[0m\u001b[0m\n\u001b[0m\u001b[1;32m    102\u001b[0m                 \u001b[0mll\u001b[0m \u001b[0;34m+=\u001b[0m \u001b[0mnp\u001b[0m\u001b[0;34m.\u001b[0m\u001b[0mlog\u001b[0m\u001b[0;34m(\u001b[0m\u001b[0ms\u001b[0m\u001b[0;34m)\u001b[0m\u001b[0;34m\u001b[0m\u001b[0m\n\u001b[1;32m    103\u001b[0m         \u001b[0;32mreturn\u001b[0m \u001b[0mll\u001b[0m\u001b[0;34m\u001b[0m\u001b[0m\n",
      "\u001b[0;32m/home/lionel/.local/lib/python3.5/site-packages/scipy/stats/_multivariate.py\u001b[0m in \u001b[0;36mpdf\u001b[0;34m(self, x, mean, cov, allow_singular)\u001b[0m\n\u001b[1;32m    509\u001b[0m \u001b[0;34m\u001b[0m\u001b[0m\n\u001b[1;32m    510\u001b[0m         \"\"\"\n\u001b[0;32m--> 511\u001b[0;31m         \u001b[0mdim\u001b[0m\u001b[0;34m,\u001b[0m \u001b[0mmean\u001b[0m\u001b[0;34m,\u001b[0m \u001b[0mcov\u001b[0m \u001b[0;34m=\u001b[0m \u001b[0mself\u001b[0m\u001b[0;34m.\u001b[0m\u001b[0m_process_parameters\u001b[0m\u001b[0;34m(\u001b[0m\u001b[0;32mNone\u001b[0m\u001b[0;34m,\u001b[0m \u001b[0mmean\u001b[0m\u001b[0;34m,\u001b[0m \u001b[0mcov\u001b[0m\u001b[0;34m)\u001b[0m\u001b[0;34m\u001b[0m\u001b[0m\n\u001b[0m\u001b[1;32m    512\u001b[0m         \u001b[0mx\u001b[0m \u001b[0;34m=\u001b[0m \u001b[0mself\u001b[0m\u001b[0;34m.\u001b[0m\u001b[0m_process_quantiles\u001b[0m\u001b[0;34m(\u001b[0m\u001b[0mx\u001b[0m\u001b[0;34m,\u001b[0m \u001b[0mdim\u001b[0m\u001b[0;34m)\u001b[0m\u001b[0;34m\u001b[0m\u001b[0m\n\u001b[1;32m    513\u001b[0m         \u001b[0mpsd\u001b[0m \u001b[0;34m=\u001b[0m \u001b[0m_PSD\u001b[0m\u001b[0;34m(\u001b[0m\u001b[0mcov\u001b[0m\u001b[0;34m,\u001b[0m \u001b[0mallow_singular\u001b[0m\u001b[0;34m=\u001b[0m\u001b[0mallow_singular\u001b[0m\u001b[0;34m)\u001b[0m\u001b[0;34m\u001b[0m\u001b[0m\n",
      "\u001b[0;32m/home/lionel/.local/lib/python3.5/site-packages/scipy/stats/_multivariate.py\u001b[0m in \u001b[0;36m_process_parameters\u001b[0;34m(self, dim, mean, cov)\u001b[0m\n\u001b[1;32m    411\u001b[0m                        \" but 'mean' is a vector of length %d.\")\n\u001b[1;32m    412\u001b[0m                 \u001b[0mmsg\u001b[0m \u001b[0;34m=\u001b[0m \u001b[0mmsg\u001b[0m \u001b[0;34m%\u001b[0m \u001b[0;34m(\u001b[0m\u001b[0mstr\u001b[0m\u001b[0;34m(\u001b[0m\u001b[0mcov\u001b[0m\u001b[0;34m.\u001b[0m\u001b[0mshape\u001b[0m\u001b[0;34m)\u001b[0m\u001b[0;34m,\u001b[0m \u001b[0mlen\u001b[0m\u001b[0;34m(\u001b[0m\u001b[0mmean\u001b[0m\u001b[0;34m)\u001b[0m\u001b[0;34m)\u001b[0m\u001b[0;34m\u001b[0m\u001b[0m\n\u001b[0;32m--> 413\u001b[0;31m             \u001b[0;32mraise\u001b[0m \u001b[0mValueError\u001b[0m\u001b[0;34m(\u001b[0m\u001b[0mmsg\u001b[0m\u001b[0;34m)\u001b[0m\u001b[0;34m\u001b[0m\u001b[0m\n\u001b[0m\u001b[1;32m    414\u001b[0m         \u001b[0;32melif\u001b[0m \u001b[0mcov\u001b[0m\u001b[0;34m.\u001b[0m\u001b[0mndim\u001b[0m \u001b[0;34m>\u001b[0m \u001b[0;36m2\u001b[0m\u001b[0;34m:\u001b[0m\u001b[0;34m\u001b[0m\u001b[0m\n\u001b[1;32m    415\u001b[0m             raise ValueError(\"Array 'cov' must be at most two-dimensional,\"\n",
      "\u001b[0;31mValueError\u001b[0m: Dimension mismatch: array 'cov' is of shape (3, 3), but 'mean' is a vector of length 2."
     ]
    }
   ],
   "source": [
    "mu_df, S_df, pi_df, r_df = GMM.train(initial_params)"
   ]
  },
  {
   "cell_type": "code",
   "execution_count": 24,
   "metadata": {
    "collapsed": false
   },
   "outputs": [
    {
     "data": {
      "text/plain": [
       "array([[-0.85113052, -5.07348243],\n",
       "       [-0.80890553,  2.37000815]])"
      ]
     },
     "execution_count": 24,
     "metadata": {},
     "output_type": "execute_result"
    }
   ],
   "source": [
    "mu_df"
   ]
  },
  {
   "cell_type": "code",
   "execution_count": 25,
   "metadata": {
    "collapsed": false
   },
   "outputs": [
    {
     "data": {
      "text/plain": [
       "array([[[0.        , 0.        ],\n",
       "        [0.        , 0.        ]],\n",
       "\n",
       "       [[3.05023955, 1.86059058],\n",
       "        [1.86059058, 4.90351509]]])"
      ]
     },
     "execution_count": 25,
     "metadata": {},
     "output_type": "execute_result"
    }
   ],
   "source": [
    "S_df"
   ]
  },
  {
   "cell_type": "code",
   "execution_count": 26,
   "metadata": {
    "collapsed": false
   },
   "outputs": [
    {
     "data": {
      "text/plain": [
       "array([[1.05932621e-67],\n",
       "       [1.00000000e+00]])"
      ]
     },
     "execution_count": 26,
     "metadata": {},
     "output_type": "execute_result"
    }
   ],
   "source": [
    "pi_df"
   ]
  },
  {
   "cell_type": "code",
   "execution_count": null,
   "metadata": {
    "collapsed": false
   },
   "outputs": [],
   "source": [
    "l.sum(axis=1)"
   ]
  },
  {
   "cell_type": "code",
   "execution_count": null,
   "metadata": {
    "collapsed": false
   },
   "outputs": [],
   "source": [
    "for k in range(l.shape[0]) : l[k] = 1"
   ]
  },
  {
   "cell_type": "code",
   "execution_count": null,
   "metadata": {
    "collapsed": false
   },
   "outputs": [],
   "source": [
    "l"
   ]
  },
  {
   "cell_type": "code",
   "execution_count": null,
   "metadata": {
    "collapsed": false
   },
   "outputs": [],
   "source": [
    "sum(l[i] for i in range(l.shape[0]))"
   ]
  },
  {
   "cell_type": "code",
   "execution_count": null,
   "metadata": {
    "collapsed": false
   },
   "outputs": [],
   "source": [
    "np.random.randint(4)"
   ]
  },
  {
   "cell_type": "code",
   "execution_count": null,
   "metadata": {
    "collapsed": false
   },
   "outputs": [],
   "source": [
    "np.random.randint(100)"
   ]
  },
  {
   "cell_type": "code",
   "execution_count": null,
   "metadata": {
    "collapsed": true
   },
   "outputs": [],
   "source": [
    "import numpy as np"
   ]
  },
  {
   "cell_type": "code",
   "execution_count": null,
   "metadata": {
    "collapsed": false
   },
   "outputs": [],
   "source": [
    "A = np.array(([1,2,3],[2,3,4],[3,4,1]))"
   ]
  },
  {
   "cell_type": "code",
   "execution_count": null,
   "metadata": {
    "collapsed": false
   },
   "outputs": [],
   "source": [
    "A"
   ]
  },
  {
   "cell_type": "code",
   "execution_count": null,
   "metadata": {
    "collapsed": false
   },
   "outputs": [],
   "source": [
    "c = A[2] -A[0];c"
   ]
  },
  {
   "cell_type": "code",
   "execution_count": null,
   "metadata": {
    "collapsed": false
   },
   "outputs": [],
   "source": [
    "c /= 2.0"
   ]
  },
  {
   "cell_type": "code",
   "execution_count": null,
   "metadata": {
    "collapsed": false
   },
   "outputs": [],
   "source": [
    "c"
   ]
  },
  {
   "cell_type": "code",
   "execution_count": null,
   "metadata": {
    "collapsed": true
   },
   "outputs": [],
   "source": [
    "u, s, vh = np.linalg.svd(A)"
   ]
  },
  {
   "cell_type": "code",
   "execution_count": null,
   "metadata": {
    "collapsed": false
   },
   "outputs": [],
   "source": [
    "u @ u.T"
   ]
  },
  {
   "cell_type": "code",
   "execution_count": null,
   "metadata": {
    "collapsed": false
   },
   "outputs": [],
   "source": [
    "s"
   ]
  },
  {
   "cell_type": "code",
   "execution_count": null,
   "metadata": {
    "collapsed": false
   },
   "outputs": [],
   "source": [
    "vh"
   ]
  },
  {
   "cell_type": "code",
   "execution_count": null,
   "metadata": {
    "collapsed": false
   },
   "outputs": [],
   "source": [
    "u @ vh"
   ]
  },
  {
   "cell_type": "code",
   "execution_count": null,
   "metadata": {
    "collapsed": false
   },
   "outputs": [],
   "source": [
    "np.linalg.norm(A**5)"
   ]
  },
  {
   "cell_type": "code",
   "execution_count": null,
   "metadata": {
    "collapsed": false
   },
   "outputs": [],
   "source": [
    "(np.linalg.norm(A))"
   ]
  },
  {
   "cell_type": "code",
   "execution_count": null,
   "metadata": {
    "collapsed": true
   },
   "outputs": [],
   "source": []
  }
 ],
 "metadata": {
  "kernelspec": {
   "display_name": "Python 3",
   "language": "python",
   "name": "python3"
  },
  "language_info": {
   "codemirror_mode": {
    "name": "ipython",
    "version": 3
   },
   "file_extension": ".py",
   "mimetype": "text/x-python",
   "name": "python",
   "nbconvert_exporter": "python",
   "pygments_lexer": "ipython3",
   "version": "3.5.3"
  }
 },
 "nbformat": 4,
 "nbformat_minor": 2
}
