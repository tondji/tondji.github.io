{
 "cells": [
  {
   "cell_type": "markdown",
   "metadata": {},
   "source": [
    "# TP5 Kernel Methods for Machine Learning"
   ]
  },
  {
   "cell_type": "code",
   "execution_count": 1,
   "metadata": {},
   "outputs": [],
   "source": [
    "# setup\n",
    "import numpy as np\n",
    "#import pandas as pd\n",
    "from sklearn import linear_model as lm\n",
    "from sklearn.kernel_approximation import Nystroem\n",
    "from sklearn.model_selection import cross_val_score as cvs\n",
    "from matplotlib import pyplot as plt\n",
    "%matplotlib inline"
   ]
  },
  {
   "cell_type": "code",
   "execution_count": 2,
   "metadata": {},
   "outputs": [
    {
     "name": "stdout",
     "output_type": "stream",
     "text": [
      "3.6.6 |Anaconda, Inc.| (default, Jun 28 2018, 11:07:29) \n",
      "[GCC 4.2.1 Compatible Clang 4.0.1 (tags/RELEASE_401/final)]\n"
     ]
    }
   ],
   "source": [
    "import sys\n",
    "print(sys.version)"
   ]
  },
  {
   "cell_type": "code",
   "execution_count": 3,
   "metadata": {},
   "outputs": [
    {
     "data": {
      "text/plain": [
       "'0.19.2'"
      ]
     },
     "execution_count": 3,
     "metadata": {},
     "output_type": "execute_result"
    }
   ],
   "source": [
    "import sklearn\n",
    "sklearn.__version__"
   ]
  },
  {
   "cell_type": "markdown",
   "metadata": {},
   "source": [
    "## Tasks"
   ]
  },
  {
   "cell_type": "markdown",
   "metadata": {},
   "source": [
    "### Non-linear SVMs and Kernel Trick\n",
    "\n",
    "1. Generate a toy dataset where positive and negative examples are mixture of two Gaussians which are not linearly separable. You may use the code from TP4 to simulate data, but $\\mu_1 = \\mu_{-1} = 0, \\sigma_1=1,\\sigma_{-1}=10$.\n",
    "2. Train a linear and a non-linear SVM (e.g. with a Gaussian RBF kernel) on this dataset, using the function `sklearn.svm.SVC`. Compare the training and testing errors of these two models. **Question: How are their performances so different?**\n",
    "3. Focus on the SVM with a RBF kernel $k(x_i,x_j) = \\exp\\{-\\frac{\\|x_i-x_j\\|^2}{2\\sigma^2}\\}$:\n",
    "    1. Assess the effect of $\\sigma$ on the produced similarity measure by inspecting the kernel matrix. **Question: What happens if $\\sigma$ is too big or too small? What is a \"good\" $\\sigma$ in terms of the produced similarity measure?**\n",
    "    2. Assess the effect of $\\sigma$ (as well as $C$) by plotting the training and test prediction errors. **Question: How could you choose $\\sigma$ (as well as $C$)?**\n",
    "    3. A practical approach of choosing $\\sigma$ is called the \"median heuristic\":\n",
    "    $$ \\sigma \\approx median\\{\\|x_i-x_j\\|:i,j=1,\\dots,n\\} \\,.$$\n",
    "    How good is this heuristic on your dataset?\n",
    "4. Precompute the kernel matrix $K = k(X,X)$ of a RBF kernel, and then use $K$ (instead of $X$) as input to `sklearn.svm.SVC`. Do you get the same result if you use $X$ directly as input? **Question: Can you think of a situation where you would prefer precomputed $K$ and not $X$ in your code, in order to speed up computation?**\n",
    "\n",
    "### Kernel Approximation\n",
    "\n",
    "__Definition (Nyström Approximation).__ The Nyström approximation of a kernel matrix\n",
    "$$\n",
    "K \\approx \\tilde{K} = K_{\\cdot Q} K_{QQ}^{-1} K_{Q\\cdot} \\,,\n",
    "$$\n",
    "where $Q \\subset [1,n]$ is a random subset of $q$ indices, and $K_{\\cdot Q}$ (or $K_{Q \\cdot}$) is the subset of columns (or rows) of $K$, $K_{QQ}$ is the corresponding submatrix in $K$.\n",
    "\n",
    "1. **Question: Is $\\tilde{K}$ a valid kernel matrix? Why?**\n",
    "2. **Question: Restricting to your dataset, can you build a set of vectors $\\tilde{\\phi}(x_i),i=1,\\dots,n$ such that $\\tilde{k}(x_i,x_j) = \\langle \\tilde{\\phi}(x_i), \\tilde{\\phi}(x_j) \\rangle$? How could you make predictions on new data points?**\n",
    "3. Generate a \"big\" dataset with $n=1000$. Train a (nonlinear) SVM using a RBF kernel with $\\gamma=0.01$, and another linear SVM with the Nyström features $\\tilde{\\phi}$. You may consider to use `sklearn.kernel_approximation.Nystroem` in your experiments.\n",
    "4. **Question: Can you give reason(s) why the low-rank $\\tilde{K}$ can be more computationally attractive than $K$ (e.g. when fitting a particular model on big data)?**\n",
    "5. Plot the training and test prediction error curves of an SVM using the exact kernel, and another SVM using the approximate kernel. Assess the effect of different values of $q$.\n",
    "6. **Question: Given data, can you think of another way to approximate $K$? What are the advantages/disadvantages of Nyström?**\n",
    "\n",
    "All answers can be found in the following __References:__\n",
    "\n",
    "- Williams and Seeger. _Using the Nyström method to speed up kernel machines._ NIPS 2001.\n",
    "- Drineas and Mahoney. _On the Nyström method for approximating a Gram matrix for improved kernel-based learning._ JMLR 2005."
   ]
  },
  {
   "cell_type": "markdown",
   "metadata": {},
   "source": [
    "## Solutions"
   ]
  },
  {
   "cell_type": "markdown",
   "metadata": {},
   "source": [
    "### Non-linear SVMs and Kernel Trick"
   ]
  },
  {
   "cell_type": "code",
   "execution_count": 4,
   "metadata": {},
   "outputs": [],
   "source": [
    "# Simulate data\n",
    "np.random.seed(54321)\n",
    "p = 2\n",
    "\n",
    "# Training data\n",
    "ntrain = 20\n",
    "ntrain_pos = int(ntrain/2)\n",
    "ntrain_neg = ntrain - ntrain_pos\n",
    "Xtrain = np.vstack([np.random.normal(0,1,(ntrain_pos,p)),\n",
    "                    np.random.normal(0,10,(ntrain_neg,p))])\n",
    "ytrain = np.concatenate([np.repeat(1,ntrain_pos),\n",
    "                         np.repeat(-1,ntrain_neg)])\n",
    "\n",
    "# Testing data\n",
    "ntest = 1000\n",
    "ntest_pos = int(ntest/2)\n",
    "ntest_neg = ntest - ntest_pos\n",
    "Xtest = np.vstack([np.random.normal(0,1,(ntest_pos,p)),\n",
    "                   np.random.normal(0,10,(ntest_neg,p))])\n",
    "ytest = np.concatenate([np.repeat(1,ntest_pos),\n",
    "                        np.repeat(-1,ntest_neg)])\n",
    "\n",
    "# Prediction error\n",
    "def error(ypred, ytrue):\n",
    "    e = (ypred != ytrue).mean()\n",
    "    return (e)\n",
    "\n",
    "# Visualization\n",
    "# References: https://scikit-learn.org/stable/auto_examples/svm/plot_iris.html\n",
    "def make_meshgrid(x, y, h=.02):\n",
    "    \"\"\"Create a mesh of points to plot in\n",
    "\n",
    "    Parameters\n",
    "    ----------\n",
    "    x: data to base x-axis meshgrid on\n",
    "    y: data to base y-axis meshgrid on\n",
    "    h: stepsize for meshgrid, optional\n",
    "\n",
    "    Returns\n",
    "    -------\n",
    "    xx, yy : ndarray\n",
    "    \"\"\"\n",
    "    x_min, x_max = x.min() - 1, x.max() + 1\n",
    "    y_min, y_max = y.min() - 1, y.max() + 1\n",
    "    xx, yy = np.meshgrid(np.arange(x_min, x_max, h),\n",
    "                         np.arange(y_min, y_max, h))\n",
    "    return xx, yy\n",
    "\n",
    "def plot_contours(clf, xx, yy, **params):\n",
    "    \"\"\"Plot the decision boundaries for a classifier.\n",
    "    \n",
    "    Parameters\n",
    "    ----------\n",
    "    ax: matplotlib axes object\n",
    "    clf: a classifier\n",
    "    xx: meshgrid ndarray\n",
    "    yy: meshgrid ndarray\n",
    "    params: dictionary of params to pass to contourf, optional\n",
    "    \"\"\"\n",
    "    Z = clf.predict(np.c_[xx.ravel(), yy.ravel()])\n",
    "    Z = Z.reshape(xx.shape)\n",
    "    out = plt.contourf(xx, yy, Z, **params)\n",
    "    return out"
   ]
  },
  {
   "cell_type": "code",
   "execution_count": 5,
   "metadata": {},
   "outputs": [
    {
     "name": "stdout",
     "output_type": "stream",
     "text": [
      "Training error =  0.15\n",
      "Testing error =  0.34\n"
     ]
    },
    {
     "data": {
      "image/png": "[encoded data removed]",
      "text/plain": [
       "<Figure size 432x288 with 1 Axes>"
      ]
     },
     "metadata": {
      "needs_background": "light"
     },
     "output_type": "display_data"
    }
   ],
   "source": [
    "# SVC with linear kernel\n",
    "clf = sklearn.svm.SVC(kernel='linear')\n",
    "clf.fit(Xtrain, ytrain)\n",
    "\n",
    "# Training error\n",
    "yfit = clf.predict(Xtrain)\n",
    "err_train = error(yfit, ytrain)\n",
    "print('Training error = ', err_train)\n",
    "\n",
    "# Testing error\n",
    "ypred = clf.predict(Xtest)\n",
    "err_test = error(ypred, ytest)\n",
    "print('Testing error = ', err_test)\n",
    "\n",
    "# Visualization\n",
    "fig = plt.figure()\n",
    "X0, X1 = Xtrain[:, 0], Xtrain[:, 1]\n",
    "xx, yy = make_meshgrid(X0, X1)\n",
    "plot_contours(clf, xx, yy, cmap=plt.cm.GnBu, alpha=0.5)\n",
    "plt.scatter(X0, X1, c=ytrain, cmap=plt.cm.GnBu, s=20, edgecolors='k')\n",
    "plt.xlim(xx.min(), xx.max())\n",
    "plt.ylim(yy.min(), yy.max())\n",
    "plt.xlabel('$x_1$')\n",
    "plt.ylabel('$x_2$')\n",
    "plt.title('linear kernel')\n",
    "plt.show()"
   ]
  },
  {
   "cell_type": "code",
   "execution_count": 6,
   "metadata": {},
   "outputs": [
    {
     "name": "stdout",
     "output_type": "stream",
     "text": [
      "Training error =  0.0\n",
      "Testing error =  0.068\n"
     ]
    },
    {
     "data": {
      "image/png": "[encoded data removed]",
      "text/plain": [
       "<Figure size 432x288 with 1 Axes>"
      ]
     },
     "metadata": {
      "needs_background": "light"
     },
     "output_type": "display_data"
    }
   ],
   "source": [
    "# SVC with RBF kernel\n",
    "clf = sklearn.svm.SVC(kernel='rbf')\n",
    "clf.fit(Xtrain, ytrain)\n",
    "\n",
    "# Training error\n",
    "yfit = clf.predict(Xtrain)\n",
    "err_train = error(yfit, ytrain)\n",
    "print('Training error = ', err_train)\n",
    "\n",
    "# Testing error\n",
    "ypred = clf.predict(Xtest)\n",
    "err_test = error(ypred, ytest)\n",
    "print('Testing error = ', err_test)\n",
    "\n",
    "# Visualization\n",
    "fig = plt.figure()\n",
    "X0, X1 = Xtrain[:, 0], Xtrain[:, 1]\n",
    "xx, yy = make_meshgrid(X0, X1)\n",
    "plot_contours(clf, xx, yy, cmap=plt.cm.GnBu, alpha=0.5)\n",
    "plt.scatter(X0, X1, c=ytrain, cmap=plt.cm.GnBu, s=20, edgecolors='k')\n",
    "plt.xlim(xx.min(), xx.max())\n",
    "plt.ylim(yy.min(), yy.max())\n",
    "plt.xlabel('$x_1$')\n",
    "plt.ylabel('$x_2$')\n",
    "plt.title('RBF kernel')\n",
    "plt.show()"
   ]
  },
  {
   "cell_type": "code",
   "execution_count": 7,
   "metadata": {},
   "outputs": [
    {
     "data": {
      "text/plain": [
       "Text(0.5,0,'Median heuristic')"
      ]
     },
     "execution_count": 7,
     "metadata": {},
     "output_type": "execute_result"
    },
    {
     "data": {
      "image/png": "[encoded data removed]",
      "text/plain": [
       "<Figure size 432x288 with 3 Axes>"
      ]
     },
     "metadata": {
      "needs_background": "light"
     },
     "output_type": "display_data"
    }
   ],
   "source": [
    "# RBF kernels with different sigma\n",
    "# Transform sigma to gamma used by sklearn\n",
    "gam = lambda sig: 1/(2*sig*sig)\n",
    "\n",
    "# sigma very small, very large and median heuristic\n",
    "keyL = ['Very small sigma', 'Very large sigma', 'Median heuristic']\n",
    "sigL = [1e-6, 1e6, np.median(sklearn.metrics.pairwise.euclidean_distances(Xtrain))]\n",
    "KL = [sklearn.metrics.pairwise.rbf_kernel(Xtrain, gamma=gam(sig)) for sig in sigL]\n",
    "\n",
    "# Plot\n",
    "fig, (ax0, ax1, ax2) = plt.subplots(1,3)\n",
    "ax0.matshow(KL[0])\n",
    "ax0.set_xlabel(keyL[0])\n",
    "ax1.matshow(KL[1])\n",
    "ax1.set_xlabel(keyL[1])\n",
    "ax2.matshow(KL[2])\n",
    "ax2.set_xlabel(keyL[2])"
   ]
  },
  {
   "cell_type": "code",
   "execution_count": 8,
   "metadata": {},
   "outputs": [
    {
     "data": {
      "image/png": "[encoded data removed]",
      "text/plain": [
       "<Figure size 432x288 with 1 Axes>"
      ]
     },
     "metadata": {
      "needs_background": "light"
     },
     "output_type": "display_data"
    }
   ],
   "source": [
    "# Train-test error curve\n",
    "plt.figure()\n",
    "CL = 10**np.linspace(-2,2,100)\n",
    "cols = plt.cm.rainbow(np.linspace(0,1,len(sigL)))\n",
    "for j,sig in enumerate(sigL):\n",
    "    err_train = np.zeros(len(CL))\n",
    "    err_test = np.zeros(len(CL))\n",
    "    \n",
    "    for i,C in enumerate(CL):\n",
    "        clf = sklearn.svm.SVC(kernel='rbf',gamma=gam(sig),C=C)\n",
    "        clf.fit(Xtrain, ytrain)\n",
    "        yfit = clf.predict(Xtrain)\n",
    "        err_train[i] = error(yfit, ytrain)\n",
    "        ypred = clf.predict(Xtest)\n",
    "        err_test[i] = error(ypred, ytest)\n",
    "        \n",
    "    plt.plot(CL, err_train, linestyle='--', color=cols[j], label=keyL[j]+' (train)')\n",
    "    plt.plot(CL, err_test, linestyle='-', color=cols[j], label=keyL[j]+' (test)')\n",
    "    \n",
    "plt.legend()\n",
    "plt.xscale('log')\n",
    "plt.show()"
   ]
  },
  {
   "cell_type": "code",
   "execution_count": 9,
   "metadata": {},
   "outputs": [
    {
     "data": {
      "text/plain": [
       "2.2648396885609465e-28"
      ]
     },
     "execution_count": 9,
     "metadata": {},
     "output_type": "execute_result"
    }
   ],
   "source": [
    "# Two ways to train a SVC with RBF kernel\n",
    "# I. With feature matrix\n",
    "clf1 = sklearn.svm.SVC(kernel='rbf', gamma=1, C=1)\n",
    "clf1.fit(Xtrain, ytrain)\n",
    "ymar1 = clf1.decision_function(Xtest)\n",
    "\n",
    "# II. With kernel matrix\n",
    "Ktrain = sklearn.metrics.pairwise.rbf_kernel(Xtrain, Xtrain, gamma=1)\n",
    "clf2 = sklearn.svm.SVC(kernel='precomputed', C=1)\n",
    "clf2.fit(Ktrain, ytrain)\n",
    "Ktest = sklearn.metrics.pairwise.rbf_kernel(Xtest, Xtrain, gamma=1)\n",
    "ymar2 = clf2.decision_function(Ktest)\n",
    "\n",
    "# Compare\n",
    "np.sum((ymar1-ymar2)**2)"
   ]
  },
  {
   "cell_type": "markdown",
   "metadata": {},
   "source": [
    "### Kernel Approximation"
   ]
  },
  {
   "cell_type": "code",
   "execution_count": 10,
   "metadata": {},
   "outputs": [],
   "source": [
    "# Simulate data\n",
    "np.random.seed(54321)\n",
    "p = 2\n",
    "\n",
    "# Training data\n",
    "ntrain = 1000\n",
    "ntrain_pos = int(ntrain/2)\n",
    "ntrain_neg = ntrain - ntrain_pos\n",
    "Xtrain = np.vstack([np.random.normal(0,1,(ntrain_pos,p)),\n",
    "                    np.random.normal(0,10,(ntrain_neg,p))])\n",
    "ytrain = np.concatenate([np.repeat(1,ntrain_pos),\n",
    "                         np.repeat(-1,ntrain_neg)])\n",
    "\n",
    "# Testing data\n",
    "ntest = 1000\n",
    "ntest_pos = int(ntest/2)\n",
    "ntest_neg = ntest - ntest_pos\n",
    "Xtest = np.vstack([np.random.normal(0,1,(ntest_pos,p)),\n",
    "                   np.random.normal(0,10,(ntest_neg,p))])\n",
    "ytest = np.concatenate([np.repeat(1,ntest_pos),\n",
    "                        np.repeat(-1,ntest_neg)])"
   ]
  },
  {
   "cell_type": "code",
   "execution_count": 11,
   "metadata": {},
   "outputs": [
    {
     "name": "stdout",
     "output_type": "stream",
     "text": [
      "Using exact kernel:\n",
      "Training error =  0.038\n",
      "Testing error =  0.047\n",
      "Using Nystrom approximation:\n",
      "Training error =  0.037\n",
      "Testing error =  0.046\n"
     ]
    }
   ],
   "source": [
    "# Exact kernel vs Nystrom approximation\n",
    "gam = 0.01\n",
    "C = 1\n",
    "q = 100\n",
    "\n",
    "# I. Exact kernel\n",
    "print('Using exact kernel:')\n",
    "clf = sklearn.svm.SVC(kernel='rbf', gamma=gam, C=C)\n",
    "clf.fit(Xtrain, ytrain)\n",
    "# Training error\n",
    "yfit = clf.predict(Xtrain)\n",
    "err_train = error(yfit, ytrain)\n",
    "print('Training error = ', err_train)\n",
    "# Testing error\n",
    "ypred = clf.predict(Xtest)\n",
    "err_test = error(ypred, ytest)\n",
    "print('Testing error = ', err_test)\n",
    "\n",
    "# II. Nystrom approximation\n",
    "print('Using Nystrom approximation:')\n",
    "# Nystrom transformer\n",
    "map_nystrom = Nystroem(kernel='rbf', gamma=gam, random_state=1, n_components=q)\n",
    "# Transform training and testing data\n",
    "Xtrain_approx = map_nystrom.fit_transform(Xtrain)\n",
    "Xtest_approx = map_nystrom.fit_transform(Xtest)\n",
    "# Fitting linear SVM\n",
    "clf = sklearn.svm.SVC(kernel='linear', C=C)\n",
    "clf.fit(Xtrain_approx, ytrain)\n",
    "# Training error\n",
    "yfit = clf.predict(Xtrain_approx)\n",
    "err_train = error(yfit, ytrain)\n",
    "print('Training error = ', err_train)\n",
    "# Testing error\n",
    "ypred = clf.predict(Xtest_approx)\n",
    "err_test = error(ypred, ytest)\n",
    "print('Testing error = ', err_test)"
   ]
  },
  {
   "cell_type": "code",
   "execution_count": 12,
   "metadata": {},
   "outputs": [
    {
     "data": {
      "image/png": "[encoded data removed]",
      "text/plain": [
       "<Figure size 432x288 with 1 Axes>"
      ]
     },
     "metadata": {
      "needs_background": "light"
     },
     "output_type": "display_data"
    }
   ],
   "source": [
    "# (Train-)test error curve for list of q\n",
    "gam = 0.01\n",
    "qL = np.arange(10,100,20)\n",
    "CL = 10**np.linspace(-2,2,50)\n",
    "\n",
    "# I. Using exact kernel matrix\n",
    "plt.figure()\n",
    "err_train = np.zeros(len(CL))\n",
    "err_test = np.zeros(len(CL))\n",
    "for i,C in enumerate(CL):\n",
    "    clf = sklearn.svm.SVC(kernel='rbf',gamma=gam,C=C)\n",
    "    clf.fit(Xtrain, ytrain)\n",
    "    yfit = clf.predict(Xtrain)\n",
    "    err_train[i] = error(yfit, ytrain)\n",
    "    ypred = clf.predict(Xtest)\n",
    "    err_test[i] = error(ypred, ytest)\n",
    "# plt.plot(CL, err_train, linestyle='--', color='black', label='Exact (train)')\n",
    "plt.plot(CL, err_test, linestyle='-', color='black', label='Exact (test)')\n",
    "\n",
    "# II. Using approximate kernel matrices\n",
    "cols = plt.cm.rainbow(np.linspace(0,1,len(qL)))\n",
    "for j,q in enumerate(qL):\n",
    "    err_train = np.zeros(len(CL))\n",
    "    err_test = np.zeros(len(CL))\n",
    "    \n",
    "    # Transform training and testing data\n",
    "    map_nystrom = Nystroem(kernel='rbf', gamma=gam, random_state=1, n_components=q)\n",
    "    Xtrain_approx = map_nystrom.fit_transform(Xtrain)\n",
    "    Xtest_approx = map_nystrom.fit_transform(Xtest)\n",
    "    \n",
    "    for i,C in enumerate(CL):\n",
    "        # Fitting linear SVM\n",
    "        clf = sklearn.svm.SVC(kernel='linear', C=C)\n",
    "        clf.fit(Xtrain_approx, ytrain)\n",
    "        yfit = clf.predict(Xtrain_approx)\n",
    "        err_train[i] = error(yfit, ytrain)\n",
    "        ypred = clf.predict(Xtest_approx)\n",
    "        err_test[i] = error(ypred, ytest)\n",
    "    # plt.plot(CL, err_train, linestyle='--', color=cols[j], label='q = '+str(q)+' (train)')\n",
    "    plt.plot(CL, err_test, linestyle='-', color=cols[j], label='q = '+str(q)+' (test)')\n",
    "\n",
    "plt.legend()\n",
    "plt.xscale('log')\n",
    "plt.show()"
   ]
  }
 ],
 "metadata": {
  "kernelspec": {
   "display_name": "Python 3",
   "language": "python",
   "name": "python3"
  },
  "language_info": {
   "codemirror_mode": {
    "name": "ipython",
    "version": 3
   },
   "file_extension": ".py",
   "mimetype": "text/x-python",
   "name": "python",
   "nbconvert_exporter": "python",
   "pygments_lexer": "ipython3",
   "version": "3.7.0"
  }
 },
 "nbformat": 4,
 "nbformat_minor": 2
}
