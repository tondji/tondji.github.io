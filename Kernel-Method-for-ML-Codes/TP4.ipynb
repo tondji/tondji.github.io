{
 "cells": [
  {
   "cell_type": "markdown",
   "metadata": {},
   "source": [
    "# TP4 Kernel Methods for Machine Learning"
   ]
  },
  {
   "cell_type": "code",
   "execution_count": 1,
   "metadata": {},
   "outputs": [],
   "source": [
    "# setup\n",
    "import numpy as np\n",
    "#import pandas as pd\n",
    "from sklearn import linear_model as lm\n",
    "from sklearn.model_selection import cross_val_score as cvs\n",
    "from matplotlib import pyplot as plt\n",
    "%matplotlib inline"
   ]
  },
  {
   "cell_type": "code",
   "execution_count": 2,
   "metadata": {},
   "outputs": [
    {
     "name": "stdout",
     "output_type": "stream",
     "text": [
      "3.6.6 |Anaconda, Inc.| (default, Jun 28 2018, 11:07:29) \n",
      "[GCC 4.2.1 Compatible Clang 4.0.1 (tags/RELEASE_401/final)]\n"
     ]
    }
   ],
   "source": [
    "import sys\n",
    "print(sys.version)"
   ]
  },
  {
   "cell_type": "code",
   "execution_count": 3,
   "metadata": {},
   "outputs": [
    {
     "data": {
      "text/plain": [
       "'0.19.2'"
      ]
     },
     "execution_count": 3,
     "metadata": {},
     "output_type": "execute_result"
    }
   ],
   "source": [
    "import sklearn\n",
    "sklearn.__version__"
   ]
  },
  {
   "cell_type": "markdown",
   "metadata": {},
   "source": [
    "## Tasks"
   ]
  },
  {
   "cell_type": "markdown",
   "metadata": {},
   "source": [
    "1. Generate 20 binary classification samples (10 from each class $y = 1$ and $y = −1$). Use $\\mathbf{x} \\in \\mathbb{R}^2$, for visualization purpose, where each element $x \\sim \\mathcal{N}(\\mu_y,\\sigma^2), \\mu_1 = 0, \\mu_{-1}=1, \\sigma=1$. Generate 1000 separate testing samples from the same distribution. Visualize training data.\n",
    "2. Train a linear SVM with parameter $C = 10$ on the training set, using the function `sklearn.svm.LinearSVC`. Inspect the resulting object (see code).\n",
    "3. Plot the points and the decision boundaries of a linear SVM. Recall: the boundary (separating hyperplane) is the set of points for which $f(x) = 0$. Try different values of $C$, and visualize the effect of $C$ on the margin and number of support vectors.\n",
    "4. Train a linear SVM with values of $C$ between $10^{−3}$ and $1$. Plot and analyze the training and testing classification errors as a function of $C$. Question: Why can't we overfit more?\n",
    "5. Choose $C$ by cross-validation."
   ]
  },
  {
   "cell_type": "markdown",
   "metadata": {},
   "source": [
    "## Solutions"
   ]
  },
  {
   "cell_type": "code",
   "execution_count": 4,
   "metadata": {},
   "outputs": [],
   "source": [
    "# Simulate data\n",
    "np.random.seed(54321)\n",
    "p = 2\n",
    "\n",
    "# Training data\n",
    "ntrain = 20\n",
    "ntrain_pos = int(ntrain/2)\n",
    "ntrain_neg = ntrain - ntrain_pos\n",
    "Xtrain = np.vstack([np.random.normal(0,1,(ntrain_pos,p)),\n",
    "                    np.random.normal(1,1,(ntrain_neg,p))])\n",
    "ytrain = np.concatenate([np.repeat(1,ntrain_pos),\n",
    "                         np.repeat(-1,ntrain_neg)])\n",
    "\n",
    "# Testing data\n",
    "ntest = 1000\n",
    "ntest_pos = int(ntest/2)\n",
    "ntest_neg = ntest - ntest_pos\n",
    "Xtest = np.vstack([np.random.normal(0,1,(ntest_pos,p)),\n",
    "                   np.random.normal(1,1,(ntest_neg,p))])\n",
    "ytest = np.concatenate([np.repeat(1,ntest_pos),\n",
    "                        np.repeat(-1,ntest_neg)])\n",
    "\n",
    "# Prediction error\n",
    "def error(ypred, ytrue):\n",
    "    e = (ypred != ytrue).mean()\n",
    "    return (e)"
   ]
  },
  {
   "cell_type": "code",
   "execution_count": 5,
   "metadata": {},
   "outputs": [
    {
     "data": {
      "image/png": "[encoded data removed]",
      "text/plain": [
       "<Figure size 432x288 with 1 Axes>"
      ]
     },
     "metadata": {
      "needs_background": "light"
     },
     "output_type": "display_data"
    }
   ],
   "source": [
    "# Visualize training data\n",
    "plt.scatter(Xtrain[:,0],Xtrain[:,1],c=ytrain)\n",
    "plt.xlabel('$x_1$')\n",
    "plt.ylabel('$x_2$')\n",
    "plt.show()"
   ]
  },
  {
   "cell_type": "code",
   "execution_count": 6,
   "metadata": {},
   "outputs": [
    {
     "name": "stdout",
     "output_type": "stream",
     "text": [
      "Training error =  0.05\n",
      "Testing error =  0.252\n"
     ]
    },
    {
     "data": {
      "image/png": "[encoded data removed]",
      "text/plain": [
       "<Figure size 432x288 with 1 Axes>"
      ]
     },
     "metadata": {
      "needs_background": "light"
     },
     "output_type": "display_data"
    }
   ],
   "source": [
    "# Parameters\n",
    "C = 10\n",
    "\n",
    "# Training\n",
    "clf = sklearn.svm.LinearSVC(penalty='l2',loss='hinge',C=C)\n",
    "clf.fit(Xtrain, ytrain)\n",
    "clf.__dict__\n",
    "\n",
    "# Training error\n",
    "yfit = clf.predict(Xtrain)\n",
    "err_train = error(yfit, ytrain)\n",
    "print('Training error = ', err_train)\n",
    "\n",
    "# Testing error\n",
    "ypred = clf.predict(Xtest)\n",
    "err_test = error(ypred, ytest)\n",
    "print('Testing error = ', err_test)\n",
    "\n",
    "# Visualize training data and separating hyperplane\n",
    "# Training data\n",
    "plt.scatter(Xtrain[:,0],Xtrain[:,1],c=ytrain)\n",
    "plt.xlabel('$x_1$')\n",
    "plt.ylabel('$x_2$')\n",
    "# Separating hyperplane is b0 + b1*x1 + b2*x2 = 0 where (b1,b2) are coefs and b0 is intercept\n",
    "# Decision boundaries are b0 + b1*x1 + b2*x2 = 1 and b0 + b1*x1 + b2*x2 = -1\n",
    "x1s = np.linspace(Xtrain[:,0].min(),Xtrain[:,0].max(),100)\n",
    "x2s = (-clf.intercept_[0]-clf.coef_[0][0]*x1s)/clf.coef_[0][1]\n",
    "x2sup = (-clf.intercept_[0]-clf.coef_[0][0]*x1s-1)/clf.coef_[0][1]\n",
    "x2slow = (-clf.intercept_[0]-clf.coef_[0][0]*x1s+1)/clf.coef_[0][1]\n",
    "plt.plot(x1s,x2s,'b')\n",
    "plt.plot(x1s,x2sup,'b--')\n",
    "plt.plot(x1s,x2slow,'b--')\n",
    "# Plot\n",
    "plt.show()"
   ]
  },
  {
   "cell_type": "code",
   "execution_count": 7,
   "metadata": {},
   "outputs": [
    {
     "name": "stdout",
     "output_type": "stream",
     "text": [
      "Training error =  0.1\n",
      "Testing error =  0.227\n"
     ]
    }
   ],
   "source": [
    "# Cross validation\n",
    "CL = 10**np.linspace(-3,0,100)\n",
    "cvsL = np.zeros(len(CL))\n",
    "\n",
    "for i,C in enumerate(CL):\n",
    "    clf = sklearn.svm.LinearSVC(penalty='l2',loss='hinge',C=C)\n",
    "    scores = cvs(clf, Xtrain, ytrain, cv=5, scoring='accuracy')\n",
    "    cvsL[i] = scores.mean()\n",
    "ibest = np.argmax(cvsL)\n",
    "Cbest = CL[ibest]\n",
    "\n",
    "# Training with cross-validated C\n",
    "clfbest = sklearn.svm.LinearSVC(penalty='l2',loss='hinge',C=Cbest)\n",
    "clfbest.fit(Xtrain, ytrain)\n",
    "# Training error\n",
    "yfit = clfbest.predict(Xtrain)\n",
    "err_train = error(yfit, ytrain)\n",
    "print('Training error = ', err_train)\n",
    "\n",
    "# Testing error\n",
    "ypred = clfbest.predict(Xtest)\n",
    "err_test = error(ypred, ytest)\n",
    "print('Testing error = ', err_test)"
   ]
  },
  {
   "cell_type": "code",
   "execution_count": 8,
   "metadata": {},
   "outputs": [
    {
     "data": {
      "image/png": "[encoded data removed]",
      "text/plain": [
       "<Figure size 432x288 with 1 Axes>"
      ]
     },
     "metadata": {
      "needs_background": "light"
     },
     "output_type": "display_data"
    }
   ],
   "source": [
    "# Train-test error curve\n",
    "err_train = np.zeros(len(CL))\n",
    "err_test = np.zeros(len(CL))\n",
    "\n",
    "for i,C in enumerate(CL):\n",
    "    # print('C = ', C)\n",
    "    clf = sklearn.svm.LinearSVC(penalty='l2',loss='hinge',C=C)\n",
    "    clf.fit(Xtrain, ytrain)\n",
    "    \n",
    "    # Training error\n",
    "    yfit = clf.predict(Xtrain)\n",
    "    err_train[i] = error(yfit, ytrain)\n",
    "    # print('Training error = ', err_train[i])\n",
    "    \n",
    "    # Testing error\n",
    "    ypred = clf.predict(Xtest)\n",
    "    err_test[i] = error(ypred, ytest)\n",
    "    # print('Testing error = ', err_test[i])\n",
    "\n",
    "# Plot training and testing error as a function of C\n",
    "plt.figure()\n",
    "plt.plot(CL, err_train, label='train')\n",
    "plt.xscale('log')\n",
    "plt.plot(CL, err_test, label='test')\n",
    "plt.legend()\n",
    "plt.scatter(Cbest, err_train[ibest], marker='x', label='train')\n",
    "plt.scatter(Cbest, err_test[ibest], marker='x', label='test')\n",
    "plt.show()"
   ]
  }
 ],
 "metadata": {
  "kernelspec": {
   "display_name": "Python 3",
   "language": "python",
   "name": "python3"
  },
  "language_info": {
   "codemirror_mode": {
    "name": "ipython",
    "version": 3
   },
   "file_extension": ".py",
   "mimetype": "text/x-python",
   "name": "python",
   "nbconvert_exporter": "python",
   "pygments_lexer": "ipython3",
   "version": "3.7.0"
  }
 },
 "nbformat": 4,
 "nbformat_minor": 2
}
